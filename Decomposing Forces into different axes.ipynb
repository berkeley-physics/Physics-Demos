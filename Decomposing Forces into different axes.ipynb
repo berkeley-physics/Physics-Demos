{
 "cells": [
  {
   "cell_type": "markdown",
   "metadata": {},
   "source": [
    "# Decomposing forces into different axes\n",
    "\n",
    "In this lab, we will see that the same vector can be decomposed many different ways. Previously, we chose to decompose vectors into their components along the $x$ and $y$ axes, but here we will see that any choice of axes is valid as long as they are perpendicular to each other. Finally, we will see this in an application to a block on a ramp\n",
    "\n",
    "\n",
    "###### Author: Vincent Su vipasu@berkeley.edu"
   ]
  },
  {
   "cell_type": "code",
   "execution_count": 1,
   "metadata": {},
   "outputs": [],
   "source": [
    "# Import statements\n",
    "# Feel free to ignore this cell!\n",
    "%matplotlib inline\n",
    "import ipywidgets as widgets\n",
    "import matplotlib.pyplot as plt\n",
    "import numpy as np\n",
    "from ipywidgets import interact, interactive, fixed, interact_manual\n",
    "from matplotlib import animation, rc\n",
    "\n",
    "\n",
    "title_size = 25\n",
    "\n",
    "# Helper functions for drawing vectors\n",
    "def draw_vector_component(ax, v_x,v_y, color='blue', origin=[0,0], alpha=1):\n",
    "    ax.arrow(origin[0], origin[1], v_x, v_y,\n",
    "              color=color,\n",
    "              head_width=0.2,\n",
    "              head_length=0.1,\n",
    "              zorder=3,\n",
    "              alpha=alpha)\n",
    "\n",
    "\n",
    "def draw_vector_r_theta(ax, r, theta, color='blue', origin=[0,0], alpha=1):\n",
    "    v_x = r * np.cos(np.deg2rad(theta))\n",
    "    v_y = r * np.sin(np.deg2rad(theta))\n",
    "    draw_vector_component(ax, v_x,v_y, color=color, origin=origin, alpha=alpha)\n",
    "\n",
    "\n",
    "def decompose_vector_axis(v_x, v_y, angle):\n",
    "    v_x_prime = v_x * np.cos(np.deg2rad(angle)) + v_y * np.sin(np.deg2rad(angle))\n",
    "    v_y_prime = -v_x * np.sin(np.deg2rad(angle)) + v_y * np.cos(np.deg2rad(angle))\n",
    "    return v_x_prime, v_y_prime\n",
    "\n",
    "\n",
    "def graph_lims(v_x, v_y):\n",
    "    magnitude = np.sqrt(v_x**2 + v_y**2)    # Pythagorean theorem\n",
    "    if v_y > 0:\n",
    "        ylims = (0, magnitude)\n",
    "    else:\n",
    "        ylims = (-magnitude, 0)\n",
    "    if v_x > 0:\n",
    "        xlims = (0, magnitude)\n",
    "    else:\n",
    "        xlims = (-magnitude, 0)\n",
    "    return xlims, ylims\n",
    "\n",
    "\n",
    "def vector_fig_setup(scale=6):\n",
    "    plt.figure(figsize=(scale,scale))\n",
    "    ax = plt.gca()\n",
    "    for spine in ax.spines.values():  # adjust spines on last active axis \n",
    "        spine.set_position((\"data\", 0))\n",
    "        ax.grid(True)\n",
    "    ax.set_xlim(-5, 5)\n",
    "    ax.set_ylim(-5, 5)\n",
    "    return ax\n",
    "\n",
    "\n",
    "def clear_ax_tick_labels(ax):\n",
    "    ax.get_xaxis().set_ticklabels([])\n",
    "    ax.get_yaxis().set_ticklabels([])\n",
    "\n",
    "\n",
    "def hide_spines(ax):\n",
    "    [s.set_visible(False) for s in ax.spines.values()]"
   ]
  },
  {
   "cell_type": "markdown",
   "metadata": {},
   "source": [
    "## Decomposing a vector (review)\n",
    "\n"
   ]
  },
  {
   "cell_type": "markdown",
   "metadata": {},
   "source": [
    "Let's suppose we start with the following vector $\\vec{v} = 3 \\hat{i} + 4 \\hat{j}$. Equivalently, this could be described as $r = \\sqrt{3^2 + 4^2} = 5$ and $\\theta = \\arctan(4/3)$ from the horizontal.\n",
    "\n"
   ]
  },
  {
   "cell_type": "code",
   "execution_count": 2,
   "metadata": {},
   "outputs": [
    {
     "data": {
      "image/png": "[encoded data removed]",
      "text/plain": [
       "<Figure size 432x432 with 1 Axes>"
      ]
     },
     "metadata": {
      "needs_background": "light"
     },
     "output_type": "display_data"
    }
   ],
   "source": [
    "ax = vector_fig_setup()\n",
    "draw_vector_component(ax, 3, 4, 'black') #full vector\n",
    "x_axis_angle = 0\n",
    "x, y = decompose_vector_axis(3, 4, x_axis_angle)\n",
    "draw_vector_r_theta(ax, x, x_axis_angle, 'blue') # x component\n",
    "draw_vector_r_theta(ax, y, x_axis_angle + 90, 'blue') # y component"
   ]
  },
  {
   "cell_type": "markdown",
   "metadata": {},
   "source": [
    "What we have drawn here are the components of $\\vec{v}$ along the x and y directions. The orange arrow marks how far along the $x$ axis $\\vec{v}$ makes it (AKA the horizontal component). From the diagram, we can see that the length of the horizontal blue arrow is 3. Similarly for the $y$ direction. This precisely matches the our notation $\\vec{v} = 3\\hat{i} + 4\\hat{j}$ since $\\hat{i}$ and $\\hat{j}$ are unit vectors along these two axes!\n",
    "\n"
   ]
  },
  {
   "cell_type": "markdown",
   "metadata": {},
   "source": [
    "## Choosing a different set of axes\n",
    "\n"
   ]
  },
  {
   "cell_type": "markdown",
   "metadata": {},
   "source": [
    "Let's now rotate our $x$ and $y$ axes so they are no longer pointing up and down, but rotated by an angle $\\phi = 30^\\circ$.\n",
    "\n"
   ]
  },
  {
   "cell_type": "code",
   "execution_count": 3,
   "metadata": {},
   "outputs": [
    {
     "data": {
      "image/png": "[encoded data removed]",
      "text/plain": [
       "<Figure size 432x432 with 1 Axes>"
      ]
     },
     "metadata": {
      "needs_background": "light"
     },
     "output_type": "display_data"
    }
   ],
   "source": [
    "ax = vector_fig_setup()\n",
    "magnitude = 4\n",
    "x_angle = 0\n",
    "y_angle = 90\n",
    "draw_vector_r_theta(ax, magnitude, x_angle, 'blue') # x axis\n",
    "draw_vector_r_theta(ax, magnitude, y_angle, 'blue') # y axis\n",
    "\n",
    "# Rotated version\n",
    "rotation_angle = 30\n",
    "draw_vector_r_theta(ax, magnitude, x_angle + rotation_angle, 'red')\n",
    "draw_vector_r_theta(ax, magnitude, y_angle + rotation_angle, 'red')\n",
    "\n",
    "# TODO: add text caption"
   ]
  },
  {
   "cell_type": "markdown",
   "metadata": {},
   "source": [
    "Let's now try to decompose our original vector along these new axes\n",
    "\n",
    "Normally, to switch between $r, \\theta$ and $x, y$, we apply the following identities\n",
    "\n",
    "$$x = r\\sin \\theta\\, , \\, y = r \\cos\\theta$$.\n",
    "\n",
    "Importantly, this $\\theta$ is between the vector and the horizontal axis. Now that we have rotated our axes, we need to take this into account in our picture! Namely,\n",
    "\n",
    "$$\\theta' = \\theta - 30^\\circ$$\n",
    "\n",
    "Note there is a minus sign because the angle shrunk as we rotated the axes a positive amount.\n",
    "\n"
   ]
  },
  {
   "cell_type": "code",
   "execution_count": 4,
   "metadata": {},
   "outputs": [
    {
     "data": {
      "image/png": "[encoded data removed]",
      "text/plain": [
       "<Figure size 432x432 with 1 Axes>"
      ]
     },
     "metadata": {
      "needs_background": "light"
     },
     "output_type": "display_data"
    }
   ],
   "source": [
    "ax = vector_fig_setup()\n",
    "draw_vector_component(ax, 3, 4, 'black') #full vector\n",
    "x_axis_angle = 30\n",
    "x, y = decompose_vector_axis(3, 4, x_axis_angle)\n",
    "draw_vector_r_theta(ax, x, x_axis_angle, 'red') # x component\n",
    "draw_vector_r_theta(ax, y, x_axis_angle + 90, 'red') # y component"
   ]
  },
  {
   "cell_type": "markdown",
   "metadata": {},
   "source": [
    "## Widget for rotating axis\n",
    "\n"
   ]
  },
  {
   "cell_type": "code",
   "execution_count": 5,
   "metadata": {},
   "outputs": [
    {
     "data": {
      "application/vnd.jupyter.widget-view+json": {
       "model_id": "e03ac2c93a874eba85a6046fb8e64ff6",
       "version_major": 2,
       "version_minor": 0
      },
      "text/plain": [
       "interactive(children=(FloatSlider(value=0.0, description='angle (deg)', max=360.0), Output()), _dom_classes=('…"
      ]
     },
     "metadata": {},
     "output_type": "display_data"
    }
   ],
   "source": [
    "@interact(angle=widgets.FloatSlider(0, min=0, max=360, description='angle (deg)'), continuous_update=False)\n",
    "def rotating_axes(angle):\n",
    "    ax = vector_fig_setup()\n",
    "    draw_vector_component(ax, 3, 4, 'black') #full vector\n",
    "    x_axis_angle = angle\n",
    "    x, y = decompose_vector_axis(3, 4, x_axis_angle)\n",
    "    draw_vector_r_theta(ax, x, x_axis_angle, 'purple') # x' component\n",
    "    draw_vector_r_theta(ax, y, x_axis_angle + 90, 'purple') # y' component\n",
    "\n",
    "    magnitude = 4.5\n",
    "    draw_vector_r_theta(ax, magnitude, x_axis_angle, 'red', alpha=0.5) # x' axis\n",
    "    draw_vector_r_theta(ax, magnitude, x_axis_angle + 90, 'red', alpha=0.5) # y' axis"
   ]
  },
  {
   "cell_type": "markdown",
   "metadata": {},
   "source": [
    "### Questions\n",
    "\n"
   ]
  },
  {
   "cell_type": "markdown",
   "metadata": {},
   "source": [
    "-   For what choice of axis rotation does one of the components become zero?\n",
    "-   Can you find any other angles for which this works?\n",
    "-   For what range of angles does the $x'$ component become negative?\n",
    "-   For what range of angles does the $y'$ component become negative?\n",
    "\n"
   ]
  },
  {
   "cell_type": "markdown",
   "metadata": {},
   "source": [
    "## Newton's second law as a vector equation\n",
    "\n"
   ]
  },
  {
   "cell_type": "markdown",
   "metadata": {},
   "source": [
    "NSL relates the net force on an object to mass $\\times$ acceleration.\n",
    "\n",
    "$$\\vec{F}_{\\text{net}} = m \\vec{a}$$\n",
    "\n",
    "This is a vector statement, but in order to make it easier to calculate, we usually work with the *components*. For 2d motion, this will give 2 separate equations that come from analyzing the $x$ and $y$ components individually.\n",
    "\n"
   ]
  },
  {
   "cell_type": "markdown",
   "metadata": {},
   "source": [
    "## Free body for an object sliding on horizontal ground\n",
    "\n"
   ]
  },
  {
   "cell_type": "markdown",
   "metadata": {},
   "source": [
    "Let's consider a crate on the ground that we push horizontally.\n",
    "\n",
    "The free body diagram should have 3 forces on it. The normal force (because the crate is touching the ground), the gravitational force (assuming we are on earth), and the applied force we give it. We are ignoring friction for now, but it is likely there as well!\n",
    "\n"
   ]
  },
  {
   "cell_type": "code",
   "execution_count": 6,
   "metadata": {},
   "outputs": [
    {
     "data": {
      "image/png": "[encoded data removed]",
      "text/plain": [
       "<Figure size 432x432 with 1 Axes>"
      ]
     },
     "metadata": {
      "needs_background": "light"
     },
     "output_type": "display_data"
    }
   ],
   "source": [
    "# Draw FBD\n",
    "ax = vector_fig_setup()\n",
    "draw_vector_component(ax, 0, 4, 'black') # Normal Force (directly up)\n",
    "draw_vector_component(ax, 0, -4, 'black') # Gravitational Force (balanced with Normal force)\n",
    "draw_vector_component(ax, 3, 0, 'black') # Applied force to the right\n",
    "clear_ax_tick_labels(ax)\n",
    "hide_spines(ax)"
   ]
  },
  {
   "cell_type": "markdown",
   "metadata": {},
   "source": [
    "We know that $\\vec{F}_{\\text{net}} = \\vec{F}_N + \\vec{F}_g + \\vec{F}_{\\text{applied}}$ since we have identified these as all the forces acting in the free body diagram.\n",
    "\n",
    "To apply this, we will break it down into components\n",
    "\n",
    "$$ y: {F}_{\\text{net}, y} = {F}_{N,y} + {F}_{g,y} + {F}_{\\text{applied}, y}$$\n",
    "$$ x: {F}_{\\text{net}, x} = {F}_{N,x} + {F}_{g,x} + {F}_{\\text{applied}, x}$$\n",
    "\n",
    "Based on the diagram, all our forces are either directed vertically or horizontally, so this simplifies these equations a bit\n",
    "\n",
    "$$ y: {F}_{\\text{net}, y} = F_N - F_g = m a_y$$\n",
    "$$ x: {F}_{\\text{net}, x} = {F}_{\\text{applied}} = m a_x$$\n",
    "\n",
    "Here is where we use some physical reasoning about the problem. Because the crate is sliding along the ground and doesn't lift off or sink into the ground, there is no acceleration in the $y$ direction, therefore $a_y$ must be zero. (This also tells us that F<sub>N</sub> and F<sub>g</sub> must be balanced in this scenario.)\n",
    "\n",
    "Using the equation for the $x$ component tells us that $a_x = \\frac{F_{\\text{applied}}}{m}$\n",
    "\n",
    "Now that we have both $x$ and $y$ components of $\\vec{a}$, we can reconstruct the vector by $\\vec{a} = a_x \\hat{i} + a_y \\hat{j} = \\frac{F_{\\text{applied}}}{m} \\hat{i}$\n",
    "\n"
   ]
  },
  {
   "cell_type": "markdown",
   "metadata": {},
   "source": [
    "### Key Takeaway\n",
    "\n"
   ]
  },
  {
   "cell_type": "markdown",
   "metadata": {},
   "source": [
    "Here we presented a foolproof method for analyzing the whole system. However, by using our physical reasoning about the system (namely that there was no $y$ acceleration), we could have directly realized that only the $x$ component of the $F_{\\text{net}}$ was relevant for finding the final motion of the crate.\n",
    "\n",
    "This will be very important for the next section\n",
    "\n"
   ]
  },
  {
   "cell_type": "markdown",
   "metadata": {},
   "source": [
    "## Free body for an object sliding on a ramp (using $x,y$)\n",
    "\n"
   ]
  },
  {
   "cell_type": "markdown",
   "metadata": {},
   "source": [
    "Let's now consider the crate that is sliding down a ramp of angle $\\theta$ relative to the horizontal\n",
    "\n"
   ]
  },
  {
   "cell_type": "code",
   "execution_count": 7,
   "metadata": {},
   "outputs": [
    {
     "data": {
      "text/plain": [
       "Text(0.5, 1.0, 'Free body diagram using $x, y$ axes')"
      ]
     },
     "execution_count": 7,
     "metadata": {},
     "output_type": "execute_result"
    },
    {
     "data": {
      "image/png": "[encoded data removed]",
      "text/plain": [
       "<Figure size 432x432 with 1 Axes>"
      ]
     },
     "metadata": {
      "needs_background": "light"
     },
     "output_type": "display_data"
    }
   ],
   "source": [
    "# Draw FBD\n",
    "ax = vector_fig_setup()\n",
    "clear_ax_tick_labels(ax)\n",
    "hide_spines(ax)\n",
    "ramp_angle = 30\n",
    "F_g = 4 # this will be equal to mg\n",
    "# we don't know a priori what the magnitude F_N is\n",
    "# However, we pick a value so we can visualize it\n",
    "F_N = 3 \n",
    "\n",
    "# We do know the angles for each since gravity points down\n",
    "# and the normal force is perpendicular to the surface\n",
    "g_angle = -90\n",
    "N_angle = ramp_angle + 90\n",
    "\n",
    "\n",
    "draw_vector_r_theta(ax, F_g, g_angle, 'black') # Gravitational Force (directly down)\n",
    "draw_vector_r_theta(ax, F_N, N_angle, 'black') # Normal Force (perpendicular to ramp)\n",
    "\n",
    "# draw x and y components for F_N\n",
    "F_Nx = F_N * np.cos(np.deg2rad(N_angle))\n",
    "F_Ny = F_N * np.sin(np.deg2rad(N_angle))\n",
    "draw_vector_component(ax, F_Nx, 0, 'blue', alpha=.5)\n",
    "draw_vector_component(ax, 0, F_Ny, 'blue', alpha=.5)\n",
    "\n",
    "plt.title(\"Free body diagram using $x, y$ axes\", fontsize=title_size)"
   ]
  },
  {
   "cell_type": "markdown",
   "metadata": {},
   "source": [
    "From the FBD, we can again read off that the net force $\\vec{F}_{\\text{net}} = \\vec{F}_N + \\vec{F}_g$ since these are the only two forces in the diagram.\n",
    "\n",
    "Breaking it down into components, we have\n",
    "$$ y: {F}_{\\text{net}, y} = {F}_{N,y} + {F}_{g,y}$$\n",
    "$$ x: {F}_{\\text{net}, x} = {F}_{N,x} + {F}_{g,x}$$\n",
    "\n",
    "The only simplification we get is that $F_g$ is fully along the $y$ axis, leaving us with \n",
    "$$ y: {F}_{\\text{net}, y} = {F}_{N,y} + {F}_{g,y} = m a_y$$\n",
    "$$ x: {F}_{\\text{net}, x} = {F}_{N,x} = m a_x$$\n",
    "\n"
   ]
  },
  {
   "cell_type": "code",
   "execution_count": 8,
   "metadata": {},
   "outputs": [
    {
     "data": {
      "image/png": "[encoded data removed]",
      "text/plain": [
       "<Figure size 432x432 with 1 Axes>"
      ]
     },
     "metadata": {
      "needs_background": "light"
     },
     "output_type": "display_data"
    },
    {
     "data": {
      "image/png": "[encoded data removed]",
      "text/plain": [
       "<Figure size 432x432 with 1 Axes>"
      ]
     },
     "metadata": {
      "needs_background": "light"
     },
     "output_type": "display_data"
    }
   ],
   "source": [
    "# Draw FBD\n",
    "# y component\n",
    "ax1 = vector_fig_setup()\n",
    "clear_ax_tick_labels(ax1)\n",
    "hide_spines(ax1)\n",
    "plt.title(r\"$F_{\\mathrm{net}, y}$\", fontsize=title_size)\n",
    "draw_vector_component(ax1, 0, -F_g, 'black') # Gravitational Force (directly down)\n",
    "draw_vector_component(ax1, 0, F_Ny, 'blue') # Normal Force (perpendicular to ramp)\n",
    "\n",
    "# x component\n",
    "ax2 = vector_fig_setup()\n",
    "clear_ax_tick_labels(ax2)\n",
    "hide_spines(ax2)\n",
    "plt.title(r\"$F_{\\mathrm{net}, x}$\", fontsize=title_size)\n",
    "draw_vector_component(ax2, F_Nx, 0, 'blue') # Normal Force (perpendicular to ramp)"
   ]
  },
  {
   "cell_type": "markdown",
   "metadata": {},
   "source": [
    "At this stage, we have 2 equations and 3 unknowns, $|F_N|, a_y, a_x$. To be able to solve for the variables, we would have to introduce one more piece of information. Here is where we would use our physical reasoning that the block should slide down the ramp. This essentially dictates the angle of the acceleration vector, which tells us that $\\frac{a_y}{a_x} = \\tan \\theta$. \n",
    "\n",
    "With that piece of information, we could then solve the system of equations to find the correct acceleration (and motion of the box). We won't do that here (though you are highly encouraged to finish the calculation on your own if you are looking for more practice!), but instead we will revisit the problem using a different set of coordinates.\n",
    "\n"
   ]
  },
  {
   "cell_type": "markdown",
   "metadata": {},
   "source": [
    "## Free body for an object sliding on a ramp (using $x', y'$)\n",
    "\n"
   ]
  },
  {
   "cell_type": "markdown",
   "metadata": {},
   "source": [
    "In this section we will combine the two lessons from this notebook. The first is that you are free to choose any set of perpendicular axes for decomposing your vectors. The second is incorporating our physical reasoning about how the block must move. We will use the latter to inform our choice of axis!\n",
    "\n",
    "Because we know that the block should slide down the ramp, we know that the acceleration of the block should be *solely* in that direction. Because the acceleration is in that direction, so too must the net force, which means that the component of $F_{\\text{net}}$ in the perpendicular direction must be 0. (See the **key takeaway** from the sliding block earlier)\n",
    "\n",
    "Knowing that the motion is directed along the ramp, we can choose our axes to look like so\n",
    "\n"
   ]
  },
  {
   "cell_type": "code",
   "execution_count": 9,
   "metadata": {},
   "outputs": [
    {
     "data": {
      "text/plain": [
       "Text(0.5, 1.0, \"Free body diagram using $x', y'$ axes\")"
      ]
     },
     "execution_count": 9,
     "metadata": {},
     "output_type": "execute_result"
    },
    {
     "data": {
      "image/png": "[encoded data removed]",
      "text/plain": [
       "<Figure size 432x432 with 1 Axes>"
      ]
     },
     "metadata": {
      "needs_background": "light"
     },
     "output_type": "display_data"
    }
   ],
   "source": [
    "# FBD with x',y' axes\n",
    "ax = vector_fig_setup()\n",
    "clear_ax_tick_labels(ax)\n",
    "hide_spines(ax)\n",
    "ramp_angle = 30\n",
    "F_g = 4 # this will be equal to mg\n",
    "# we don't know a priori what the magnitude F_N is\n",
    "# However, we pick a value so we can visualize it\n",
    "F_N = 3 \n",
    "\n",
    "# We do know the angles for each since gravity points down\n",
    "# and the normal force is perpendicular to the surface\n",
    "g_angle = -90\n",
    "N_angle = ramp_angle + 90\n",
    "\n",
    "\n",
    "draw_vector_r_theta(ax, F_g, g_angle, 'black') # Gravitational Force (directly down)\n",
    "draw_vector_r_theta(ax, F_N, N_angle, 'black') # Normal Force (perpendicular to ramp)\n",
    "\n",
    "# draw x and y components for F_N\n",
    "F_gx, F_gy = decompose_vector_axis(0, -F_g, ramp_angle)\n",
    "draw_vector_r_theta(ax, F_gx, ramp_angle, 'red', alpha=.5)\n",
    "draw_vector_r_theta(ax, F_gy, ramp_angle + 90, 'red', alpha=.5)\n",
    "\n",
    "plt.title(\"Free body diagram using $x', y'$ axes\", fontsize=title_size)"
   ]
  },
  {
   "cell_type": "markdown",
   "metadata": {},
   "source": [
    "Again, we have that $\\vec{F}_{\\text{net}} = \\vec{F}_N + \\vec{F}_g$, since the FBD didn't change, just our choice of axes.\n",
    "\n",
    "Decomposing the vectors onto $x',y'$, we get\n",
    "\n",
    "$$ y': {F}_{\\text{net}, y'} = {F}_{N,y'} + {F}_{g,y'}$$\n",
    "$$ x': {F}_{\\text{net}, x'} = {F}_{N,x'} + {F}_{g,x'}$$\n",
    "\n",
    "Simplifying and using Newton's Second Law, we get\n",
    "\n",
    "$$ y': {F}_{\\text{net}, y'} = {F}_{N} + {F}_{g,y'} = 0$$\n",
    "$$ x': {F}_{\\text{net}, x'} =  {F}_{g,x'} = m a_{x'}$$\n",
    "\n"
   ]
  },
  {
   "cell_type": "code",
   "execution_count": 10,
   "metadata": {},
   "outputs": [
    {
     "data": {
      "image/png": "[encoded data removed]",
      "text/plain": [
       "<Figure size 432x432 with 1 Axes>"
      ]
     },
     "metadata": {
      "needs_background": "light"
     },
     "output_type": "display_data"
    },
    {
     "data": {
      "image/png": "[encoded data removed]",
      "text/plain": [
       "<Figure size 432x432 with 1 Axes>"
      ]
     },
     "metadata": {
      "needs_background": "light"
     },
     "output_type": "display_data"
    }
   ],
   "source": [
    "# Draw FBD componenst\n",
    "# y' component\n",
    "ax1 = vector_fig_setup()\n",
    "clear_ax_tick_labels(ax1)\n",
    "hide_spines(ax1)\n",
    "plt.title(r\"$F_{\\mathrm{net}, y'}$\", fontsize=title_size)\n",
    "draw_vector_r_theta(ax1, F_gy, ramp_angle + 90, 'red') # Gravitational Force (directly down)\n",
    "draw_vector_r_theta(ax1, F_N, ramp_angle + 90, 'black') # Normal Force (perpendicular to ramp)\n",
    "\n",
    "# x' component\n",
    "ax2 = vector_fig_setup()\n",
    "clear_ax_tick_labels(ax2)\n",
    "hide_spines(ax2)\n",
    "plt.title(r\"$F_{\\mathrm{net}, x'}$\", fontsize=title_size)\n",
    "draw_vector_r_theta(ax2, F_gx, ramp_angle, 'red') # Normal Force (perpendicular to ramp)"
   ]
  },
  {
   "cell_type": "markdown",
   "metadata": {},
   "source": [
    "There are a few key differences compared to the last section\n",
    "\n",
    "-   Previously $F_g$ was solely in the $y$ direction, but now has components in both $x',y'$\n",
    "-   Now, $F_N$ is the one that is aligned with the $y'$ axis\n",
    "-   Because there is no motion \"off\" the ramp, we can set the first equation equal to 0!\n",
    "\n",
    "Note that this set of 2 equations only has 2 unknowns, $F_N and a_{x'}$. Thus, we can proceed as normal to solve for the resulting acceleration in the $x'$ direction\n",
    "\n"
   ]
  },
  {
   "cell_type": "markdown",
   "metadata": {},
   "source": [
    "### Why was this simpler than the last one?\n",
    "\n"
   ]
  },
  {
   "cell_type": "markdown",
   "metadata": {},
   "source": [
    "It may seem a big puzzling that the second method seemed to \"unlock\" the correct answer by having 2 equations and 2 unknowns vs 2 equations and 3 unknowns. \n",
    "\n",
    "The difference is simply at what step we had to use our physical reasoning. When decomposing onto the $x,y$ components, we had to relate $a_x$ and $a_y$ using knowledge about the ramp. However, we used that same information in the second approach right from the get-go. It was built into our choice of axes!\n",
    "\n"
   ]
  },
  {
   "cell_type": "markdown",
   "metadata": {},
   "source": [
    "### Takeaway\n",
    "\n"
   ]
  },
  {
   "cell_type": "markdown",
   "metadata": {},
   "source": [
    "Both approaches are equally valid, and you will never get the <span class=\"underline\">wrong</span> answer by following Newton's second law carefully. What we have demonstrated here is that by using this physical knowledge to our advantage, we could make the form of Newton's second law equations a tiny bit easier to solve. This is a skill that we will be revisiting over and over again.\n",
    "\n"
   ]
  }
 ],
 "metadata": {
  "kernelspec": {
   "display_name": "Python 3",
   "language": "python",
   "name": "python3"
  },
  "language_info": {
   "codemirror_mode": {
    "name": "ipython",
    "version": 3
   },
   "file_extension": ".py",
   "mimetype": "text/x-python",
   "name": "python",
   "nbconvert_exporter": "python",
   "pygments_lexer": "ipython3",
   "version": "3.7.4"
  },
  "org": null
 },
 "nbformat": 4,
 "nbformat_minor": 1
}
