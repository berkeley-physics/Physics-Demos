{
 "cells": [
  {
   "cell_type": "markdown",
   "metadata": {},
   "source": [
    "## Instructions\n",
    "\n",
    "To use this notebook, click the \"Cell->Run All\" button in the menu above. Wait ~1 min while the demos load and then play around with the toggles!\n",
    "\n",
    "If you are on mobile\n",
    "- You will need to click the menu button to see the Cell dropdown\n",
    "- Sliders have a hard time dragging. Try clicking on where you want to end up instead"
   ]
  },
  {
   "cell_type": "code",
   "execution_count": null,
   "metadata": {},
   "outputs": [],
   "source": [
    "from __future__ import print_function\n",
    "%matplotlib inline\n",
    "from ipywidgets import interact, interactive, fixed, interact_manual\n",
    "import ipywidgets as widgets\n",
    "import numpy as np\n",
    "import matplotlib.pyplot as plt\n",
    "from matplotlib import animation, rc\n",
    "from IPython.display import HTML\n",
    "import seaborn as sns\n",
    "sns.set_context('poster')"
   ]
  },
  {
   "cell_type": "markdown",
   "metadata": {},
   "source": [
    "# Vector Widgets"
   ]
  },
  {
   "cell_type": "code",
   "execution_count": null,
   "metadata": {},
   "outputs": [],
   "source": [
    "def center_origin(ax):\n",
    "    ax.set_aspect('equal')\n",
    "    off = ['right', 'top']\n",
    "    zeroed = ['left', 'bottom']\n",
    "    for desc in off:\n",
    "        ax.spines[desc].set_color('none')\n",
    "    for desc in zeroed:\n",
    "        ax.spines[desc].set_position('zero')\n",
    "    return ax\n"
   ]
  },
  {
   "cell_type": "code",
   "execution_count": null,
   "metadata": {},
   "outputs": [],
   "source": [
    "@interact(r=widgets.IntSlider(5,0, 10, 1), theta=widgets.IntSlider(30,0, 360, 1), continuous_update=False)\n",
    "def draw_vector_rtheta(r, theta):\n",
    "    \n",
    "    plt.figure(figsize=(8,8))\n",
    "    ax = center_origin(plt.gca())\n",
    "    max_mag = 10.4\n",
    "    ax.set_xlim(-max_mag, max_mag)\n",
    "    ax.set_ylim(-max_mag, max_mag)\n",
    "    ax.set_yticks(np.linspace(-10, 10, 5))\n",
    "    x_component = r * np.cos(np.deg2rad(theta))\n",
    "    y_component = r * np.sin(np.deg2rad(theta))\n",
    "    lw = 8\n",
    "    ax.arrow(0, 0, x_component, y_component, lw=lw, head_width=.2, color='purple')    \n",
    "    plt.title(r\"Vector ($r, \\theta$)\")"
   ]
  },
  {
   "cell_type": "code",
   "execution_count": null,
   "metadata": {},
   "outputs": [],
   "source": [
    "@interact(x=widgets.IntSlider(5,-10, 10, 1),y=widgets.IntSlider(5,-10, 10, 1), continuous_update=False) \n",
    "def draw_vector_xy(x, y):\n",
    "    \n",
    "    plt.figure(figsize=(8,8))\n",
    "    ax = center_origin(plt.gca())\n",
    "    max_mag = 10.5\n",
    "    ax.set_xlim(-max_mag, max_mag)\n",
    "    ax.set_ylim(-max_mag, max_mag)\n",
    "    ax.set_yticks(np.linspace(-10, 10, 5))\n",
    "    lw = 8\n",
    "    ax.arrow(0, 0, x, 0, lw=lw, head_width=.2, color='blue')\n",
    "    ax.arrow(0, 0, 0, y, lw=lw, head_width=.2, color='red')\n",
    "    ax.arrow(0, 0, x, y, lw=lw, head_width=.2, color='purple')\n",
    "    plt.title(\"Vector $(x,y)$\")"
   ]
  }
 ],
 "metadata": {
  "kernelspec": {
   "display_name": "Python 3",
   "language": "python",
   "name": "python3"
  },
  "language_info": {
   "codemirror_mode": {
    "name": "ipython",
    "version": 3
   },
   "file_extension": ".py",
   "mimetype": "text/x-python",
   "name": "python",
   "nbconvert_exporter": "python",
   "pygments_lexer": "ipython3",
   "version": "3.7.3"
  }
 },
 "nbformat": 4,
 "nbformat_minor": 4
}
