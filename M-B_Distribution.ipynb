{
 "cells": [
  {
   "cell_type": "markdown",
   "metadata": {},
   "source": [
    "## Maxwell-Boltzmann distribution\n",
    "\n",
    "In thermodynamics, it's useful to build intuition at both the microscopic and macroscopic levels.  Chapter 17 (of Giancoli) took a big-picture approach to the ideal gas, describing it in terms of several familiar \"state variables\": temperature, pressure, and volume.\n",
    "\n",
    "Chapter 18 looks at the ideal gas on the molecular level, and starts by showing that the average kinetic energy of each gas molecule is proportional to the temperature:\n",
    "\n",
    "$\\overline{K} = \\frac{1}{2}m \\overline{v^2} = \\frac{3}{2}kT$\n",
    "\n",
    "Higher temperature means faster moving molecules (on average).  \n",
    "\n",
    "The [average number of people per family in the US](https://www.statista.com/statistics/183657/average-size-of-a-family-in-the-us/) has been about 3.14 the past few years.  I haven't seen many families with 3.14 people, but 2, 3 or 4 seems pretty common.  Anyways, it's the same case with these gas molecules--they don't all have the same kinetic energy, and they aren't all moving at the same speed.  \n",
    "\n",
    "It's convenient to describe their speeds using a [probability distribution](./Probability_Distributions.ipynb)--a function that tells you how likely it is to find a gas molecule moving within a particular range of speeds.  And that's what the Maxwell-Boltzmann distribution does for us:\n",
    "\n",
    "$p(v) = 4\\pi \\big(\\frac{m}{2 \\pi k T}\\big)^{\\frac{3}{2}} v^2 e^{-\\frac{mv^2}{2kT}}$\n",
    "\n",
    "Just to be clear, the probability of a molecule moving at some exact speed (like $v = 210.326984... $m/s) is 0.  You can't just plug in $v$ to this function and interpret the result as a probability.  You need to consider some range of velocities, $dv$, and then $p(v)*dv$ gives you the probability of a molecule having a speed within this range.  (If you prefer, it's the area under the curve of this function that gives you probabilities.)\n",
    "\n",
    "Equation (18-6) in the book uses $f(v) = N p(v)$ as the Maxwell distribution.  It's the same thing, except for this factor of $N$--the number of gas molecules.  Instead of probabilities, $f(v) dv$ gives you the number of molecules in the velocity range $dv$.  "
   ]
  },
  {
   "cell_type": "markdown",
   "metadata": {},
   "source": [
    "If you haven't done so already, click \"Kernel -> & Run All\" at the top of the notebook.  Below is a plot of the Maxwell-Boltzmann distribution with some temperature and mass sliders; adjust those and see how it changes the shape of the distribution.  The units are: temperature in degrees Kelvin, and the mass of each molecule in amu."
   ]
  },
  {
   "cell_type": "code",
   "execution_count": 1,
   "metadata": {},
   "outputs": [
    {
     "data": {
      "text/html": [
       "<script>\n",
       "code_show=true; \n",
       "function code_toggle() {\n",
       " if (code_show){\n",
       " $('div.input').hide();\n",
       " } else {\n",
       " $('div.input').show();\n",
       " }\n",
       " code_show = !code_show\n",
       "} \n",
       "$( document ).ready(code_toggle);\n",
       "</script>\n",
       "<form action=\"javascript:code_toggle()\"><input type=\"submit\" value=\"Click here to toggle on/off the raw code.\"></form>"
      ],
      "text/plain": [
       "<IPython.core.display.HTML object>"
      ]
     },
     "execution_count": 1,
     "metadata": {},
     "output_type": "execute_result"
    }
   ],
   "source": [
    "from IPython.display import HTML\n",
    "\n",
    "HTML('''<script>\n",
    "code_show=true; \n",
    "function code_toggle() {\n",
    " if (code_show){\n",
    " $('div.input').hide();\n",
    " } else {\n",
    " $('div.input').show();\n",
    " }\n",
    " code_show = !code_show\n",
    "} \n",
    "$( document ).ready(code_toggle);\n",
    "</script>\n",
    "<form action=\"javascript:code_toggle()\"><input type=\"submit\" value=\"Click here to toggle on/off the raw code.\"></form>''')"
   ]
  },
  {
   "cell_type": "code",
   "execution_count": 2,
   "metadata": {},
   "outputs": [
    {
     "data": {
      "application/vnd.jupyter.widget-view+json": {
       "model_id": "d7e36ebac0ef40aea564cf4684191772",
       "version_major": 2,
       "version_minor": 0
      },
      "text/plain": [
       "interactive(children=(IntSlider(value=50, description='Temperature', max=1000, min=1), IntSlider(value=30, des…"
      ]
     },
     "metadata": {},
     "output_type": "display_data"
    },
    {
     "data": {
      "application/vnd.jupyter.widget-view+json": {
       "model_id": "2dafb00f88204492be995378ea7051fb",
       "version_major": 2,
       "version_minor": 0
      },
      "text/plain": [
       "FigureWidget({\n",
       "    'data': [{'line': {'color': 'rgb(16.666666666666668, 0, 0)'},\n",
       "              'mode': 'lines'…"
      ]
     },
     "metadata": {},
     "output_type": "display_data"
    }
   ],
   "source": [
    "import plotly.graph_objects as go\n",
    "from ipywidgets import interact\n",
    "import numpy as np\n",
    "\n",
    "k = 1.38e-23  #Boltzmann constant in kg m^2 / (s^2 K)\n",
    "xs = np.arange(1, 2000)  #\n",
    "\n",
    "def mb_dist(v,T,m):\n",
    "    m = 1.6e-27*m  # convert amu to kg\n",
    "    return 4*np.pi*(m/(2*np.pi*k*T))**1.5*np.exp(-m*v**2/(2*k*T))*v**2\n",
    "\n",
    "# Plotting\n",
    "\n",
    "fig = go.FigureWidget()\n",
    "\n",
    "line = fig.add_trace(go.Scatter(x=xs, y=mb_dist(xs, 50,30),\n",
    "                    mode='lines',\n",
    "                    name='lines'))\n",
    "\n",
    "@interact(Temperature=(1, 1000, 1), mass = (1, 50, 1))\n",
    "def update(Temperature=50, mass=30):\n",
    "    with fig.batch_update():\n",
    "        fig.data[0].y=mb_dist(xs,Temperature,mass)\n",
    "        fig.data[0]['line']['color']='rgb({}, 0, 0)'.format(Temperature/3)\n",
    "\n",
    "# Formatting\n",
    "\n",
    "fig.layout = dict(yaxis=dict(range=[0,0.006]), xaxis=dict(range=[0,2000]), height=600)\n",
    "\n",
    "fig.update_layout(\n",
    "    title={\n",
    "        'text': \"Maxwell-Boltzmann Distribution\",\n",
    "        'y':0.9,\n",
    "        'x':0.5,\n",
    "        'xanchor': 'center',\n",
    "        'yanchor': 'top'})\n",
    "\n",
    "fig.update_xaxes(\n",
    "        title_text = \"molecular speed [m/s]\",\n",
    "        title_standoff = 25,\n",
    "        ticks = 'outside',\n",
    "        ticklen = 10,\n",
    "        tickcolor='white')\n",
    "\n",
    "fig.update_yaxes(\n",
    "        title_text = \"probability density\",\n",
    "        title_standoff = 25,\n",
    "        ticks = 'outside',\n",
    "        ticklen = 10,\n",
    "        tickcolor = 'white')\n",
    "\n",
    "# Display figure\n",
    "fig"
   ]
  },
  {
   "cell_type": "code",
   "execution_count": null,
   "metadata": {},
   "outputs": [],
   "source": []
  }
 ],
 "metadata": {
  "history": [
   {
    "code": "import plotly.express as px\n\ndf = px.data.gapminder()\nfig = px.scatter(df, x=\"gdpPercap\", y=\"lifeExp\", animation_frame=\"year\", animation_group=\"country\",\n           size=\"pop\", color=\"continent\", hover_name=\"country\",\n           log_x=True, size_max=55, range_x=[100,100000], range_y=[25,90])\n\nfig[\"layout\"].pop(\"updatemenus\") # optional, drop animation buttons\nfig.show()",
    "id": "7852846e2e0149d7951d0fb847ce4f33",
    "idx": 3,
    "time": "2021-01-26T20:16:15.935Z",
    "type": "execution"
   },
   {
    "id": "7852846e2e0149d7951d0fb847ce4f33",
    "time": "2021-01-26T20:16:20.355Z",
    "type": "completion"
   },
   {
    "code": "import plotly.express as px\n\ndf = px.data.gapminder()\nfig = px.scatter(df, x=\"gdpPercap\", y=\"lifeExp\", animation_frame=\"year\", animation_group=\"country\",\n           size=\"pop\", color=\"continent\", hover_name=\"country\",\n           log_x=True, size_max=55, range_x=[100,100000], range_y=[25,90])\n\n#fig[\"layout\"].pop(\"updatemenus\") # optional, drop animation buttons\nfig.show()",
    "id": "7852846e2e0149d7951d0fb847ce4f33",
    "idx": 3,
    "time": "2021-01-26T20:16:28.474Z",
    "type": "execution"
   },
   {
    "id": "7852846e2e0149d7951d0fb847ce4f33",
    "time": "2021-01-26T20:16:29.214Z",
    "type": "completion"
   },
   {
    "code": "import plotly.express as px\n\ndf = px.data.gapminder().query(\"country=='Canada'\")\nfig = px.line(df, x=\"year\", y=\"lifeExp\", title='Life expectancy in Canada')\nfig.show()",
    "id": "7852846e2e0149d7951d0fb847ce4f33",
    "idx": 3,
    "time": "2021-01-26T20:18:15.260Z",
    "type": "execution"
   },
   {
    "id": "7852846e2e0149d7951d0fb847ce4f33",
    "time": "2021-01-26T20:18:15.498Z",
    "type": "completion"
   },
   {
    "code": "import plotly.express as px\n\ndf = px.data.gapminder().query(\"country=='Canada'\")\nfig = px.line(df, x=\"year\", y=\"lifeExp\", title='Life expectancy in Canada')\nfig.show()\n\nprint(df)",
    "id": "7852846e2e0149d7951d0fb847ce4f33",
    "idx": 3,
    "time": "2021-01-26T20:18:21.560Z",
    "type": "execution"
   },
   {
    "id": "7852846e2e0149d7951d0fb847ce4f33",
    "time": "2021-01-26T20:18:21.754Z",
    "type": "completion"
   },
   {
    "code": "import plotly.express as px\n\ndf = px.data.gapminder().query(\"country=='Canada'\")\nfig = px.line(df, x=\"year\", y=\"lifeExp\", title='Life expectancy in Canada')\nfig.show()\n\nprint(df[\"x\"])",
    "id": "7852846e2e0149d7951d0fb847ce4f33",
    "idx": 3,
    "time": "2021-01-26T20:18:40.093Z",
    "type": "execution"
   },
   {
    "id": "7852846e2e0149d7951d0fb847ce4f33",
    "time": "2021-01-26T20:18:40.441Z",
    "type": "completion"
   },
   {
    "code": "import plotly.express as px\n\ndf = px.data.gapminder().query(\"country=='Canada'\")\nfig = px.line(df, x=\"year\", y=\"lifeExp\", title='Life expectancy in Canada')\nfig.show()\n\nprint(df.year)",
    "id": "7852846e2e0149d7951d0fb847ce4f33",
    "idx": 3,
    "time": "2021-01-26T20:18:46.443Z",
    "type": "execution"
   },
   {
    "id": "7852846e2e0149d7951d0fb847ce4f33",
    "time": "2021-01-26T20:18:46.628Z",
    "type": "completion"
   },
   {
    "code": "import plotly.express as px\n\nx_values = np.linspace(1, 10, 100)\ny_values = x_values**2\n\n\nfig = px.line(x=x_values, y=y_values, title='Life expectancy in Canada')\nfig.show()\n",
    "id": "7852846e2e0149d7951d0fb847ce4f33",
    "idx": 3,
    "time": "2021-01-26T20:19:56.367Z",
    "type": "execution"
   },
   {
    "id": "7852846e2e0149d7951d0fb847ce4f33",
    "time": "2021-01-26T20:19:56.444Z",
    "type": "completion"
   },
   {
    "code": "import plotly.express as px\nimport numpy as np\n\nx_values = np.linspace(1, 10, 100)\ny_values = x_values**2\n\n\nfig = px.line(x=x_values, y=y_values, title='Life expectancy in Canada')\nfig.show()\n",
    "id": "7852846e2e0149d7951d0fb847ce4f33",
    "idx": 3,
    "time": "2021-01-26T20:20:04.073Z",
    "type": "execution"
   },
   {
    "id": "7852846e2e0149d7951d0fb847ce4f33",
    "time": "2021-01-26T20:20:04.263Z",
    "type": "completion"
   },
   {
    "code": "import plotly.graph_objects as go\nfrom ipywidgets import interact\n\nfig = go.FigureWidget()\nbar = fig.add_bar(x=['x', '1-x'])\nfig.layout = dict(yaxis=dict(range=[0,1]), height=600)\n\n@interact(x=(0, 1, 0.01))\ndef update(x=0.3):\n    with fig.batch_update():\n        bar.y=[x, 1-x]\nfig\n",
    "id": "7852846e2e0149d7951d0fb847ce4f33",
    "idx": 3,
    "time": "2021-01-26T20:39:57.504Z",
    "type": "execution"
   },
   {
    "id": "7852846e2e0149d7951d0fb847ce4f33",
    "time": "2021-01-26T20:40:01.980Z",
    "type": "completion"
   },
   {
    "code": "import plotly.graph_objects as go\nfrom ipywidgets import interact\n\nfig = go.FigureWidget()\nbar = fig.add_bar(x=['x', '1-x'])\nfig.layout = dict(yaxis=dict(range=[0,1]), height=600)\n\n@interact(x=(0, 1, 0.01))\ndef update(x=0.3):\n    with fig.batch_update():\n        fig.data[0].y=[x, 1-x]\nfig\n",
    "id": "7852846e2e0149d7951d0fb847ce4f33",
    "idx": 3,
    "time": "2021-01-26T20:40:42.092Z",
    "type": "execution"
   },
   {
    "id": "7852846e2e0149d7951d0fb847ce4f33",
    "time": "2021-01-26T20:40:42.730Z",
    "type": "completion"
   },
   {
    "code": "import plotly.graph_objects as go\nfrom ipywidgets import interact\n\nfig = go.FigureWidget()\n\nxs = np.linspace(1, 10, 100)\n\nline = fig.add_trace(go.Scatter(x=xs, y=xs**2,\n                    mode='lines',\n                    name='lines'))\n'''\nfig.layout = dict(yaxis=dict(range=[0,1]), height=600)\n\n@interact(n=(1, 2, 0.01))\ndef update(n=1):\n    with fig.batch_update():\n        fig.data[0].y=[x, 1-x]\n        '''\nfig\n",
    "id": "7852846e2e0149d7951d0fb847ce4f33",
    "idx": 3,
    "time": "2021-01-26T20:44:21.185Z",
    "type": "execution"
   },
   {
    "id": "7852846e2e0149d7951d0fb847ce4f33",
    "time": "2021-01-26T20:44:21.394Z",
    "type": "completion"
   },
   {
    "code": "import plotly.graph_objects as go\nfrom ipywidgets import interact\nimport numpy as np\n\nfig = go.FigureWidget()\n\nxs = np.linspace(1, 10, 100)\n\nline = fig.add_trace(go.Scatter(x=xs, y=xs**2,\n                    mode='lines',\n                    name='lines'))\n'''\nfig.layout = dict(yaxis=dict(range=[0,1]), height=600)\n\n@interact(n=(1, 2, 0.01))\ndef update(n=1):\n    with fig.batch_update():\n        fig.data[0].y=[x, 1-x]\n        '''\nfig\n",
    "id": "7852846e2e0149d7951d0fb847ce4f33",
    "idx": 3,
    "time": "2021-01-26T20:44:26.939Z",
    "type": "execution"
   },
   {
    "id": "7852846e2e0149d7951d0fb847ce4f33",
    "time": "2021-01-26T20:44:27.104Z",
    "type": "completion"
   },
   {
    "code": "import plotly.graph_objects as go\nfrom ipywidgets import interact\nimport numpy as np\n\nfig = go.FigureWidget()\n\nxs = np.linspace(1, 10, 100)\n\nline = fig.add_trace(go.Scatter(x=xs, y=xs**2,\n                    mode='lines',\n                    name='lines'))\n\nfig.layout = dict(yaxis=dict(range=[0,1]), height=600)\n'''\n@interact(n=(1, 2, 0.01))\ndef update(n=1):\n    with fig.batch_update():\n        fig.data[0].y=[x, 1-x]\n        '''\nfig\n",
    "id": "7852846e2e0149d7951d0fb847ce4f33",
    "idx": 3,
    "time": "2021-01-26T20:44:38.861Z",
    "type": "execution"
   },
   {
    "id": "7852846e2e0149d7951d0fb847ce4f33",
    "time": "2021-01-26T20:44:39.078Z",
    "type": "completion"
   },
   {
    "code": "import plotly.graph_objects as go\nfrom ipywidgets import interact\nimport numpy as np\n\nfig = go.FigureWidget()\n\nxs = np.linspace(1, 10, 100)\n\nline = fig.add_trace(go.Scatter(x=xs, y=xs**2,\n                    mode='lines',\n                    name='lines'))\n\nfig.layout = dict(height=600)\n'''\n@interact(n=(1, 2, 0.01))\ndef update(n=1):\n    with fig.batch_update():\n        fig.data[0].y=[x, 1-x]\n        '''\nfig\n",
    "id": "7852846e2e0149d7951d0fb847ce4f33",
    "idx": 3,
    "time": "2021-01-26T20:44:52.841Z",
    "type": "execution"
   },
   {
    "id": "7852846e2e0149d7951d0fb847ce4f33",
    "time": "2021-01-26T20:44:53.032Z",
    "type": "completion"
   },
   {
    "code": "import plotly.graph_objects as go\nfrom ipywidgets import interact\nimport numpy as np\n\nfig = go.FigureWidget()\n\nxs = np.linspace(1, 10, 100)\n\nline = fig.add_trace(go.Scatter(x=xs, y=xs**2,\n                    mode='lines',\n                    name='lines'))\n\nfig.layout = dict(height=600)\n\n\n@interact(n=(1, 5, 1))\ndef update(n=1):\n    with fig.batch_update():\n        fig.data[0].y=xs**n\n\nfig\n",
    "id": "7852846e2e0149d7951d0fb847ce4f33",
    "idx": 3,
    "time": "2021-01-26T20:45:33.012Z",
    "type": "execution"
   },
   {
    "id": "7852846e2e0149d7951d0fb847ce4f33",
    "time": "2021-01-26T20:45:33.327Z",
    "type": "completion"
   },
   {
    "code": "import plotly.graph_objects as go\nfrom ipywidgets import interact\nimport numpy as np\n\nfig = go.FigureWidget()\n\nxs = np.linspace(1, 10, 100)\n\nline = fig.add_trace(go.Scatter(x=xs, y=xs**2,\n                    mode='lines',\n                    name='lines'))\n\nfig.layout = dict(height=600)\n\n\n@interact(n=(1, 5, .1))\ndef update(n=1):\n    with fig.batch_update():\n        fig.data[0].y=xs**n\n\nfig\n",
    "id": "7852846e2e0149d7951d0fb847ce4f33",
    "idx": 3,
    "time": "2021-01-26T20:45:52.599Z",
    "type": "execution"
   },
   {
    "id": "7852846e2e0149d7951d0fb847ce4f33",
    "time": "2021-01-26T20:45:52.818Z",
    "type": "completion"
   },
   {
    "code": "import plotly.graph_objects as go\nfrom ipywidgets import interact\nimport numpy as np\n\nk = 1.38e-23  #Boltzmann constant in kg m^2 / (s^2 K)\n\ndef mb_dist(v,T,m):\n    m = 1.6e-27*m  # convert amu to kg\n    return 4*np.pi*(m/(2*np.pi*k*T))**1.5*np.exp(-m*v**2/(2*k*T))*v**2\n\n\nfig = go.FigureWidget()\n\nxs = np.linspace(1, 10, 100)\n\nline = fig.add_trace(go.Scatter(x=xs, y=xs**2,\n                    mode='lines',\n                    name='lines'))\n\nfig.layout = dict(height=600)\n\n\n@interact(n=(1, 5, .1), a = (1, 5, .1))\ndef update(n=1, a = 1):\n    with fig.batch_update():\n        fig.data[0].y=xs**(n + a)\n\nfig\n",
    "id": "7852846e2e0149d7951d0fb847ce4f33",
    "idx": 3,
    "time": "2021-01-26T20:47:03.794Z",
    "type": "execution"
   },
   {
    "id": "7852846e2e0149d7951d0fb847ce4f33",
    "time": "2021-01-26T20:47:04.097Z",
    "type": "completion"
   },
   {
    "code": "from ipywidgets import *\nimport scipy.optimize\n%matplotlib notebook\nfrom ipywidgets import *\nimport numpy as np\nimport matplotlib.pyplot as plt\n\nk = 1.38e-23  #Boltzmann constant in kg m^2 / (s^2 K)\n\ndef mb_dist(v,T,m):\n    m = 1.6e-27*m  # convert amu to kg\n    return 4*np.pi*(m/(2*np.pi*k*T))**1.5*np.exp(-m*v**2/(2*k*T))*v**2\n\nx = np.linspace(0, 1000, int(1e4))\nfig = plt.figure()\nax = fig.add_subplot(1, 1, 1)\nplt.xlabel(\"molecular speed (m/s)\")\nplt.ylabel(\"probability density\")\nline, = ax.plot(x, mb_dist(x, T = 1, m = 1))\n\ndef update(T = 1.0, m = 1.0):\n    line.set_ydata(mb_dist(x, T, m))\n    fig.canvas.draw_idle()\n\ninteract(update, T = (0.1,300,0.1), m = (1, 50, 1));",
    "id": "d8ecda6609fe4ac48034404b6d7d86a7",
    "idx": 2,
    "time": "2021-01-26T20:47:20.636Z",
    "type": "execution"
   },
   {
    "id": "d8ecda6609fe4ac48034404b6d7d86a7",
    "time": "2021-01-26T20:47:21.295Z",
    "type": "completion"
   },
   {
    "code": "import plotly.graph_objects as go\nfrom ipywidgets import interact\nimport numpy as np\n\nk = 1.38e-23  #Boltzmann constant in kg m^2 / (s^2 K)\n\ndef mb_dist(v,T,m):\n    m = 1.6e-27*m  # convert amu to kg\n    return 4*np.pi*(m/(2*np.pi*k*T))**1.5*np.exp(-m*v**2/(2*k*T))*v**2\n\n\nfig = go.FigureWidget()\n\nxs = np.linspace(0, 1000, 1000)\n\nline = fig.add_trace(go.Scatter(x=xs, mb_dist(x, 1,1),\n                    mode='lines',\n                    name='lines'))\n\nfig.layout = dict(height=600)\n\n\n@interact(T=(1, 300, 1), m = (1, 50, 1))\ndef update(T=1, m=1):\n    with fig.batch_update():\n        fig.data[0].y=mb_dist(x,T,m)\n\nfig\n",
    "id": "7852846e2e0149d7951d0fb847ce4f33",
    "idx": 3,
    "time": "2021-01-26T20:49:17.897Z",
    "type": "execution"
   },
   {
    "id": "7852846e2e0149d7951d0fb847ce4f33",
    "time": "2021-01-26T20:49:18.027Z",
    "type": "completion"
   },
   {
    "code": "import plotly.graph_objects as go\nfrom ipywidgets import interact\nimport numpy as np\n\nk = 1.38e-23  #Boltzmann constant in kg m^2 / (s^2 K)\n\ndef mb_dist(v,T,m):\n    m = 1.6e-27*m  # convert amu to kg\n    return 4*np.pi*(m/(2*np.pi*k*T))**1.5*np.exp(-m*v**2/(2*k*T))*v**2\n\n\nfig = go.FigureWidget()\n\nxs = np.linspace(0, 1000, 1000)\n\nline = fig.add_trace(go.Scatter(x=xs, y=mb_dist(x, 1,1),\n                    mode='lines',\n                    name='lines'))\n\nfig.layout = dict(height=600)\n\n\n@interact(T=(1, 300, 1), m = (1, 50, 1))\ndef update(T=1, m=1):\n    with fig.batch_update():\n        fig.data[0].y=mb_dist(x,T,m)\n\nfig\n",
    "id": "7852846e2e0149d7951d0fb847ce4f33",
    "idx": 3,
    "time": "2021-01-26T20:49:25.183Z",
    "type": "execution"
   },
   {
    "id": "7852846e2e0149d7951d0fb847ce4f33",
    "time": "2021-01-26T20:49:25.451Z",
    "type": "completion"
   },
   {
    "code": "import plotly.graph_objects as go\nfrom ipywidgets import interact\nimport numpy as np\n\nk = 1.38e-23  #Boltzmann constant in kg m^2 / (s^2 K)\n\ndef mb_dist(v,T,m):\n    m = 1.6e-27*m  # convert amu to kg\n    return 4*np.pi*(m/(2*np.pi*k*T))**1.5*np.exp(-m*v**2/(2*k*T))*v**2\n\n\nfig = go.FigureWidget()\n\nxs = np.linspace(0, 1000, 1000)\n\nline = fig.add_trace(go.Scatter(x=xs, y=mb_dist(x, 50,1),\n                    mode='lines',\n                    name='lines'))\n\nfig.layout = dict(yaxis=dict(range=[0,0.006]), height=600)\n\n\n@interact(T=(50, 300, 1), m = (1, 50, 1))\ndef update(T=1, m=1):\n    with fig.batch_update():\n        fig.data[0].y=mb_dist(x,T,m)\n\nfig\n",
    "id": "7852846e2e0149d7951d0fb847ce4f33",
    "idx": 3,
    "time": "2021-01-26T20:51:02.256Z",
    "type": "execution"
   },
   {
    "id": "7852846e2e0149d7951d0fb847ce4f33",
    "time": "2021-01-26T20:51:02.533Z",
    "type": "completion"
   },
   {
    "code": "import plotly.graph_objects as go\nfrom ipywidgets import interact\nimport numpy as np\n\nk = 1.38e-23  #Boltzmann constant in kg m^2 / (s^2 K)\n\ndef mb_dist(v,T,m):\n    m = 1.6e-27*m  # convert amu to kg\n    return 4*np.pi*(m/(2*np.pi*k*T))**1.5*np.exp(-m*v**2/(2*k*T))*v**2\n\n\nfig = go.FigureWidget()\n\nxs = np.linspace(0, 1000, 1000)\n\nline = fig.add_trace(go.Scatter(x=xs, y=mb_dist(x, 50,1),\n                    mode='lines',\n                    name='lines'))\n\nfig.layout = dict(yaxis=dict(range=[0,0.006]), height=600)\n\n\n@interact(T=(50, 300, 1), m = (1, 50, 1))\ndef update(T=50, m=1):\n    with fig.batch_update():\n        fig.data[0].y=mb_dist(x,T,m)\n\nfig\n",
    "id": "7852846e2e0149d7951d0fb847ce4f33",
    "idx": 3,
    "time": "2021-01-26T20:51:43.871Z",
    "type": "execution"
   },
   {
    "id": "7852846e2e0149d7951d0fb847ce4f33",
    "time": "2021-01-26T20:51:44.149Z",
    "type": "completion"
   },
   {
    "code": "import plotly.graph_objects as go\nfrom ipywidgets import interact\nimport numpy as np\n\nk = 1.38e-23  #Boltzmann constant in kg m^2 / (s^2 K)\n\ndef mb_dist(v,T,m):\n    m = 1.6e-27*m  # convert amu to kg\n    return 4*np.pi*(m/(2*np.pi*k*T))**1.5*np.exp(-m*v**2/(2*k*T))*v**2\n\n\nfig = go.FigureWidget()\n\nxs = np.linspace(0, 1000, 1000)\n\nline = fig.add_trace(go.Scatter(x=xs, y=mb_dist(x, 50,1),\n                    mode='lines',\n                    name='lines'))\n\nfig.layout = dict(yaxis=dict(range=[0,0.006]), xaxis=dict(range=[0,2000]), height=600)\n\n\n@interact(T=(50, 300, 1), m = (1, 50, 1))\ndef update(T=50, m=1):\n    with fig.batch_update():\n        fig.data[0].y=mb_dist(x,T,m)\n\nfig\n",
    "id": "7852846e2e0149d7951d0fb847ce4f33",
    "idx": 3,
    "time": "2021-01-26T20:52:18.185Z",
    "type": "execution"
   },
   {
    "id": "7852846e2e0149d7951d0fb847ce4f33",
    "time": "2021-01-26T20:52:18.454Z",
    "type": "completion"
   },
   {
    "code": "import plotly.graph_objects as go\nfrom ipywidgets import interact\nimport numpy as np\n\nk = 1.38e-23  #Boltzmann constant in kg m^2 / (s^2 K)\n\ndef mb_dist(v,T,m):\n    m = 1.6e-27*m  # convert amu to kg\n    return 4*np.pi*(m/(2*np.pi*k*T))**1.5*np.exp(-m*v**2/(2*k*T))*v**2\n\n\nfig = go.FigureWidget()\n\nxs = np.linspace(0, 1000, 1000)\n\nline = fig.add_trace(go.Scatter(x=xs, y=mb_dist(x, 0.1,1),\n                    mode='lines',\n                    name='lines'))\n\nfig.layout = dict(yaxis=dict(range=[0,0.006]), xaxis=dict(range=[0,2000]), height=600)\n\n\n@interact(T=(0.1, 300, 0.1), m = (1, 50, 1))\ndef update(T=50, m=1):\n    with fig.batch_update():\n        fig.data[0].y=mb_dist(x,T,m)\n\nfig\n",
    "id": "7852846e2e0149d7951d0fb847ce4f33",
    "idx": 3,
    "time": "2021-01-26T20:52:46.007Z",
    "type": "execution"
   },
   {
    "id": "7852846e2e0149d7951d0fb847ce4f33",
    "time": "2021-01-26T20:52:46.315Z",
    "type": "completion"
   },
   {
    "code": "import plotly.graph_objects as go\nfrom ipywidgets import interact\nimport numpy as np\n\nk = 1.38e-23  #Boltzmann constant in kg m^2 / (s^2 K)\n\ndef mb_dist(v,T,m):\n    m = 1.6e-27*m  # convert amu to kg\n    return 4*np.pi*(m/(2*np.pi*k*T))**1.5*np.exp(-m*v**2/(2*k*T))*v**2\n\n\nfig = go.FigureWidget()\n\nxs = np.linspace(0, 1000, 1000)\n\nline = fig.add_trace(go.Scatter(x=xs, y=mb_dist(x, 50,30),\n                    mode='lines',\n                    name='lines'))\n\nfig.layout = dict(yaxis=dict(range=[0,0.006]), xaxis=dict(range=[0,2000]), height=600)\n\n\n@interact(T=(0.1, 300, 0.1), m = (1, 50, 1))\ndef update(T=50, m=30):\n    with fig.batch_update():\n        fig.data[0].y=mb_dist(x,T,m)\n\nfig\n",
    "id": "7852846e2e0149d7951d0fb847ce4f33",
    "idx": 3,
    "time": "2021-01-26T20:53:19.242Z",
    "type": "execution"
   },
   {
    "id": "7852846e2e0149d7951d0fb847ce4f33",
    "time": "2021-01-26T20:53:19.521Z",
    "type": "completion"
   },
   {
    "code": "from ipywidgets import *\nimport scipy.optimize\n%matplotlib notebook\nfrom ipywidgets import *\nimport numpy as np\nimport matplotlib.pyplot as plt\n\nk = 1.38e-23  #Boltzmann constant in kg m^2 / (s^2 K)\n\ndef mb_dist(v,T,m):\n    m = 1.6e-27*m  # convert amu to kg\n    return 4*np.pi*(m/(2*np.pi*k*T))**1.5*np.exp(-m*v**2/(2*k*T))*v**2\n\nx = np.linspace(0, 1000, int(1e4))\nfig = plt.figure()\nax = fig.add_subplot(1, 1, 1)\nplt.xlabel(\"molecular speed (m/s)\")\nplt.ylabel(\"probability density\")\nline, = ax.plot(x, mb_dist(x, T = 1, m = 1))\n\ndef update(T = 1.0, m = 1.0):\n    line.set_ydata(mb_dist(x, T, m))\n    fig.canvas.draw_idle()\n\ninteract(update, T = (0.1,300,0.1), m = (1, 50, 1));",
    "id": "d8ecda6609fe4ac48034404b6d7d86a7",
    "idx": 2,
    "time": "2021-01-26T20:53:32.235Z",
    "type": "execution"
   },
   {
    "id": "d8ecda6609fe4ac48034404b6d7d86a7",
    "time": "2021-01-26T20:53:32.430Z",
    "type": "completion"
   },
   {
    "code": "import plotly.graph_objects as go\nfrom ipywidgets import interact\nimport numpy as np\n\nk = 1.38e-23  #Boltzmann constant in kg m^2 / (s^2 K)\n\ndef mb_dist(v,T,m):\n    m = 1.6e-27*m  # convert amu to kg\n    return 4*np.pi*(m/(2*np.pi*k*T))**1.5*np.exp(-m*v**2/(2*k*T))*v**2\n\n\nfig = go.FigureWidget()\n\nxs = np.linspace(0, 1000, 10000)\n\nline = fig.add_trace(go.Scatter(x=xs, y=mb_dist(x, 50,30),\n                    mode='lines',\n                    name='lines'))\n\nfig.layout = dict(yaxis=dict(range=[0,0.006]), xaxis=dict(range=[0,2000]), height=600)\n\n\n@interact(T=(0.1, 300, 0.1), m = (1, 50, 1))\ndef update(T=50, m=30):\n    with fig.batch_update():\n        fig.data[0].y=mb_dist(x,T,m)\n\nfig\n",
    "id": "7852846e2e0149d7951d0fb847ce4f33",
    "idx": 3,
    "time": "2021-01-26T20:54:49.013Z",
    "type": "execution"
   },
   {
    "id": "7852846e2e0149d7951d0fb847ce4f33",
    "time": "2021-01-26T20:54:49.297Z",
    "type": "completion"
   },
   {
    "code": "import plotly.graph_objects as go\nfrom ipywidgets import interact\nimport numpy as np\n\nk = 1.38e-23  #Boltzmann constant in kg m^2 / (s^2 K)\n\ndef mb_dist(v,T,m):\n    m = 1.6e-27*m  # convert amu to kg\n    return 4*np.pi*(m/(2*np.pi*k*T))**1.5*np.exp(-m*v**2/(2*k*T))*v**2\n\n\nfig = go.FigureWidget()\n\nxs = np.linspace(0, 1000, 1000)\n\nline = fig.add_trace(go.Scatter(x=xs, y=mb_dist(x, 50,30),\n                    mode='lines',\n                    name='lines'))\n\nfig.layout = dict(yaxis=dict(range=[0,0.006]), xaxis=dict(range=[0,2000]), height=600)\n\n\n@interact(T=(0.1, 300, 0.1), m = (1, 50, 1))\ndef update(T=50, m=30):\n    with fig.batch_update():\n        fig.data[0].y=mb_dist(x,T,m)\n\nfig\n",
    "id": "7852846e2e0149d7951d0fb847ce4f33",
    "idx": 3,
    "time": "2021-01-26T20:55:25.064Z",
    "type": "execution"
   },
   {
    "id": "7852846e2e0149d7951d0fb847ce4f33",
    "time": "2021-01-26T20:55:25.339Z",
    "type": "completion"
   },
   {
    "code": "import plotly.graph_objects as go\nfrom ipywidgets import interact\nimport numpy as np\n\nk = 1.38e-23  #Boltzmann constant in kg m^2 / (s^2 K)\n\ndef mb_dist(v,T,m):\n    m = 1.6e-27*m  # convert amu to kg\n    return 4*np.pi*(m/(2*np.pi*k*T))**1.5*np.exp(-m*v**2/(2*k*T))*v**2\n\n\nfig = go.FigureWidget()\n\nxs = np.linspace(0, 1000, 10000)\n\nline = fig.add_trace(go.Scatter(x=xs, y=mb_dist(x, 50,30),\n                    mode='lines',\n                    name='lines'))\n\nfig.layout = dict(yaxis=dict(range=[0,0.006]), xaxis=dict(range=[0,2000]), height=600)\n\n\n@interact(T=(0.1, 300, 0.1), m = (1, 50, 1))\ndef update(T=50, m=30):\n    with fig.batch_update():\n        fig.data[0].y=mb_dist(x,T,m)\n\nfig\n",
    "id": "7852846e2e0149d7951d0fb847ce4f33",
    "idx": 3,
    "time": "2021-01-26T20:56:02.803Z",
    "type": "execution"
   },
   {
    "id": "7852846e2e0149d7951d0fb847ce4f33",
    "time": "2021-01-26T20:56:03.110Z",
    "type": "completion"
   },
   {
    "code": "from ipywidgets import *\nimport scipy.optimize\n%matplotlib notebook\nfrom ipywidgets import *\nimport numpy as np\nimport matplotlib.pyplot as plt\n\nk = 1.38e-23  #Boltzmann constant in kg m^2 / (s^2 K)\n\ndef mb_dist(v,T,m):\n    m = 1.6e-27*m  # convert amu to kg\n    return 4*np.pi*(m/(2*np.pi*k*T))**1.5*np.exp(-m*v**2/(2*k*T))*v**2\n\nx = np.linspace(0, 1000, int(1e3))\nfig = plt.figure()\nax = fig.add_subplot(1, 1, 1)\nplt.xlabel(\"molecular speed (m/s)\")\nplt.ylabel(\"probability density\")\nline, = ax.plot(x, mb_dist(x, T = 1, m = 1))\n\ndef update(T = 1.0, m = 1.0):\n    line.set_ydata(mb_dist(x, T, m))\n    fig.canvas.draw_idle()\n\ninteract(update, T = (0.1,300,0.1), m = (1, 50, 1));",
    "id": "d8ecda6609fe4ac48034404b6d7d86a7",
    "idx": 2,
    "time": "2021-01-26T20:56:30.650Z",
    "type": "execution"
   },
   {
    "id": "d8ecda6609fe4ac48034404b6d7d86a7",
    "time": "2021-01-26T20:56:30.841Z",
    "type": "completion"
   },
   {
    "code": "import plotly.graph_objects as go\nfrom ipywidgets import interact\nimport numpy as np\n\nk = 1.38e-23  #Boltzmann constant in kg m^2 / (s^2 K)\n\ndef mb_dist(v,T,m):\n    m = 1.6e-27*m  # convert amu to kg\n    return 4*np.pi*(m/(2*np.pi*k*T))**1.5*np.exp(-m*v**2/(2*k*T))*v**2\n\n\nfig = go.FigureWidget()\n\nxs = np.linspace(0, 1000, 10000)\n\nline = fig.add_trace(go.Scatter(x=xs, y=mb_dist(x, 50,30),\n                    mode='lines',\n                    name='lines'))\n\nfig.layout = dict(yaxis=dict(range=[0,0.006]), xaxis=dict(range=[0,2000]), height=600)\n\n\n@interact(T=(0.1, 300, 0.1), m = (1, 50, 1))\ndef update(T=50, m=30):\n    with fig.batch_update():\n        fig.data[0].y=mb_dist(x,T,m)\n\nfig\n",
    "id": "7852846e2e0149d7951d0fb847ce4f33",
    "idx": 3,
    "time": "2021-01-26T20:58:03.759Z",
    "type": "execution"
   },
   {
    "id": "7852846e2e0149d7951d0fb847ce4f33",
    "time": "2021-01-26T20:58:04.116Z",
    "type": "completion"
   },
   {
    "code": "import plotly.graph_objects as go\nfrom ipywidgets import interact\nimport numpy as np\n\nk = 1.38e-23  #Boltzmann constant in kg m^2 / (s^2 K)\n\ndef mb_dist(v,T,m):\n    m = 1.6e-27*m  # convert amu to kg\n    return 4*np.pi*(m/(2*np.pi*k*T))**1.5*np.exp(-m*v**2/(2*k*T))*v**2\n\n\nfig = go.FigureWidget()\n\nxs = np.arange(1, 1000)\n\nline = fig.add_trace(go.Scatter(x=xs, y=mb_dist(x, 50,30),\n                    mode='lines',\n                    name='lines'))\n\nfig.layout = dict(yaxis=dict(range=[0,0.006]), xaxis=dict(range=[0,2000]), height=600)\n\n\n@interact(T=(0.1, 300, 0.1), m = (1, 50, 1))\ndef update(T=50, m=30):\n    with fig.batch_update():\n        fig.data[0].y=mb_dist(x,T,m)\n\nfig\n",
    "id": "7852846e2e0149d7951d0fb847ce4f33",
    "idx": 3,
    "time": "2021-01-26T20:59:37.944Z",
    "type": "execution"
   },
   {
    "id": "7852846e2e0149d7951d0fb847ce4f33",
    "time": "2021-01-26T20:59:38.248Z",
    "type": "completion"
   },
   {
    "code": "import plotly.graph_objects as go\nfrom ipywidgets import interact\nimport numpy as np\n\nk = 1.38e-23  #Boltzmann constant in kg m^2 / (s^2 K)\n\ndef mb_dist(v,T,m):\n    m = 1.6e-27*m  # convert amu to kg\n    return 4*np.pi*(m/(2*np.pi*k*T))**1.5*np.exp(-m*v**2/(2*k*T))*v**2\n\n\nfig = go.FigureWidget()\n\nxs = np.arange(1, 2000)\n\nline = fig.add_trace(go.Scatter(x=xs, y=mb_dist(x, 50,30),\n                    mode='lines',\n                    name='lines'))\n\nfig.layout = dict(yaxis=dict(range=[0,0.006]), xaxis=dict(range=[0,2000]), height=600)\n\n\n@interact(T=(0.1, 300, 0.1), m = (1, 50, 1))\ndef update(T=50, m=30):\n    with fig.batch_update():\n        fig.data[0].y=mb_dist(x,T,m)\n\nfig\n",
    "id": "7852846e2e0149d7951d0fb847ce4f33",
    "idx": 3,
    "time": "2021-01-26T21:00:38.881Z",
    "type": "execution"
   },
   {
    "id": "7852846e2e0149d7951d0fb847ce4f33",
    "time": "2021-01-26T21:00:39.180Z",
    "type": "completion"
   },
   {
    "code": "import plotly.graph_objects as go\nfrom ipywidgets import interact\nimport numpy as np\n\nk = 1.38e-23  #Boltzmann constant in kg m^2 / (s^2 K)\n\ndef mb_dist(v,T,m):\n    m = 1.6e-27*m  # convert amu to kg\n    return 4*np.pi*(m/(2*np.pi*k*T))**1.5*np.exp(-m*v**2/(2*k*T))*v**2\n\n\nfig = go.FigureWidget()\n\nxs = np.arange(1, 2000)\n\nline = fig.add_trace(go.Scatter(x=xs, y=mb_dist(x, 50,30),\n                    mode='lines',\n                    name='lines'))\n\nfig.layout = dict(yaxis=dict(range=[0,0.006]), xaxis=dict(range=[0,2000]), height=600)\n\n\n@interact(T=(0.1, 300, 0.1), m = (1, 50, 1))\ndef update(T=50, m=30):\n    with fig.batch_update():\n        fig.data[0].y=mb_dist(x,T,m)\n\nfig\n",
    "id": "7852846e2e0149d7951d0fb847ce4f33",
    "idx": 3,
    "time": "2021-01-26T21:00:55.639Z",
    "type": "execution"
   },
   {
    "id": "7852846e2e0149d7951d0fb847ce4f33",
    "time": "2021-01-26T21:00:55.921Z",
    "type": "completion"
   },
   {
    "code": "import plotly.graph_objects as go\nfrom ipywidgets import interact\nimport numpy as np\n\nk = 1.38e-23  #Boltzmann constant in kg m^2 / (s^2 K)\n\ndef mb_dist(v,T,m):\n    m = 1.6e-27*m  # convert amu to kg\n    return 4*np.pi*(m/(2*np.pi*k*T))**1.5*np.exp(-m*v**2/(2*k*T))*v**2\n\n\nfig = go.FigureWidget()\n\nxs = np.arange(1, 2000)\n\nline = fig.add_trace(go.Scatter(x=xs, y=mb_dist(x, 50,30),\n                    mode='lines',\n                    name='lines'))\n\nfig.layout = dict(yaxis=dict(range=[0,0.006]), xaxis=dict(range=[0,2000]), height=600)\n\n\n@interact(T=(0.1, 300, 0.1), m = (1, 50, 1))\ndef update(T=50, m=30):\n    with fig.batch_update():\n        fig.data[0].y=mb_dist(x,T,m)\n\nfig\n",
    "id": "7852846e2e0149d7951d0fb847ce4f33",
    "idx": 3,
    "time": "2021-01-26T21:01:45.626Z",
    "type": "execution"
   },
   {
    "id": "7852846e2e0149d7951d0fb847ce4f33",
    "time": "2021-01-26T21:01:46.211Z",
    "type": "completion"
   },
   {
    "code": "import plotly.graph_objects as go\nfrom ipywidgets import interact\nimport numpy as np\n\nk = 1.38e-23  #Boltzmann constant in kg m^2 / (s^2 K)\n\ndef mb_dist(v,T,m):\n    m = 1.6e-27*m  # convert amu to kg\n    return 4*np.pi*(m/(2*np.pi*k*T))**1.5*np.exp(-m*v**2/(2*k*T))*v**2\n\n\nfig = go.FigureWidget()\n\nxs = np.arange(1, 2000)\n\nline = fig.add_trace(go.Scatter(x=xs, y=mb_dist(xs, 50,30),\n                    mode='lines',\n                    name='lines'))\n\nfig.layout = dict(yaxis=dict(range=[0,0.006]), xaxis=dict(range=[0,2000]), height=600)\n\n\n@interact(T=(0.1, 300, 0.1), m = (1, 50, 1))\ndef update(T=50, m=30):\n    with fig.batch_update():\n        fig.data[0].y=mb_dist(x,T,m)\n\nfig\n",
    "id": "7852846e2e0149d7951d0fb847ce4f33",
    "idx": 3,
    "time": "2021-01-26T21:01:56.463Z",
    "type": "execution"
   },
   {
    "id": "7852846e2e0149d7951d0fb847ce4f33",
    "time": "2021-01-26T21:01:56.852Z",
    "type": "completion"
   },
   {
    "code": "import plotly.graph_objects as go\nfrom ipywidgets import interact\nimport numpy as np\n\nk = 1.38e-23  #Boltzmann constant in kg m^2 / (s^2 K)\n\ndef mb_dist(v,T,m):\n    m = 1.6e-27*m  # convert amu to kg\n    return 4*np.pi*(m/(2*np.pi*k*T))**1.5*np.exp(-m*v**2/(2*k*T))*v**2\n\n\nfig = go.FigureWidget()\n\nxs = np.arange(1, 2000)\n\nline = fig.add_trace(go.Scatter(x=xs, y=mb_dist(xs, 50,30),\n                    mode='lines',\n                    name='lines'))\n\nfig.layout = dict(yaxis=dict(range=[0,0.006]), xaxis=dict(range=[0,2000]), height=600)\n\n\n@interact(T=(0.1, 300, 0.1), m = (1, 50, 1))\ndef update(T=50, m=30):\n    with fig.batch_update():\n        fig.data[0].y=mb_dist(xs,T,m)\n\nfig\n",
    "id": "7852846e2e0149d7951d0fb847ce4f33",
    "idx": 3,
    "time": "2021-01-26T21:02:05.282Z",
    "type": "execution"
   },
   {
    "id": "7852846e2e0149d7951d0fb847ce4f33",
    "time": "2021-01-26T21:02:05.653Z",
    "type": "completion"
   },
   {
    "code": "import plotly.graph_objects as go\nfrom ipywidgets import interact\nimport numpy as np\n\nk = 1.38e-23  #Boltzmann constant in kg m^2 / (s^2 K)\n\ndef mb_dist(v,T,m):\n    m = 1.6e-27*m  # convert amu to kg\n    return 4*np.pi*(m/(2*np.pi*k*T))**1.5*np.exp(-m*v**2/(2*k*T))*v**2\n\n\nfig = go.FigureWidget()\n\nxs = np.arange(1, 2000)\n\nline = fig.add_trace(go.Scatter(x=xs, y=mb_dist(xs, 50,30),\n                    mode='lines',\n                    name='lines'))\n\nfig.layout = dict(yaxis=dict(range=[0,0.006]), xaxis=dict(range=[0,2000]), height=600)\n\n\n@interact(T=(0.1, 500, 0.1), m = (1, 50, 1))\ndef update(T=50, m=30):\n    with fig.batch_update():\n        fig.data[0].y=mb_dist(xs,T,m)\n\nfig\n",
    "id": "7852846e2e0149d7951d0fb847ce4f33",
    "idx": 3,
    "time": "2021-01-26T21:03:04.873Z",
    "type": "execution"
   },
   {
    "id": "7852846e2e0149d7951d0fb847ce4f33",
    "time": "2021-01-26T21:03:05.166Z",
    "type": "completion"
   },
   {
    "code": "import plotly.graph_objects as go\nfrom ipywidgets import interact\nimport numpy as np\n\nk = 1.38e-23  #Boltzmann constant in kg m^2 / (s^2 K)\n\ndef mb_dist(v,T,m):\n    m = 1.6e-27*m  # convert amu to kg\n    return 4*np.pi*(m/(2*np.pi*k*T))**1.5*np.exp(-m*v**2/(2*k*T))*v**2\n\n\nfig = go.FigureWidget()\n\nxs = np.arange(1, 2000)\n\nline = fig.add_trace(go.Scatter(x=xs, y=mb_dist(xs, 50,30),\n                    mode='lines',\n                    name='lines'))\n\nfig.layout = dict(yaxis=dict(range=[0,0.006]), xaxis=dict(range=[0,2000]), height=600)\n\n\n@interact(T=(0.1, 500, 0.1), m = (1, 50, 1))\ndef update(T=50, m=30):\n    with fig.batch_update():\n        fig.data[0].y=mb_dist(xs,T,m)\n        fig.data[0]['line']['color']=\"#00ff00\"\n\nfig\n",
    "id": "7852846e2e0149d7951d0fb847ce4f33",
    "idx": 3,
    "time": "2021-01-26T21:05:09.372Z",
    "type": "execution"
   },
   {
    "id": "7852846e2e0149d7951d0fb847ce4f33",
    "time": "2021-01-26T21:05:09.631Z",
    "type": "completion"
   },
   {
    "code": "import plotly.graph_objects as go\nfrom ipywidgets import interact\nimport numpy as np\n\nk = 1.38e-23  #Boltzmann constant in kg m^2 / (s^2 K)\n\ndef mb_dist(v,T,m):\n    m = 1.6e-27*m  # convert amu to kg\n    return 4*np.pi*(m/(2*np.pi*k*T))**1.5*np.exp(-m*v**2/(2*k*T))*v**2\n\n\nfig = go.FigureWidget()\n\nxs = np.arange(1, 2000)\n\nline = fig.add_trace(go.Scatter(x=xs, y=mb_dist(xs, 50,30),\n                    mode='lines',\n                    name='lines'))\n\nfig.layout = dict(yaxis=dict(range=[0,0.006]), xaxis=dict(range=[0,2000]), height=600, opacity = 0)\n\n\n@interact(T=(0.1, 500, 0.1), m = (1, 50, 1))\ndef update(T=50, m=30):\n    with fig.batch_update():\n        fig.data[0].y=mb_dist(xs,T,m)\n        fig.data[0]['line']['color']=\"#00ff00\"\n\nfig\n",
    "id": "7852846e2e0149d7951d0fb847ce4f33",
    "idx": 3,
    "time": "2021-01-26T21:09:08.322Z",
    "type": "execution"
   },
   {
    "id": "7852846e2e0149d7951d0fb847ce4f33",
    "time": "2021-01-26T21:09:08.601Z",
    "type": "completion"
   },
   {
    "code": "import plotly.graph_objects as go\nfrom ipywidgets import interact\nimport numpy as np\n\nk = 1.38e-23  #Boltzmann constant in kg m^2 / (s^2 K)\n\ndef mb_dist(v,T,m):\n    m = 1.6e-27*m  # convert amu to kg\n    return 4*np.pi*(m/(2*np.pi*k*T))**1.5*np.exp(-m*v**2/(2*k*T))*v**2\n\n\nfig = go.FigureWidget()\n\nxs = np.arange(1, 2000)\n\nline = fig.add_trace(go.Scatter(x=xs, y=mb_dist(xs, 50,30),\n                    mode='lines',\n                    name='lines'))\n\nfig.layout = dict(yaxis=dict(range=[0,0.006]), xaxis=dict(range=[0,2000]), height=600, plot_bgcolor = \"white\")\n\n\n@interact(T=(0.1, 500, 0.1), m = (1, 50, 1))\ndef update(T=50, m=30):\n    with fig.batch_update():\n        fig.data[0].y=mb_dist(xs,T,m)\n        fig.data[0]['line']['color']=\"#00ff00\"\n\nfig\n",
    "id": "7852846e2e0149d7951d0fb847ce4f33",
    "idx": 3,
    "time": "2021-01-26T21:10:04.186Z",
    "type": "execution"
   },
   {
    "id": "7852846e2e0149d7951d0fb847ce4f33",
    "time": "2021-01-26T21:10:04.437Z",
    "type": "completion"
   },
   {
    "code": "import plotly.graph_objects as go\nfrom ipywidgets import interact\nimport numpy as np\nimport matplotlib.cm as cm\n\n\nk = 1.38e-23  #Boltzmann constant in kg m^2 / (s^2 K)\n\ndef mb_dist(v,T,m):\n    m = 1.6e-27*m  # convert amu to kg\n    return 4*np.pi*(m/(2*np.pi*k*T))**1.5*np.exp(-m*v**2/(2*k*T))*v**2\n\n\nfig = go.FigureWidget()\n\nxs = np.arange(1, 2000)\n\nline = fig.add_trace(go.Scatter(x=xs, y=mb_dist(xs, 50,30),\n                    mode='lines',\n                    name='lines'))\n\nfig.layout = dict(yaxis=dict(range=[0,0.006]), xaxis=dict(range=[0,2000]), height=600, plot_bgcolor = \"white\")\n\n\n@interact(T=(0.1, 500, 0.1), m = (1, 50, 1))\ndef update(T=50, m=30):\n    with fig.batch_update():\n        fig.data[0].y=mb_dist(xs,T,m)\n        fig.data[0]['line']['color']=cm.hot(T)\n\nfig\n",
    "id": "7852846e2e0149d7951d0fb847ce4f33",
    "idx": 3,
    "time": "2021-01-26T21:11:10.125Z",
    "type": "execution"
   },
   {
    "id": "7852846e2e0149d7951d0fb847ce4f33",
    "time": "2021-01-26T21:11:10.605Z",
    "type": "completion"
   },
   {
    "code": "import plotly.graph_objects as go\nfrom ipywidgets import interact\nimport numpy as np\nimport matplotlib.cm as cm\n\n\nk = 1.38e-23  #Boltzmann constant in kg m^2 / (s^2 K)\n\ndef mb_dist(v,T,m):\n    m = 1.6e-27*m  # convert amu to kg\n    return 4*np.pi*(m/(2*np.pi*k*T))**1.5*np.exp(-m*v**2/(2*k*T))*v**2\n\n\nfig = go.FigureWidget()\n\nxs = np.arange(1, 2000)\n\nline = fig.add_trace(go.Scatter(x=xs, y=mb_dist(xs, 50,30),\n                    mode='lines',\n                    name='lines'))\n\nfig.layout = dict(yaxis=dict(range=[0,0.006]), xaxis=dict(range=[0,2000]), height=600, plot_bgcolor = \"white\")\n\n\n@interact(T=(0.1, 500, 0.1), m = (1, 50, 1))\ndef update(T=50, m=30):\n    with fig.batch_update():\n        fig.data[0].y=mb_dist(xs,T,m)\n        fig.data[0]['line']['color']=rgb(T, 0, 0)\n\nfig\n",
    "id": "7852846e2e0149d7951d0fb847ce4f33",
    "idx": 3,
    "time": "2021-01-26T21:11:47.691Z",
    "type": "execution"
   },
   {
    "id": "7852846e2e0149d7951d0fb847ce4f33",
    "time": "2021-01-26T21:11:47.927Z",
    "type": "completion"
   },
   {
    "code": "import plotly.graph_objects as go\nfrom ipywidgets import interact\nimport numpy as np\nimport matplotlib.cm as cm\n\n\nk = 1.38e-23  #Boltzmann constant in kg m^2 / (s^2 K)\n\ndef mb_dist(v,T,m):\n    m = 1.6e-27*m  # convert amu to kg\n    return 4*np.pi*(m/(2*np.pi*k*T))**1.5*np.exp(-m*v**2/(2*k*T))*v**2\n\n\nfig = go.FigureWidget()\n\nxs = np.arange(1, 2000)\n\nline = fig.add_trace(go.Scatter(x=xs, y=mb_dist(xs, 50,30),\n                    mode='lines',\n                    name='lines'))\n\nfig.layout = dict(yaxis=dict(range=[0,0.006]), xaxis=dict(range=[0,2000]), height=600, plot_bgcolor = \"white\")\n\n\n@interact(T=(0.1, 500, 0.1), m = (1, 50, 1))\ndef update(T=50, m=30):\n    with fig.batch_update():\n        fig.data[0].y=mb_dist(xs,T,m)\n        fig.data[0]['line']['color']='rgb({}, 0, 0)'.format(T)\n\nfig\n",
    "id": "7852846e2e0149d7951d0fb847ce4f33",
    "idx": 3,
    "time": "2021-01-26T21:12:21.487Z",
    "type": "execution"
   },
   {
    "id": "7852846e2e0149d7951d0fb847ce4f33",
    "time": "2021-01-26T21:12:21.787Z",
    "type": "completion"
   },
   {
    "code": "import plotly.graph_objects as go\nfrom ipywidgets import interact\nimport numpy as np\nimport matplotlib.cm as cm\n\n\nk = 1.38e-23  #Boltzmann constant in kg m^2 / (s^2 K)\n\ndef mb_dist(v,T,m):\n    m = 1.6e-27*m  # convert amu to kg\n    return 4*np.pi*(m/(2*np.pi*k*T))**1.5*np.exp(-m*v**2/(2*k*T))*v**2\n\n\nfig = go.FigureWidget()\n\nxs = np.arange(1, 2000)\n\nline = fig.add_trace(go.Scatter(x=xs, y=mb_dist(xs, 50,30),\n                    mode='lines',\n                    name='lines'))\n\nfig.layout = dict(yaxis=dict(range=[0,0.006]), xaxis=dict(range=[0,2000]), height=600, paper_bgcolor = \"white\")\n\n\n@interact(T=(0.1, 500, 0.1), m = (1, 50, 1))\ndef update(T=50, m=30):\n    with fig.batch_update():\n        fig.data[0].y=mb_dist(xs,T,m)\n        fig.data[0]['line']['color']='rgb({}, 0, 0)'.format(T)\n\nfig\n",
    "id": "7852846e2e0149d7951d0fb847ce4f33",
    "idx": 3,
    "time": "2021-01-26T21:17:21.302Z",
    "type": "execution"
   },
   {
    "id": "7852846e2e0149d7951d0fb847ce4f33",
    "time": "2021-01-26T21:17:21.574Z",
    "type": "completion"
   },
   {
    "code": "import plotly.graph_objects as go\nfrom ipywidgets import interact\nimport numpy as np\nimport matplotlib.cm as cm\n\n\nk = 1.38e-23  #Boltzmann constant in kg m^2 / (s^2 K)\n\ndef mb_dist(v,T,m):\n    m = 1.6e-27*m  # convert amu to kg\n    return 4*np.pi*(m/(2*np.pi*k*T))**1.5*np.exp(-m*v**2/(2*k*T))*v**2\n\n\nfig = go.FigureWidget()\n\nxs = np.arange(1, 2000)\n\nline = fig.add_trace(go.Scatter(x=xs, y=mb_dist(xs, 50,30),\n                    mode='lines',\n                    name='lines'))\n\nfig.layout = dict(yaxis=dict(range=[0,0.006]), xaxis=dict(range=[0,2000]), height=600, bgcolor = \"white\")\n\n\n@interact(T=(0.1, 500, 0.1), m = (1, 50, 1))\ndef update(T=50, m=30):\n    with fig.batch_update():\n        fig.data[0].y=mb_dist(xs,T,m)\n        fig.data[0]['line']['color']='rgb({}, 0, 0)'.format(T)\n\nfig\n",
    "id": "7852846e2e0149d7951d0fb847ce4f33",
    "idx": 3,
    "time": "2021-01-26T21:17:28.602Z",
    "type": "execution"
   },
   {
    "id": "7852846e2e0149d7951d0fb847ce4f33",
    "time": "2021-01-26T21:17:28.869Z",
    "type": "completion"
   },
   {
    "code": "import plotly.graph_objects as go\nfrom ipywidgets import interact\nimport numpy as np\nimport matplotlib.cm as cm\n\n\nk = 1.38e-23  #Boltzmann constant in kg m^2 / (s^2 K)\n\ndef mb_dist(v,T,m):\n    m = 1.6e-27*m  # convert amu to kg\n    return 4*np.pi*(m/(2*np.pi*k*T))**1.5*np.exp(-m*v**2/(2*k*T))*v**2\n\n\nfig = go.FigureWidget()\n\nxs = np.arange(1, 2000)\n\nline = fig.add_trace(go.Scatter(x=xs, y=mb_dist(xs, 50,30),\n                    mode='lines',\n                    name='lines'))\n\nfig.layout = dict(yaxis=dict(range=[0,0.006]), xaxis=dict(range=[0,2000]), height=600, plot_bgcolor = \"white\")\n\n\n@interact(T=(0.1, 500, 0.1), m = (1, 50, 1))\ndef update(T=50, m=30):\n    with fig.batch_update():\n        fig.data[0].y=mb_dist(xs,T,m)\n        fig.data[0]['line']['color']='rgb({}, 0, 0)'.format(T)\n        \n        \nfig.update_layout(\n    font_family=\"Open Sans\",\n    font_color=\"black\",\n    title_font_family=\"Times New Roman\",\n    title_font_color=\"red\",\n    legend_title_font_color=\"green\"\n)\n\nfig\n",
    "id": "7852846e2e0149d7951d0fb847ce4f33",
    "idx": 3,
    "time": "2021-01-26T21:21:36.715Z",
    "type": "execution"
   },
   {
    "id": "7852846e2e0149d7951d0fb847ce4f33",
    "time": "2021-01-26T21:21:37.015Z",
    "type": "completion"
   },
   {
    "code": "import plotly.graph_objects as go\nfrom ipywidgets import interact\nimport numpy as np\nimport matplotlib.cm as cm\n\n\nk = 1.38e-23  #Boltzmann constant in kg m^2 / (s^2 K)\n\ndef mb_dist(v,T,m):\n    m = 1.6e-27*m  # convert amu to kg\n    return 4*np.pi*(m/(2*np.pi*k*T))**1.5*np.exp(-m*v**2/(2*k*T))*v**2\n\n\nfig = go.FigureWidget()\n\nxs = np.arange(1, 2000)\n\nline = fig.add_trace(go.Scatter(x=xs, y=mb_dist(xs, 50,30),\n                    mode='lines',\n                    name='lines'))\n\nfig.layout = dict(yaxis=dict(range=[0,0.006]), xaxis=dict(range=[0,2000]), height=600, plot_bgcolor = \"white\")\n\n\n@interact(T=(0.1, 500, 0.1), m = (1, 50, 1))\ndef update(T=50, m=30):\n    with fig.batch_update():\n        fig.data[0].y=mb_dist(xs,T,m)\n        fig.data[0]['line']['color']='rgb({}, 0, 0)'.format(T)\n        \n        \nfig.update_layout(\n    font_family=\"Open Sans\",\n    font_color=\"black\",\n    title_font_family=\"Open Sans\",\n    title_font_color=\"red\",\n    legend_title_font_color=\"green\"\n)\n\nfig\n",
    "id": "7852846e2e0149d7951d0fb847ce4f33",
    "idx": 3,
    "time": "2021-01-26T21:21:48.422Z",
    "type": "execution"
   },
   {
    "id": "7852846e2e0149d7951d0fb847ce4f33",
    "time": "2021-01-26T21:21:48.697Z",
    "type": "completion"
   },
   {
    "code": "import plotly.graph_objects as go\nfrom ipywidgets import interact\nimport numpy as np\nimport matplotlib.cm as cm\n\n\nk = 1.38e-23  #Boltzmann constant in kg m^2 / (s^2 K)\n\ndef mb_dist(v,T,m):\n    m = 1.6e-27*m  # convert amu to kg\n    return 4*np.pi*(m/(2*np.pi*k*T))**1.5*np.exp(-m*v**2/(2*k*T))*v**2\n\n\nfig = go.FigureWidget()\n\nxs = np.arange(1, 2000)\n\nline = fig.add_trace(go.Scatter(x=xs, y=mb_dist(xs, 50,30),\n                    mode='lines',\n                    name='lines'))\n\nfig.layout = dict(yaxis=dict(range=[0,0.006]), xaxis=dict(range=[0,2000]), height=600)\n\n\n@interact(T=(0.1, 500, 0.1), m = (1, 50, 1))\ndef update(T=50, m=30):\n    with fig.batch_update():\n        fig.data[0].y=mb_dist(xs,T,m)\n        fig.data[0]['line']['color']='rgb({}, 0, 0)'.format(T)\n        \n        \nfig.update_layout(\n    font_family=\"Open Sans\",\n    font_color=\"black\",\n    title_font_family=\"Open Sans\",\n    title_font_color=\"red\",\n    legend_title_font_color=\"green\"\n)\n\nfig\n",
    "id": "7852846e2e0149d7951d0fb847ce4f33",
    "idx": 3,
    "time": "2021-01-26T21:22:05.581Z",
    "type": "execution"
   },
   {
    "id": "7852846e2e0149d7951d0fb847ce4f33",
    "time": "2021-01-26T21:22:05.822Z",
    "type": "completion"
   },
   {
    "code": "import plotly.graph_objects as go\nfrom ipywidgets import interact\nimport numpy as np\nimport matplotlib.cm as cm\n\n\nk = 1.38e-23  #Boltzmann constant in kg m^2 / (s^2 K)\n\ndef mb_dist(v,T,m):\n    m = 1.6e-27*m  # convert amu to kg\n    return 4*np.pi*(m/(2*np.pi*k*T))**1.5*np.exp(-m*v**2/(2*k*T))*v**2\n\n\nfig = go.FigureWidget()\n\nxs = np.arange(1, 2000)\n\nline = fig.add_trace(go.Scatter(x=xs, y=mb_dist(xs, 50,30),\n                    mode='lines',\n                    name='lines'))\n\nfig.layout = dict(yaxis=dict(range=[0,0.006]), xaxis=dict(range=[0,2000]), height=600)\n\n\n@interact(T=(0.1, 500, 0.1), m = (1, 50, 1))\ndef update(T=50, m=30):\n    with fig.batch_update():\n        fig.data[0].y=mb_dist(xs,T,m)\n        fig.data[0]['line']['color']='rgb({}, 0, 0)'.format(T)\n        \n        \nfig.update_layout(\n    font_family=\"Open Sans\",\n    font_color=\"black\",\n    title_font_family=\"Open Sans\",\n    title_font_color=\"red\",\n    legend_title_font_color=\"green\"\n    font_size=16\n)\n\nfig\n",
    "id": "7852846e2e0149d7951d0fb847ce4f33",
    "idx": 3,
    "time": "2021-01-26T21:22:24.211Z",
    "type": "execution"
   },
   {
    "id": "7852846e2e0149d7951d0fb847ce4f33",
    "time": "2021-01-26T21:22:24.289Z",
    "type": "completion"
   },
   {
    "code": "import plotly.graph_objects as go\nfrom ipywidgets import interact\nimport numpy as np\nimport matplotlib.cm as cm\n\n\nk = 1.38e-23  #Boltzmann constant in kg m^2 / (s^2 K)\n\ndef mb_dist(v,T,m):\n    m = 1.6e-27*m  # convert amu to kg\n    return 4*np.pi*(m/(2*np.pi*k*T))**1.5*np.exp(-m*v**2/(2*k*T))*v**2\n\n\nfig = go.FigureWidget()\n\nxs = np.arange(1, 2000)\n\nline = fig.add_trace(go.Scatter(x=xs, y=mb_dist(xs, 50,30),\n                    mode='lines',\n                    name='lines'))\n\nfig.layout = dict(yaxis=dict(range=[0,0.006]), xaxis=dict(range=[0,2000]), height=600)\n\n\n@interact(T=(0.1, 500, 0.1), m = (1, 50, 1))\ndef update(T=50, m=30):\n    with fig.batch_update():\n        fig.data[0].y=mb_dist(xs,T,m)\n        fig.data[0]['line']['color']='rgb({}, 0, 0)'.format(T)\n        \n        \nfig.update_layout(\n    font_family=\"Open Sans\",\n    font_color=\"black\",\n    title_font_family=\"Open Sans\",\n    title_font_color=\"red\",\n    legend_title_font_color=\"green\",\n    font_size=16\n)\n\nfig\n",
    "id": "7852846e2e0149d7951d0fb847ce4f33",
    "idx": 3,
    "time": "2021-01-26T21:22:27.877Z",
    "type": "execution"
   },
   {
    "id": "7852846e2e0149d7951d0fb847ce4f33",
    "time": "2021-01-26T21:22:28.111Z",
    "type": "completion"
   },
   {
    "code": "import plotly.graph_objects as go\nfrom ipywidgets import interact\nimport numpy as np\nimport matplotlib.cm as cm\n\n\nk = 1.38e-23  #Boltzmann constant in kg m^2 / (s^2 K)\n\ndef mb_dist(v,T,m):\n    m = 1.6e-27*m  # convert amu to kg\n    return 4*np.pi*(m/(2*np.pi*k*T))**1.5*np.exp(-m*v**2/(2*k*T))*v**2\n\n\nfig = go.FigureWidget()\n\nxs = np.arange(1, 2000)\n\nline = fig.add_trace(go.Scatter(x=xs, y=mb_dist(xs, 50,30),\n                    mode='lines',\n                    name='lines'))\n\nfig.layout = dict(yaxis=dict(range=[0,0.006]), xaxis=dict(range=[0,2000]), height=600)\n\n\n@interact(T=(0.1, 500, 0.1), m = (1, 50, 1))\ndef update(T=50, m=30):\n    with fig.batch_update():\n        fig.data[0].y=mb_dist(xs,T,m)\n        fig.data[0]['line']['color']='rgb({}, 0, 0)'.format(T)\n        \n        \nfig.update_layout(\n    font_family=\"Lato\",\n    font_color=\"black\",\n    title_font_family=\"Lato\",\n    title_font_color=\"red\",\n    legend_title_font_color=\"green\",\n    font_size=16\n)\n\nfig\n",
    "id": "7852846e2e0149d7951d0fb847ce4f33",
    "idx": 3,
    "time": "2021-01-26T21:22:54.585Z",
    "type": "execution"
   },
   {
    "id": "7852846e2e0149d7951d0fb847ce4f33",
    "time": "2021-01-26T21:22:54.816Z",
    "type": "completion"
   },
   {
    "code": "import plotly.graph_objects as go\nfrom ipywidgets import interact\nimport numpy as np\nimport matplotlib.cm as cm\n\n\nk = 1.38e-23  #Boltzmann constant in kg m^2 / (s^2 K)\n\ndef mb_dist(v,T,m):\n    m = 1.6e-27*m  # convert amu to kg\n    return 4*np.pi*(m/(2*np.pi*k*T))**1.5*np.exp(-m*v**2/(2*k*T))*v**2\n\n\nfig = go.FigureWidget()\n\nxs = np.arange(1, 2000)\n\nline = fig.add_trace(go.Scatter(x=xs, y=mb_dist(xs, 50,30),\n                    mode='lines',\n                    name='lines'),\n                     labels={\n                     \"sepal_length\": \"Sepal Length (cm)\",\n                     \"sepal_width\": \"Sepal Width (cm)\",\n                     \"species\": \"Species of Iris\"\n                 },\n                title=\"Manually Specified Labels\"\n                    \n                    \n                    \n                    \n                    )\n\nfig.layout = dict(yaxis=dict(range=[0,0.006]), xaxis=dict(range=[0,2000]), height=600)\n\n\n@interact(T=(0.1, 500, 0.1), m = (1, 50, 1))\ndef update(T=50, m=30):\n    with fig.batch_update():\n        fig.data[0].y=mb_dist(xs,T,m)\n        fig.data[0]['line']['color']='rgb({}, 0, 0)'.format(T)\n        \n        \nfig.update_layout(\n    font_family=\"Lato\",\n    font_color=\"black\",\n    title_font_family=\"Lato\",\n    title_font_color=\"red\",\n    legend_title_font_color=\"green\",\n    font_size=16\n)\n\nfig\n",
    "id": "7852846e2e0149d7951d0fb847ce4f33",
    "idx": 3,
    "time": "2021-01-26T21:23:53.629Z",
    "type": "execution"
   },
   {
    "id": "7852846e2e0149d7951d0fb847ce4f33",
    "time": "2021-01-26T21:23:53.775Z",
    "type": "completion"
   },
   {
    "code": "import plotly.graph_objects as go\nfrom ipywidgets import interact\nimport numpy as np\nimport matplotlib.cm as cm\n\n\nk = 1.38e-23  #Boltzmann constant in kg m^2 / (s^2 K)\n\ndef mb_dist(v,T,m):\n    m = 1.6e-27*m  # convert amu to kg\n    return 4*np.pi*(m/(2*np.pi*k*T))**1.5*np.exp(-m*v**2/(2*k*T))*v**2\n\n\nfig = go.FigureWidget()\n\nxs = np.arange(1, 2000)\n\nline = fig.add_trace(go.Scatter(x=xs, y=mb_dist(xs, 50,30),\n                    mode='lines',\n                    name='lines',\n                     labels={\n                     \"sepal_length\": \"Sepal Length (cm)\",\n                     \"sepal_width\": \"Sepal Width (cm)\",\n                     \"species\": \"Species of Iris\"\n                 },\n                title=\"Manually Specified Labels\"\n                    \n                    \n                    \n                    \n                    )\n\nfig.layout = dict(yaxis=dict(range=[0,0.006]), xaxis=dict(range=[0,2000]), height=600)\n\n\n@interact(T=(0.1, 500, 0.1), m = (1, 50, 1))\ndef update(T=50, m=30):\n    with fig.batch_update():\n        fig.data[0].y=mb_dist(xs,T,m)\n        fig.data[0]['line']['color']='rgb({}, 0, 0)'.format(T)\n        \n        \nfig.update_layout(\n    font_family=\"Lato\",\n    font_color=\"black\",\n    title_font_family=\"Lato\",\n    title_font_color=\"red\",\n    legend_title_font_color=\"green\",\n    font_size=16\n)\n\nfig\n",
    "id": "7852846e2e0149d7951d0fb847ce4f33",
    "idx": 3,
    "time": "2021-01-26T21:24:19.847Z",
    "type": "execution"
   },
   {
    "id": "7852846e2e0149d7951d0fb847ce4f33",
    "time": "2021-01-26T21:24:19.920Z",
    "type": "completion"
   },
   {
    "code": "import plotly.graph_objects as go\nfrom ipywidgets import interact\nimport numpy as np\nimport matplotlib.cm as cm\n\n\nk = 1.38e-23  #Boltzmann constant in kg m^2 / (s^2 K)\n\ndef mb_dist(v,T,m):\n    m = 1.6e-27*m  # convert amu to kg\n    return 4*np.pi*(m/(2*np.pi*k*T))**1.5*np.exp(-m*v**2/(2*k*T))*v**2\n\n\nfig = go.FigureWidget()\n\nxs = np.arange(1, 2000)\n\nline = fig.add_trace(go.Scatter(x=xs, y=mb_dist(xs, 50,30),\n                    mode='lines',\n                    name='lines',\n                     labels={\n                     \"sepal_length\": \"Sepal Length (cm)\",\n                     \"sepal_width\": \"Sepal Width (cm)\",\n                     \"species\": \"Species of Iris\"},\n                    title=\"Manually Specified Labels\")\n\nfig.layout = dict(yaxis=dict(range=[0,0.006]), xaxis=dict(range=[0,2000]), height=600)\n\n\n@interact(T=(0.1, 500, 0.1), m = (1, 50, 1))\ndef update(T=50, m=30):\n    with fig.batch_update():\n        fig.data[0].y=mb_dist(xs,T,m)\n        fig.data[0]['line']['color']='rgb({}, 0, 0)'.format(T)\n        \n        \nfig.update_layout(\n    font_family=\"Lato\",\n    font_color=\"black\",\n    title_font_family=\"Lato\",\n    title_font_color=\"red\",\n    legend_title_font_color=\"green\",\n    font_size=16\n)\n\nfig\n",
    "id": "7852846e2e0149d7951d0fb847ce4f33",
    "idx": 3,
    "time": "2021-01-26T21:24:40.333Z",
    "type": "execution"
   },
   {
    "id": "7852846e2e0149d7951d0fb847ce4f33",
    "time": "2021-01-26T21:24:40.402Z",
    "type": "completion"
   },
   {
    "code": "import plotly.graph_objects as go\nfrom ipywidgets import interact\nimport numpy as np\nimport matplotlib.cm as cm\n\n\nk = 1.38e-23  #Boltzmann constant in kg m^2 / (s^2 K)\n\ndef mb_dist(v,T,m):\n    m = 1.6e-27*m  # convert amu to kg\n    return 4*np.pi*(m/(2*np.pi*k*T))**1.5*np.exp(-m*v**2/(2*k*T))*v**2\n\n\nfig = go.FigureWidget()\n\nxs = np.arange(1, 2000)\n\nline = fig.add_trace(go.Scatter(x=xs, y=mb_dist(xs, 50,30),\n                    mode='lines',\n                    name='lines',\n                     labels={\n                     \"sepal_length\": \"Sepal Length (cm)\",\n                     \"sepal_width\": \"Sepal Width (cm)\",\n                     \"species\": \"Species of Iris\"},\n                    title=\"Manually Specified Labels\"))\n\nfig.layout = dict(yaxis=dict(range=[0,0.006]), xaxis=dict(range=[0,2000]), height=600)\n\n\n@interact(T=(0.1, 500, 0.1), m = (1, 50, 1))\ndef update(T=50, m=30):\n    with fig.batch_update():\n        fig.data[0].y=mb_dist(xs,T,m)\n        fig.data[0]['line']['color']='rgb({}, 0, 0)'.format(T)\n        \n        \nfig.update_layout(\n    font_family=\"Lato\",\n    font_color=\"black\",\n    title_font_family=\"Lato\",\n    title_font_color=\"red\",\n    legend_title_font_color=\"green\",\n    font_size=16\n)\n\nfig\n",
    "id": "7852846e2e0149d7951d0fb847ce4f33",
    "idx": 3,
    "time": "2021-01-26T21:24:45.263Z",
    "type": "execution"
   },
   {
    "id": "7852846e2e0149d7951d0fb847ce4f33",
    "time": "2021-01-26T21:24:45.503Z",
    "type": "completion"
   },
   {
    "code": "import plotly.graph_objects as go\nfrom ipywidgets import interact\nimport numpy as np\nimport matplotlib.cm as cm\n\n\nk = 1.38e-23  #Boltzmann constant in kg m^2 / (s^2 K)\n\ndef mb_dist(v,T,m):\n    m = 1.6e-27*m  # convert amu to kg\n    return 4*np.pi*(m/(2*np.pi*k*T))**1.5*np.exp(-m*v**2/(2*k*T))*v**2\n\n\nfig = go.FigureWidget()\n\nxs = np.arange(1, 2000)\n\nline = fig.add_trace(go.Scatter(x=xs, y=mb_dist(xs, 50,30),\n                    mode='lines',\n                    name='lines',\n                    labels={\n                     \"sepal_length\": \"Sepal Length (cm)\",\n                     \"sepal_width\": \"Sepal Width (cm)\",\n                     \"species\": \"Species of Iris\"},\n                    title=\"Manually Specified Labels\"))\n\nfig.layout = dict(yaxis=dict(range=[0,0.006]), xaxis=dict(range=[0,2000]), height=600)\n\n\n@interact(T=(0.1, 500, 0.1), m = (1, 50, 1))\ndef update(T=50, m=30):\n    with fig.batch_update():\n        fig.data[0].y=mb_dist(xs,T,m)\n        fig.data[0]['line']['color']='rgb({}, 0, 0)'.format(T)\n        \n        \nfig.update_layout(\n    font_family=\"Lato\",\n    font_color=\"black\",\n    title_font_family=\"Lato\",\n    title_font_color=\"red\",\n    legend_title_font_color=\"green\",\n    font_size=16\n)\n\nfig\n",
    "id": "7852846e2e0149d7951d0fb847ce4f33",
    "idx": 3,
    "time": "2021-01-26T21:24:56.658Z",
    "type": "execution"
   },
   {
    "id": "7852846e2e0149d7951d0fb847ce4f33",
    "time": "2021-01-26T21:24:56.914Z",
    "type": "completion"
   },
   {
    "code": "import plotly.graph_objects as go\nfrom ipywidgets import interact\nimport numpy as np\nimport matplotlib.cm as cm\n\n\nk = 1.38e-23  #Boltzmann constant in kg m^2 / (s^2 K)\n\ndef mb_dist(v,T,m):\n    m = 1.6e-27*m  # convert amu to kg\n    return 4*np.pi*(m/(2*np.pi*k*T))**1.5*np.exp(-m*v**2/(2*k*T))*v**2\n\n\nfig = go.FigureWidget()\n\nxs = np.arange(1, 2000)\n\nline = fig.add_trace(go.Scatter(x=xs, y=mb_dist(xs, 50,30),\n                    mode='lines',\n                    name='lines')\n\nfig.layout = dict(yaxis=dict(range=[0,0.006]), xaxis=dict(range=[0,2000]), height=600)\n\n\n@interact(T=(0.1, 500, 0.1), m = (1, 50, 1))\ndef update(T=50, m=30):\n    with fig.batch_update():\n        fig.data[0].y=mb_dist(xs,T,m)\n        fig.data[0]['line']['color']='rgb({}, 0, 0)'.format(T)\n        \n        \nfig.update_layout(\n    font_family=\"Lato\",\n    font_color=\"black\",\n    title_font_family=\"Lato\",\n    title_font_color=\"red\",\n    legend_title_font_color=\"green\",\n    font_size=16\n)\n\nfig\n",
    "id": "7852846e2e0149d7951d0fb847ce4f33",
    "idx": 3,
    "time": "2021-01-26T21:25:37.655Z",
    "type": "execution"
   },
   {
    "id": "7852846e2e0149d7951d0fb847ce4f33",
    "time": "2021-01-26T21:25:37.726Z",
    "type": "completion"
   },
   {
    "code": "import plotly.graph_objects as go\nfrom ipywidgets import interact\nimport numpy as np\nimport matplotlib.cm as cm\n\n\nk = 1.38e-23  #Boltzmann constant in kg m^2 / (s^2 K)\n\ndef mb_dist(v,T,m):\n    m = 1.6e-27*m  # convert amu to kg\n    return 4*np.pi*(m/(2*np.pi*k*T))**1.5*np.exp(-m*v**2/(2*k*T))*v**2\n\n\nfig = go.FigureWidget()\n\nxs = np.arange(1, 2000)\n\nline = fig.add_trace(go.Scatter(x=xs, y=mb_dist(xs, 50,30),\n                    mode='lines',\n                    name='lines'))\n\nfig.layout = dict(yaxis=dict(range=[0,0.006]), xaxis=dict(range=[0,2000]), height=600)\n\n\n@interact(T=(0.1, 500, 0.1), m = (1, 50, 1))\ndef update(T=50, m=30):\n    with fig.batch_update():\n        fig.data[0].y=mb_dist(xs,T,m)\n        fig.data[0]['line']['color']='rgb({}, 0, 0)'.format(T)\n        \n        \nfig.update_layout(\n    font_family=\"Lato\",\n    font_color=\"black\",\n    title_font_family=\"Lato\",\n    title_font_color=\"red\",\n    legend_title_font_color=\"green\",\n    font_size=16\n)\n\nfig\n",
    "id": "7852846e2e0149d7951d0fb847ce4f33",
    "idx": 3,
    "time": "2021-01-26T21:25:41.204Z",
    "type": "execution"
   },
   {
    "id": "7852846e2e0149d7951d0fb847ce4f33",
    "time": "2021-01-26T21:25:41.473Z",
    "type": "completion"
   },
   {
    "code": "import plotly.graph_objects as go\nfrom ipywidgets import interact\nimport numpy as np\nimport matplotlib.cm as cm\n\n\nk = 1.38e-23  #Boltzmann constant in kg m^2 / (s^2 K)\n\ndef mb_dist(v,T,m):\n    m = 1.6e-27*m  # convert amu to kg\n    return 4*np.pi*(m/(2*np.pi*k*T))**1.5*np.exp(-m*v**2/(2*k*T))*v**2\n\n\nfig = go.FigureWidget()\n\nxs = np.arange(1, 2000)\n\nline = fig.add_trace(go.Scatter(x=xs, y=mb_dist(xs, 50,30),\n                    mode='lines',\n                    name='lines'))\n\nfig.layout = dict(yaxis=dict(range=[0,0.006]), xaxis=dict(range=[0,2000]), height=600)\n\n\n@interact(T=(0.1, 500, 0.1), m = (1, 50, 1))\ndef update(T=50, m=30):\n    with fig.batch_update():\n        fig.data[0].y=mb_dist(xs,T,m)\n        fig.data[0]['line']['color']='rgb({}, 0, 0)'.format(T)\n        \n        \nfig.update_layout(\n    font_family=\"Lato\",\n    font_color=\"black\",\n    title_font_family=\"Lato\",\n    title_font_color=\"red\",\n    legend_title_font_color=\"green\",\n    font_size=16\n)\n\nfig.update_layout(\n    title={\n        'text': \"Maxwell-Boltzmann Distribution\",\n        'y':0.9,\n        'x':0.5,\n        'xanchor': 'center',\n        'yanchor': 'top'})\n\nfig\n",
    "id": "7852846e2e0149d7951d0fb847ce4f33",
    "idx": 3,
    "time": "2021-01-26T21:25:59.982Z",
    "type": "execution"
   },
   {
    "id": "7852846e2e0149d7951d0fb847ce4f33",
    "time": "2021-01-26T21:26:00.231Z",
    "type": "completion"
   },
   {
    "code": "import plotly.graph_objects as go\nfrom ipywidgets import interact\nimport numpy as np\nimport matplotlib.cm as cm\n\n\nk = 1.38e-23  #Boltzmann constant in kg m^2 / (s^2 K)\n\ndef mb_dist(v,T,m):\n    m = 1.6e-27*m  # convert amu to kg\n    return 4*np.pi*(m/(2*np.pi*k*T))**1.5*np.exp(-m*v**2/(2*k*T))*v**2\n\n\nfig = go.FigureWidget()\n\nxs = np.arange(1, 2000)\n\nline = fig.add_trace(go.Scatter(x=xs, y=mb_dist(xs, 50,30),\n                    mode='lines',\n                    name='lines'))\n\nfig.layout = dict(yaxis=dict(range=[0,0.006]), xaxis=dict(range=[0,2000]), height=600)\n\n\n@interact(T=(0.1, 500, 0.1), m = (1, 50, 1))\ndef update(T=50, m=30):\n    with fig.batch_update():\n        fig.data[0].y=mb_dist(xs,T,m)\n        fig.data[0]['line']['color']='rgb({}, 0, 0)'.format(T)\n        \n        \nfig.update_layout(\n    font_family=\"Lato\",\n    font_color=\"black\",\n    title_font_family=\"Lato\",\n    title_font_color=\"black\",\n    legend_title_font_color=\"green\",\n    font_size=16\n)\n\nfig.update_layout(\n    title={\n        'text': \"Maxwell-Boltzmann Distribution\",\n        'y':0.9,\n        'x':0.5,\n        'xanchor': 'center',\n        'yanchor': 'top'})\n\nfig\n",
    "id": "7852846e2e0149d7951d0fb847ce4f33",
    "idx": 3,
    "time": "2021-01-26T21:26:05.564Z",
    "type": "execution"
   },
   {
    "id": "7852846e2e0149d7951d0fb847ce4f33",
    "time": "2021-01-26T21:26:05.838Z",
    "type": "completion"
   },
   {
    "code": "import plotly.graph_objects as go\nfrom ipywidgets import interact\nimport numpy as np\nimport matplotlib.cm as cm\n\n\nk = 1.38e-23  #Boltzmann constant in kg m^2 / (s^2 K)\n\ndef mb_dist(v,T,m):\n    m = 1.6e-27*m  # convert amu to kg\n    return 4*np.pi*(m/(2*np.pi*k*T))**1.5*np.exp(-m*v**2/(2*k*T))*v**2\n\n\nfig = go.FigureWidget()\n\nxs = np.arange(1, 2000)\n\nline = fig.add_trace(go.Scatter(x=xs, y=mb_dist(xs, 50,30),\n                    mode='lines',\n                    name='lines'))\n\nfig.layout = dict(yaxis=dict(range=[0,0.006]), xaxis=dict(range=[0,2000]), height=600)\n\n\n@interact(T=(0.1, 500, 0.1), m = (1, 50, 1))\ndef update(T=50, m=30):\n    with fig.batch_update():\n        fig.data[0].y=mb_dist(xs,T,m)\n        fig.data[0]['line']['color']='rgb({}, 0, 0)'.format(T)\n        \n        \nfig.update_layout(\n    font_family=\"Lato\",\n    font_color=\"black\",\n    title_font_family=\"Lato\",\n    title_font_color=\"black\",\n    legend_title_font_color=\"black\",\n    font_size=16\n)\n\nfig.update_layout(\n    title={\n        'text': \"Maxwell-Boltzmann Distribution\",\n        'y':0.9,\n        'x':0.5,\n        'xanchor': 'center',\n        'yanchor': 'top'})\n\nfig\n",
    "id": "7852846e2e0149d7951d0fb847ce4f33",
    "idx": 3,
    "time": "2021-01-26T21:26:09.954Z",
    "type": "execution"
   },
   {
    "id": "7852846e2e0149d7951d0fb847ce4f33",
    "time": "2021-01-26T21:26:10.199Z",
    "type": "completion"
   },
   {
    "code": "import plotly.graph_objects as go\nfrom ipywidgets import interact\nimport numpy as np\nimport matplotlib.cm as cm\n\n\nk = 1.38e-23  #Boltzmann constant in kg m^2 / (s^2 K)\n\ndef mb_dist(v,T,m):\n    m = 1.6e-27*m  # convert amu to kg\n    return 4*np.pi*(m/(2*np.pi*k*T))**1.5*np.exp(-m*v**2/(2*k*T))*v**2\n\n\nfig = go.FigureWidget()\n\nxs = np.arange(1, 2000)\n\nline = fig.add_trace(go.Scatter(x=xs, y=mb_dist(xs, 50,30),\n                    mode='lines',\n                    name='lines'))\n\nfig.layout = dict(yaxis=dict(range=[0,0.006]), xaxis=dict(range=[0,2000]), height=600)\n\n\n@interact(T=(0.1, 500, 0.1), m = (1, 50, 1))\ndef update(T=50, m=30):\n    with fig.batch_update():\n        fig.data[0].y=mb_dist(xs,T,m)\n        fig.data[0]['line']['color']='rgb({}, 0, 0)'.format(T)\n        \n        \nfig.update_layout(\n    font_family=\"Lato\",\n    font_color=\"black\",\n    title_font_family=\"Lato\",\n    title_font_color=\"black\",\n    legend_title_font_color=\"black\",\n    font_size=16\n)\n\nfig.update_layout(\n    x_title={\n        'text': \"Maxwell-Boltzmann Distribution\",\n        'y':0.9,\n        'x':0.5,\n        'xanchor': 'center',\n        'yanchor': 'top'})\n\nfig\n",
    "id": "7852846e2e0149d7951d0fb847ce4f33",
    "idx": 3,
    "time": "2021-01-26T21:27:18.813Z",
    "type": "execution"
   },
   {
    "id": "7852846e2e0149d7951d0fb847ce4f33",
    "time": "2021-01-26T21:27:19.271Z",
    "type": "completion"
   },
   {
    "code": "import plotly.graph_objects as go\nfrom ipywidgets import interact\nimport numpy as np\nimport matplotlib.cm as cm\n\n\nk = 1.38e-23  #Boltzmann constant in kg m^2 / (s^2 K)\n\ndef mb_dist(v,T,m):\n    m = 1.6e-27*m  # convert amu to kg\n    return 4*np.pi*(m/(2*np.pi*k*T))**1.5*np.exp(-m*v**2/(2*k*T))*v**2\n\n\nfig = go.FigureWidget()\n\nxs = np.arange(1, 2000)\n\nline = fig.add_trace(go.Scatter(x=xs, y=mb_dist(xs, 50,30),\n                    mode='lines',\n                    name='lines'),labels=dict(x=\"Fruit\", y=\"Amount\"))\n\nfig.layout = dict(yaxis=dict(range=[0,0.006]), xaxis=dict(range=[0,2000]), height=600)\n\n\n@interact(T=(0.1, 500, 0.1), m = (1, 50, 1))\ndef update(T=50, m=30):\n    with fig.batch_update():\n        fig.data[0].y=mb_dist(xs,T,m)\n        fig.data[0]['line']['color']='rgb({}, 0, 0)'.format(T)\n        \n        \nfig.update_layout(\n    font_family=\"Lato\",\n    font_color=\"black\",\n    title_font_family=\"Lato\",\n    title_font_color=\"black\",\n    legend_title_font_color=\"black\",\n    font_size=16\n)\n\nfig.update_layout(\n    x_title={\n        'text': \"Maxwell-Boltzmann Distribution\",\n        'y':0.9,\n        'x':0.5,\n        'xanchor': 'center',\n        'yanchor': 'top'})\n\nfig\n",
    "id": "7852846e2e0149d7951d0fb847ce4f33",
    "idx": 3,
    "time": "2021-01-26T21:28:11.585Z",
    "type": "execution"
   },
   {
    "id": "7852846e2e0149d7951d0fb847ce4f33",
    "time": "2021-01-26T21:28:11.745Z",
    "type": "completion"
   },
   {
    "code": "import plotly.graph_objects as go\nfrom ipywidgets import interact\nimport numpy as np\nimport matplotlib.cm as cm\n\n\nk = 1.38e-23  #Boltzmann constant in kg m^2 / (s^2 K)\n\ndef mb_dist(v,T,m):\n    m = 1.6e-27*m  # convert amu to kg\n    return 4*np.pi*(m/(2*np.pi*k*T))**1.5*np.exp(-m*v**2/(2*k*T))*v**2\n\n\nfig = go.FigureWidget()\n\nxs = np.arange(1, 2000)\n\nline = fig.add_trace(go.Scatter(x=xs, y=mb_dist(xs, 50,30),\n                    mode='lines',\n                    name='lines',labels=dict(x=\"Fruit\", y=\"Amount\"))\n\nfig.layout = dict(yaxis=dict(range=[0,0.006]), xaxis=dict(range=[0,2000]), height=600)\n\n\n@interact(T=(0.1, 500, 0.1), m = (1, 50, 1))\ndef update(T=50, m=30):\n    with fig.batch_update():\n        fig.data[0].y=mb_dist(xs,T,m)\n        fig.data[0]['line']['color']='rgb({}, 0, 0)'.format(T)\n        \n        \nfig.update_layout(\n    font_family=\"Lato\",\n    font_color=\"black\",\n    title_font_family=\"Lato\",\n    title_font_color=\"black\",\n    legend_title_font_color=\"black\",\n    font_size=16\n)\n\nfig.update_layout(\n    x_title={\n        'text': \"Maxwell-Boltzmann Distribution\",\n        'y':0.9,\n        'x':0.5,\n        'xanchor': 'center',\n        'yanchor': 'top'})\n\nfig\n",
    "id": "7852846e2e0149d7951d0fb847ce4f33",
    "idx": 3,
    "time": "2021-01-26T21:28:20.828Z",
    "type": "execution"
   },
   {
    "id": "7852846e2e0149d7951d0fb847ce4f33",
    "time": "2021-01-26T21:28:20.901Z",
    "type": "completion"
   },
   {
    "code": "import plotly.graph_objects as go\nfrom ipywidgets import interact\nimport numpy as np\nimport matplotlib.cm as cm\n\n\nk = 1.38e-23  #Boltzmann constant in kg m^2 / (s^2 K)\n\ndef mb_dist(v,T,m):\n    m = 1.6e-27*m  # convert amu to kg\n    return 4*np.pi*(m/(2*np.pi*k*T))**1.5*np.exp(-m*v**2/(2*k*T))*v**2\n\n\nfig = go.FigureWidget()\n\nxs = np.arange(1, 2000)\n\nline = fig.add_trace(go.Scatter(x=xs, y=mb_dist(xs, 50,30),\n                    mode='lines',\n                    name='lines',labels=dict(x=\"Fruit\", y=\"Amount\")))\n\nfig.layout = dict(yaxis=dict(range=[0,0.006]), xaxis=dict(range=[0,2000]), height=600)\n\n\n@interact(T=(0.1, 500, 0.1), m = (1, 50, 1))\ndef update(T=50, m=30):\n    with fig.batch_update():\n        fig.data[0].y=mb_dist(xs,T,m)\n        fig.data[0]['line']['color']='rgb({}, 0, 0)'.format(T)\n        \n        \nfig.update_layout(\n    font_family=\"Lato\",\n    font_color=\"black\",\n    title_font_family=\"Lato\",\n    title_font_color=\"black\",\n    legend_title_font_color=\"black\",\n    font_size=16\n)\n\nfig.update_layout(\n    x_title={\n        'text': \"Maxwell-Boltzmann Distribution\",\n        'y':0.9,\n        'x':0.5,\n        'xanchor': 'center',\n        'yanchor': 'top'})\n\nfig\n",
    "id": "7852846e2e0149d7951d0fb847ce4f33",
    "idx": 3,
    "time": "2021-01-26T21:28:27.773Z",
    "type": "execution"
   },
   {
    "id": "7852846e2e0149d7951d0fb847ce4f33",
    "time": "2021-01-26T21:28:28.011Z",
    "type": "completion"
   },
   {
    "code": "import plotly.graph_objects as go\nfrom ipywidgets import interact\nimport numpy as np\nimport matplotlib.cm as cm\n\n\nk = 1.38e-23  #Boltzmann constant in kg m^2 / (s^2 K)\n\ndef mb_dist(v,T,m):\n    m = 1.6e-27*m  # convert amu to kg\n    return 4*np.pi*(m/(2*np.pi*k*T))**1.5*np.exp(-m*v**2/(2*k*T))*v**2\n\n\nfig = go.FigureWidget()\n\nxs = np.arange(1, 2000)\n\nline = fig.add_trace(go.Scatter(x=xs, y=mb_dist(xs, 50,30),\n                    mode='line',\n                    name='line',labels=dict(x=\"Fruit\", y=\"Amount\")))\n\nfig.layout = dict(yaxis=dict(range=[0,0.006]), xaxis=dict(range=[0,2000]), height=600)\n\n\n@interact(T=(0.1, 500, 0.1), m = (1, 50, 1))\ndef update(T=50, m=30):\n    with fig.batch_update():\n        fig.data[0].y=mb_dist(xs,T,m)\n        fig.data[0]['line']['color']='rgb({}, 0, 0)'.format(T)\n        \n        \nfig.update_layout(\n    font_family=\"Lato\",\n    font_color=\"black\",\n    title_font_family=\"Lato\",\n    title_font_color=\"black\",\n    legend_title_font_color=\"black\",\n    font_size=16\n)\n\nfig.update_layout(\n    x_title={\n        'text': \"Maxwell-Boltzmann Distribution\",\n        'y':0.9,\n        'x':0.5,\n        'xanchor': 'center',\n        'yanchor': 'top'})\n\nfig\n",
    "id": "7852846e2e0149d7951d0fb847ce4f33",
    "idx": 3,
    "time": "2021-01-26T21:28:42.264Z",
    "type": "execution"
   },
   {
    "id": "7852846e2e0149d7951d0fb847ce4f33",
    "time": "2021-01-26T21:28:42.433Z",
    "type": "completion"
   },
   {
    "code": "import plotly.graph_objects as go\nfrom ipywidgets import interact\nimport numpy as np\nimport matplotlib.cm as cm\n\n\nk = 1.38e-23  #Boltzmann constant in kg m^2 / (s^2 K)\n\ndef mb_dist(v,T,m):\n    m = 1.6e-27*m  # convert amu to kg\n    return 4*np.pi*(m/(2*np.pi*k*T))**1.5*np.exp(-m*v**2/(2*k*T))*v**2\n\n\nfig = go.FigureWidget()\n\nxs = np.arange(1, 2000)\n\nline = fig.add_trace(go.Scatter(x=xs, y=mb_dist(xs, 50,30),\n                    mode='lines',\n                    name='lines',labels=dict(x=\"Fruit\", y=\"Amount\")))\n\nfig.layout = dict(yaxis=dict(range=[0,0.006]), xaxis=dict(range=[0,2000]), height=600)\n\n\n@interact(T=(0.1, 500, 0.1), m = (1, 50, 1))\ndef update(T=50, m=30):\n    with fig.batch_update():\n        fig.data[0].y=mb_dist(xs,T,m)\n        fig.data[0]['line']['color']='rgb({}, 0, 0)'.format(T)\n        \n        \nfig.update_layout(\n    font_family=\"Lato\",\n    font_color=\"black\",\n    title_font_family=\"Lato\",\n    title_font_color=\"black\",\n    legend_title_font_color=\"black\",\n    font_size=16\n)\n\nfig.update_layout(\n    x_title={\n        'text': \"Maxwell-Boltzmann Distribution\",\n        'y':0.9,\n        'x':0.5,\n        'xanchor': 'center',\n        'yanchor': 'top'})\n\nfig.update_xaxes(\n        tickangle = 90,\n        title_text = \"Month\",\n        title_font = {\"size\": 20},\n        title_standoff = 25)\n\nfig.update_yaxes(\n        title_text = \"Temperature\",\n        title_standoff = 25)\n\nfig\n",
    "id": "7852846e2e0149d7951d0fb847ce4f33",
    "idx": 3,
    "time": "2021-01-26T21:29:45.789Z",
    "type": "execution"
   },
   {
    "id": "7852846e2e0149d7951d0fb847ce4f33",
    "time": "2021-01-26T21:29:46.047Z",
    "type": "completion"
   },
   {
    "code": "import plotly.graph_objects as go\nfrom ipywidgets import interact\nimport numpy as np\nimport matplotlib.cm as cm\n\n\nk = 1.38e-23  #Boltzmann constant in kg m^2 / (s^2 K)\n\ndef mb_dist(v,T,m):\n    m = 1.6e-27*m  # convert amu to kg\n    return 4*np.pi*(m/(2*np.pi*k*T))**1.5*np.exp(-m*v**2/(2*k*T))*v**2\n\n\nfig = go.FigureWidget()\n\nxs = np.arange(1, 2000)\n\nline = fig.add_trace(go.Scatter(x=xs, y=mb_dist(xs, 50,30),\n                    mode='lines',\n                    name='lines'))\n\nfig.layout = dict(yaxis=dict(range=[0,0.006]), xaxis=dict(range=[0,2000]), height=600)\n\n\n@interact(T=(0.1, 500, 0.1), m = (1, 50, 1))\ndef update(T=50, m=30):\n    with fig.batch_update():\n        fig.data[0].y=mb_dist(xs,T,m)\n        fig.data[0]['line']['color']='rgb({}, 0, 0)'.format(T)\n        \n        \nfig.update_layout(\n    font_family=\"Lato\",\n    font_color=\"black\",\n    title_font_family=\"Lato\",\n    title_font_color=\"black\",\n    legend_title_font_color=\"black\",\n    font_size=16\n)\n\nfig.update_layout(\n    x_title={\n        'text': \"Maxwell-Boltzmann Distribution\",\n        'y':0.9,\n        'x':0.5,\n        'xanchor': 'center',\n        'yanchor': 'top'})\n\nfig.update_xaxes(\n        tickangle = 90,\n        title_text = \"Month\",\n        title_font = {\"size\": 20},\n        title_standoff = 25)\n\nfig.update_yaxes(\n        title_text = \"Temperature\",\n        title_standoff = 25)\n\nfig\n",
    "id": "7852846e2e0149d7951d0fb847ce4f33",
    "idx": 3,
    "time": "2021-01-26T21:29:54.685Z",
    "type": "execution"
   },
   {
    "id": "7852846e2e0149d7951d0fb847ce4f33",
    "time": "2021-01-26T21:29:55.018Z",
    "type": "completion"
   },
   {
    "code": "import plotly.graph_objects as go\nfrom ipywidgets import interact\nimport numpy as np\nimport matplotlib.cm as cm\n\n\nk = 1.38e-23  #Boltzmann constant in kg m^2 / (s^2 K)\n\ndef mb_dist(v,T,m):\n    m = 1.6e-27*m  # convert amu to kg\n    return 4*np.pi*(m/(2*np.pi*k*T))**1.5*np.exp(-m*v**2/(2*k*T))*v**2\n\n\nfig = go.FigureWidget()\n\nxs = np.arange(1, 2000)\n\nline = fig.add_trace(go.Scatter(x=xs, y=mb_dist(xs, 50,30),\n                    mode='lines',\n                    name='lines'))\n\nfig.layout = dict(yaxis=dict(range=[0,0.006]), xaxis=dict(range=[0,2000]), height=600)\n\n\n@interact(T=(0.1, 500, 0.1), m = (1, 50, 1))\ndef update(T=50, m=30):\n    with fig.batch_update():\n        fig.data[0].y=mb_dist(xs,T,m)\n        fig.data[0]['line']['color']='rgb({}, 0, 0)'.format(T)\n        \n        \nfig.update_layout(\n    font_family=\"Lato\",\n    font_color=\"black\",\n    title_font_family=\"Lato\",\n    title_font_color=\"black\",\n    legend_title_font_color=\"black\",\n    font_size=16\n)\n\nfig.update_layout(\n    title={\n        'text': \"Maxwell-Boltzmann Distribution\",\n        'y':0.9,\n        'x':0.5,\n        'xanchor': 'center',\n        'yanchor': 'top'})\n\nfig.update_xaxes(\n        tickangle = 90,\n        title_text = \"Month\",\n        title_font = {\"size\": 20},\n        title_standoff = 25)\n\nfig.update_yaxes(\n        title_text = \"Temperature\",\n        title_standoff = 25)\n\nfig\n",
    "id": "7852846e2e0149d7951d0fb847ce4f33",
    "idx": 3,
    "time": "2021-01-26T21:30:23.877Z",
    "type": "execution"
   },
   {
    "id": "7852846e2e0149d7951d0fb847ce4f33",
    "time": "2021-01-26T21:30:24.127Z",
    "type": "completion"
   },
   {
    "code": "import plotly.graph_objects as go\nfrom ipywidgets import interact\nimport numpy as np\nimport matplotlib.cm as cm\n\n\nk = 1.38e-23  #Boltzmann constant in kg m^2 / (s^2 K)\n\ndef mb_dist(v,T,m):\n    m = 1.6e-27*m  # convert amu to kg\n    return 4*np.pi*(m/(2*np.pi*k*T))**1.5*np.exp(-m*v**2/(2*k*T))*v**2\n\n\nfig = go.FigureWidget()\n\nxs = np.arange(1, 2000)\n\nline = fig.add_trace(go.Scatter(x=xs, y=mb_dist(xs, 50,30),\n                    mode='lines',\n                    name='lines'))\n\nfig.layout = dict(yaxis=dict(range=[0,0.006]), xaxis=dict(range=[0,2000]), height=600)\n\n\n@interact(T=(0.1, 500, 0.1), m = (1, 50, 1))\ndef update(T=50, m=30):\n    with fig.batch_update():\n        fig.data[0].y=mb_dist(xs,T,m)\n        fig.data[0]['line']['color']='rgb({}, 0, 0)'.format(T)\n        \n        \n\nfig.update_layout(\n    title={\n        'text': \"Maxwell-Boltzmann Distribution\",\n        'y':0.9,\n        'x':0.5,\n        'xanchor': 'center',\n        'yanchor': 'top'})\n\nfig.update_xaxes(\n        tickangle = 90,\n        title_text = \"Month\",\n        title_font = {\"size\": 20},\n        title_standoff = 25)\n\nfig.update_yaxes(\n        title_text = \"Temperature\",\n        title_standoff = 25)\n\nfig\n",
    "id": "7852846e2e0149d7951d0fb847ce4f33",
    "idx": 3,
    "time": "2021-01-26T21:30:35.915Z",
    "type": "execution"
   },
   {
    "id": "7852846e2e0149d7951d0fb847ce4f33",
    "time": "2021-01-26T21:30:36.141Z",
    "type": "completion"
   },
   {
    "code": "import plotly.graph_objects as go\nfrom ipywidgets import interact\nimport numpy as np\nimport matplotlib.cm as cm\n\n\nk = 1.38e-23  #Boltzmann constant in kg m^2 / (s^2 K)\n\ndef mb_dist(v,T,m):\n    m = 1.6e-27*m  # convert amu to kg\n    return 4*np.pi*(m/(2*np.pi*k*T))**1.5*np.exp(-m*v**2/(2*k*T))*v**2\n\n\nfig = go.FigureWidget()\n\nxs = np.arange(1, 2000)\n\nline = fig.add_trace(go.Scatter(x=xs, y=mb_dist(xs, 50,30),\n                    mode='lines',\n                    name='lines'))\n\nfig.layout = dict(yaxis=dict(range=[0,0.006]), xaxis=dict(range=[0,2000]), height=600)\n\n\n@interact(T=(0.1, 500, 0.1), m = (1, 50, 1))\ndef update(T=50, m=30):\n    with fig.batch_update():\n        fig.data[0].y=mb_dist(xs,T,m)\n        fig.data[0]['line']['color']='rgb({}, 0, 0)'.format(T)\n        \n        \n\nfig.update_layout(\n    title={\n        'text': \"Maxwell-Boltzmann Distribution\",\n        'y':0.9,\n        'x':0.5,\n        'xanchor': 'center',\n        'yanchor': 'top'})\n\nfig.update_xaxes(\n        tickangle = 90,\n        title_text = \"Month\",\n        title_standoff = 25)\n\nfig.update_yaxes(\n        title_text = \"Temperature\",\n        title_standoff = 25)\n\nfig\n",
    "id": "7852846e2e0149d7951d0fb847ce4f33",
    "idx": 3,
    "time": "2021-01-26T21:30:47.945Z",
    "type": "execution"
   },
   {
    "id": "7852846e2e0149d7951d0fb847ce4f33",
    "time": "2021-01-26T21:30:48.176Z",
    "type": "completion"
   },
   {
    "code": "import plotly.graph_objects as go\nfrom ipywidgets import interact\nimport numpy as np\nimport matplotlib.cm as cm\n\n\nk = 1.38e-23  #Boltzmann constant in kg m^2 / (s^2 K)\n\ndef mb_dist(v,T,m):\n    m = 1.6e-27*m  # convert amu to kg\n    return 4*np.pi*(m/(2*np.pi*k*T))**1.5*np.exp(-m*v**2/(2*k*T))*v**2\n\n\nfig = go.FigureWidget()\n\nxs = np.arange(1, 2000)\n\nline = fig.add_trace(go.Scatter(x=xs, y=mb_dist(xs, 50,30),\n                    mode='lines',\n                    name='lines'))\n\nfig.layout = dict(yaxis=dict(range=[0,0.006]), xaxis=dict(range=[0,2000]), height=600)\n\n\n@interact(T=(0.1, 500, 0.1), m = (1, 50, 1))\ndef update(T=50, m=30):\n    with fig.batch_update():\n        fig.data[0].y=mb_dist(xs,T,m)\n        fig.data[0]['line']['color']='rgb({}, 0, 0)'.format(T)\n        \n        \n\nfig.update_layout(\n    title={\n        'text': \"Maxwell-Boltzmann Distribution\",\n        'y':0.9,\n        'x':0.5,\n        'xanchor': 'center',\n        'yanchor': 'top'})\n\nfig.update_xaxes(\n        title_text = \"Month\",\n        title_standoff = 25)\n\nfig.update_yaxes(\n        title_text = \"Temperature\",\n        title_standoff = 25)\n\nfig\n",
    "id": "7852846e2e0149d7951d0fb847ce4f33",
    "idx": 3,
    "time": "2021-01-26T21:30:57.972Z",
    "type": "execution"
   },
   {
    "id": "7852846e2e0149d7951d0fb847ce4f33",
    "time": "2021-01-26T21:30:58.263Z",
    "type": "completion"
   },
   {
    "code": "import plotly.graph_objects as go\nfrom ipywidgets import interact\nimport numpy as np\nimport matplotlib.cm as cm\n\n\nk = 1.38e-23  #Boltzmann constant in kg m^2 / (s^2 K)\n\ndef mb_dist(v,T,m):\n    m = 1.6e-27*m  # convert amu to kg\n    return 4*np.pi*(m/(2*np.pi*k*T))**1.5*np.exp(-m*v**2/(2*k*T))*v**2\n\n\nfig = go.FigureWidget()\n\nxs = np.arange(1, 2000)\n\nline = fig.add_trace(go.Scatter(x=xs, y=mb_dist(xs, 50,30),\n                    mode='lines',\n                    name='lines'))\n\nfig.layout = dict(yaxis=dict(range=[0,0.006]), xaxis=dict(range=[0,2000]), height=600)\n\n\n@interact(T=(0.1, 500, 0.1), m = (1, 50, 1))\ndef update(T=50, m=30):\n    with fig.batch_update():\n        fig.data[0].y=mb_dist(xs,T,m)\n        fig.data[0]['line']['color']='rgb({}, 0, 0)'.format(T)\n        \n        \n\nfig.update_layout(\n    title={\n        'text': \"Maxwell-Boltzmann Distribution\",\n        'y':0.9,\n        'x':0.5,\n        'xanchor': 'center',\n        'yanchor': 'top'})\n\nfig.update_xaxes(\n        title_text = \"Month\",\n        title_standoff = 25,\n        tick_standoff = 10)\n\nfig.update_yaxes(\n        title_text = \"Temperature\",\n        title_standoff = 25)\n\nfig\n",
    "id": "7852846e2e0149d7951d0fb847ce4f33",
    "idx": 3,
    "time": "2021-01-26T21:31:11.083Z",
    "type": "execution"
   },
   {
    "id": "7852846e2e0149d7951d0fb847ce4f33",
    "time": "2021-01-26T21:31:11.370Z",
    "type": "completion"
   },
   {
    "code": "import plotly.graph_objects as go\nfrom ipywidgets import interact\nimport numpy as np\nimport matplotlib.cm as cm\n\n\nk = 1.38e-23  #Boltzmann constant in kg m^2 / (s^2 K)\n\ndef mb_dist(v,T,m):\n    m = 1.6e-27*m  # convert amu to kg\n    return 4*np.pi*(m/(2*np.pi*k*T))**1.5*np.exp(-m*v**2/(2*k*T))*v**2\n\n\nfig = go.FigureWidget()\n\nxs = np.arange(1, 2000)\n\nline = fig.add_trace(go.Scatter(x=xs, y=mb_dist(xs, 50,30),\n                    mode='lines',\n                    name='lines'))\n\nfig.layout = dict(yaxis=dict(range=[0,0.006]), xaxis=dict(range=[0,2000]), height=600)\n\n\n@interact(T=(0.1, 500, 0.1), m = (1, 50, 1))\ndef update(T=50, m=30):\n    with fig.batch_update():\n        fig.data[0].y=mb_dist(xs,T,m)\n        fig.data[0]['line']['color']='rgb({}, 0, 0)'.format(T)\n        \n        \n\nfig.update_layout(\n    title={\n        'text': \"Maxwell-Boltzmann Distribution\",\n        'y':0.9,\n        'x':0.5,\n        'xanchor': 'center',\n        'yanchor': 'top'})\n\nfig.update_xaxes(\n        title_text = \"Month\",\n        title_standoff = 25,\n        dtick = 10)\n\nfig.update_yaxes(\n        title_text = \"Temperature\",\n        title_standoff = 25)\n\nfig\n",
    "id": "7852846e2e0149d7951d0fb847ce4f33",
    "idx": 3,
    "time": "2021-01-26T21:31:18.529Z",
    "type": "execution"
   },
   {
    "id": "7852846e2e0149d7951d0fb847ce4f33",
    "time": "2021-01-26T21:31:18.794Z",
    "type": "completion"
   },
   {
    "code": "import plotly.graph_objects as go\nfrom ipywidgets import interact\nimport numpy as np\nimport matplotlib.cm as cm\n\n\nk = 1.38e-23  #Boltzmann constant in kg m^2 / (s^2 K)\n\ndef mb_dist(v,T,m):\n    m = 1.6e-27*m  # convert amu to kg\n    return 4*np.pi*(m/(2*np.pi*k*T))**1.5*np.exp(-m*v**2/(2*k*T))*v**2\n\n\nfig = go.FigureWidget()\n\nxs = np.arange(1, 2000)\n\nline = fig.add_trace(go.Scatter(x=xs, y=mb_dist(xs, 50,30),\n                    mode='lines',\n                    name='lines'))\n\nfig.layout = dict(yaxis=dict(range=[0,0.006]), xaxis=dict(range=[0,2000]), height=600)\n\n\n@interact(T=(0.1, 500, 0.1), m = (1, 50, 1))\ndef update(T=50, m=30):\n    with fig.batch_update():\n        fig.data[0].y=mb_dist(xs,T,m)\n        fig.data[0]['line']['color']='rgb({}, 0, 0)'.format(T)\n        \n        \n\nfig.update_layout(\n    title={\n        'text': \"Maxwell-Boltzmann Distribution\",\n        'y':0.9,\n        'x':0.5,\n        'xanchor': 'center',\n        'yanchor': 'top'})\n\nfig.update_xaxes(\n        title_text = \"Month\",\n        title_standoff = 25,\n        ticklen| = 10)\n\nfig.update_yaxes(\n        title_text = \"Temperature\",\n        title_standoff = 25)\n\nfig\n",
    "id": "7852846e2e0149d7951d0fb847ce4f33",
    "idx": 3,
    "time": "2021-01-26T21:33:06.533Z",
    "type": "execution"
   },
   {
    "id": "7852846e2e0149d7951d0fb847ce4f33",
    "time": "2021-01-26T21:33:06.609Z",
    "type": "completion"
   },
   {
    "code": "import plotly.graph_objects as go\nfrom ipywidgets import interact\nimport numpy as np\nimport matplotlib.cm as cm\n\n\nk = 1.38e-23  #Boltzmann constant in kg m^2 / (s^2 K)\n\ndef mb_dist(v,T,m):\n    m = 1.6e-27*m  # convert amu to kg\n    return 4*np.pi*(m/(2*np.pi*k*T))**1.5*np.exp(-m*v**2/(2*k*T))*v**2\n\n\nfig = go.FigureWidget()\n\nxs = np.arange(1, 2000)\n\nline = fig.add_trace(go.Scatter(x=xs, y=mb_dist(xs, 50,30),\n                    mode='lines',\n                    name='lines'))\n\nfig.layout = dict(yaxis=dict(range=[0,0.006]), xaxis=dict(range=[0,2000]), height=600)\n\n\n@interact(T=(0.1, 500, 0.1), m = (1, 50, 1))\ndef update(T=50, m=30):\n    with fig.batch_update():\n        fig.data[0].y=mb_dist(xs,T,m)\n        fig.data[0]['line']['color']='rgb({}, 0, 0)'.format(T)\n        \n        \n\nfig.update_layout(\n    title={\n        'text': \"Maxwell-Boltzmann Distribution\",\n        'y':0.9,\n        'x':0.5,\n        'xanchor': 'center',\n        'yanchor': 'top'})\n\nfig.update_xaxes(\n        title_text = \"Month\",\n        title_standoff = 25,\n        ticklen = 10)\n\nfig.update_yaxes(\n        title_text = \"Temperature\",\n        title_standoff = 25)\n\nfig\n",
    "id": "7852846e2e0149d7951d0fb847ce4f33",
    "idx": 3,
    "time": "2021-01-26T21:33:09.667Z",
    "type": "execution"
   },
   {
    "id": "7852846e2e0149d7951d0fb847ce4f33",
    "time": "2021-01-26T21:33:09.910Z",
    "type": "completion"
   },
   {
    "code": "import plotly.graph_objects as go\nfrom ipywidgets import interact\nimport numpy as np\nimport matplotlib.cm as cm\n\n\nk = 1.38e-23  #Boltzmann constant in kg m^2 / (s^2 K)\n\ndef mb_dist(v,T,m):\n    m = 1.6e-27*m  # convert amu to kg\n    return 4*np.pi*(m/(2*np.pi*k*T))**1.5*np.exp(-m*v**2/(2*k*T))*v**2\n\n\nfig = go.FigureWidget()\n\nxs = np.arange(1, 2000)\n\nline = fig.add_trace(go.Scatter(x=xs, y=mb_dist(xs, 50,30),\n                    mode='lines',\n                    name='lines'))\n\nfig.layout = dict(yaxis=dict(range=[0,0.006]), xaxis=dict(range=[0,2000]), height=600)\n\n\n@interact(T=(0.1, 500, 0.1), m = (1, 50, 1))\ndef update(T=50, m=30):\n    with fig.batch_update():\n        fig.data[0].y=mb_dist(xs,T,m)\n        fig.data[0]['line']['color']='rgb({}, 0, 0)'.format(T)\n        \n        \n\nfig.update_layout(\n    title={\n        'text': \"Maxwell-Boltzmann Distribution\",\n        'y':0.9,\n        'x':0.5,\n        'xanchor': 'center',\n        'yanchor': 'top'})\n\nfig.update_xaxes(\n        title_text = \"Month\",\n        title_standoff = 25,\n        ticks = 'oustide',\n        ticklen = 10)\n\nfig.update_yaxes(\n        title_text = \"Temperature\",\n        title_standoff = 25)\n\nfig\n",
    "id": "7852846e2e0149d7951d0fb847ce4f33",
    "idx": 3,
    "time": "2021-01-26T21:33:27.799Z",
    "type": "execution"
   },
   {
    "id": "7852846e2e0149d7951d0fb847ce4f33",
    "time": "2021-01-26T21:33:28.084Z",
    "type": "completion"
   },
   {
    "code": "import plotly.graph_objects as go\nfrom ipywidgets import interact\nimport numpy as np\nimport matplotlib.cm as cm\n\n\nk = 1.38e-23  #Boltzmann constant in kg m^2 / (s^2 K)\n\ndef mb_dist(v,T,m):\n    m = 1.6e-27*m  # convert amu to kg\n    return 4*np.pi*(m/(2*np.pi*k*T))**1.5*np.exp(-m*v**2/(2*k*T))*v**2\n\n\nfig = go.FigureWidget()\n\nxs = np.arange(1, 2000)\n\nline = fig.add_trace(go.Scatter(x=xs, y=mb_dist(xs, 50,30),\n                    mode='lines',\n                    name='lines'))\n\nfig.layout = dict(yaxis=dict(range=[0,0.006]), xaxis=dict(range=[0,2000]), height=600)\n\n\n@interact(T=(0.1, 500, 0.1), m = (1, 50, 1))\ndef update(T=50, m=30):\n    with fig.batch_update():\n        fig.data[0].y=mb_dist(xs,T,m)\n        fig.data[0]['line']['color']='rgb({}, 0, 0)'.format(T)\n        \n        \n\nfig.update_layout(\n    title={\n        'text': \"Maxwell-Boltzmann Distribution\",\n        'y':0.9,\n        'x':0.5,\n        'xanchor': 'center',\n        'yanchor': 'top'})\n\nfig.update_xaxes(\n        title_text = \"Month\",\n        title_standoff = 25,\n        ticks = 'outside',\n        ticklen = 10)\n\nfig.update_yaxes(\n        title_text = \"Temperature\",\n        title_standoff = 25)\n\nfig\n",
    "id": "7852846e2e0149d7951d0fb847ce4f33",
    "idx": 3,
    "time": "2021-01-26T21:33:41.561Z",
    "type": "execution"
   },
   {
    "id": "7852846e2e0149d7951d0fb847ce4f33",
    "time": "2021-01-26T21:33:41.839Z",
    "type": "completion"
   },
   {
    "code": "import plotly.graph_objects as go\nfrom ipywidgets import interact\nimport numpy as np\nimport matplotlib.cm as cm\n\n\nk = 1.38e-23  #Boltzmann constant in kg m^2 / (s^2 K)\n\ndef mb_dist(v,T,m):\n    m = 1.6e-27*m  # convert amu to kg\n    return 4*np.pi*(m/(2*np.pi*k*T))**1.5*np.exp(-m*v**2/(2*k*T))*v**2\n\n\nfig = go.FigureWidget()\n\nxs = np.arange(1, 2000)\n\nline = fig.add_trace(go.Scatter(x=xs, y=mb_dist(xs, 50,30),\n                    mode='lines',\n                    name='lines'))\n\nfig.layout = dict(yaxis=dict(range=[0,0.006]), xaxis=dict(range=[0,2000]), height=600)\n\n\n@interact(T=(0.1, 500, 0.1), m = (1, 50, 1))\ndef update(T=50, m=30):\n    with fig.batch_update():\n        fig.data[0].y=mb_dist(xs,T,m)\n        fig.data[0]['line']['color']='rgb({}, 0, 0)'.format(T)\n        \n        \n\nfig.update_layout(\n    title={\n        'text': \"Maxwell-Boltzmann Distribution\",\n        'y':0.9,\n        'x':0.5,\n        'xanchor': 'center',\n        'yanchor': 'top'})\n\nfig.update_xaxes(\n        title_text = \"Month\",\n        title_standoff = 25,\n        ticks = 'outside',\n        ticklen = 10)\n\nfig.update_yaxes(\n        title_text = \"Temperature\",\n        title_standoff = 25,\n        ticks = 'outside',\n        ticklen = 10)\n\nfig\n",
    "id": "7852846e2e0149d7951d0fb847ce4f33",
    "idx": 3,
    "time": "2021-01-26T21:34:02.023Z",
    "type": "execution"
   },
   {
    "id": "7852846e2e0149d7951d0fb847ce4f33",
    "time": "2021-01-26T21:34:02.255Z",
    "type": "completion"
   },
   {
    "code": "import plotly.graph_objects as go\nfrom ipywidgets import interact\nimport numpy as np\nimport matplotlib.cm as cm\n\n\nk = 1.38e-23  #Boltzmann constant in kg m^2 / (s^2 K)\n\ndef mb_dist(v,T,m):\n    m = 1.6e-27*m  # convert amu to kg\n    return 4*np.pi*(m/(2*np.pi*k*T))**1.5*np.exp(-m*v**2/(2*k*T))*v**2\n\n\nfig = go.FigureWidget()\n\nxs = np.arange(1, 2000)\n\nline = fig.add_trace(go.Scatter(x=xs, y=mb_dist(xs, 50,30),\n                    mode='lines',\n                    name='lines'))\n\nfig.layout = dict(yaxis=dict(range=[0,0.006]), xaxis=dict(range=[0,2000]), height=600, bg_color = 'blue')\n\n\n@interact(T=(0.1, 500, 0.1), m = (1, 50, 1))\ndef update(T=50, m=30):\n    with fig.batch_update():\n        fig.data[0].y=mb_dist(xs,T,m)\n        fig.data[0]['line']['color']='rgb({}, 0, 0)'.format(T)\n        \n        \n\nfig.update_layout(\n    title={\n        'text': \"Maxwell-Boltzmann Distribution\",\n        'y':0.9,\n        'x':0.5,\n        'xanchor': 'center',\n        'yanchor': 'top'})\n\nfig.update_xaxes(\n        title_text = \"Month\",\n        title_standoff = 25,\n        ticks = 'outside',\n        ticklen = 10)\n\nfig.update_yaxes(\n        title_text = \"Temperature\",\n        title_standoff = 25,\n        ticks = 'outside',\n        ticklen = 10)\n\nfig\n",
    "id": "7852846e2e0149d7951d0fb847ce4f33",
    "idx": 3,
    "time": "2021-01-26T21:34:26.976Z",
    "type": "execution"
   },
   {
    "id": "7852846e2e0149d7951d0fb847ce4f33",
    "time": "2021-01-26T21:34:27.252Z",
    "type": "completion"
   },
   {
    "code": "import plotly.graph_objects as go\nfrom ipywidgets import interact\nimport numpy as np\nimport matplotlib.cm as cm\n\n\nk = 1.38e-23  #Boltzmann constant in kg m^2 / (s^2 K)\n\ndef mb_dist(v,T,m):\n    m = 1.6e-27*m  # convert amu to kg\n    return 4*np.pi*(m/(2*np.pi*k*T))**1.5*np.exp(-m*v**2/(2*k*T))*v**2\n\n\nfig = go.FigureWidget()\n\nxs = np.arange(1, 2000)\n\nline = fig.add_trace(go.Scatter(x=xs, y=mb_dist(xs, 50,30),\n                    mode='lines',\n                    name='lines'))\n\nfig.layout = dict(yaxis=dict(range=[0,0.006]), xaxis=dict(range=[0,2000]), height=600, background_color = 'blue')\n\n\n@interact(T=(0.1, 500, 0.1), m = (1, 50, 1))\ndef update(T=50, m=30):\n    with fig.batch_update():\n        fig.data[0].y=mb_dist(xs,T,m)\n        fig.data[0]['line']['color']='rgb({}, 0, 0)'.format(T)\n        \n        \n\nfig.update_layout(\n    title={\n        'text': \"Maxwell-Boltzmann Distribution\",\n        'y':0.9,\n        'x':0.5,\n        'xanchor': 'center',\n        'yanchor': 'top'})\n\nfig.update_xaxes(\n        title_text = \"Month\",\n        title_standoff = 25,\n        ticks = 'outside',\n        ticklen = 10)\n\nfig.update_yaxes(\n        title_text = \"Temperature\",\n        title_standoff = 25,\n        ticks = 'outside',\n        ticklen = 10)\n\nfig\n",
    "id": "7852846e2e0149d7951d0fb847ce4f33",
    "idx": 3,
    "time": "2021-01-26T21:34:32.265Z",
    "type": "execution"
   },
   {
    "id": "7852846e2e0149d7951d0fb847ce4f33",
    "time": "2021-01-26T21:34:32.538Z",
    "type": "completion"
   },
   {
    "code": "import plotly.graph_objects as go\nfrom ipywidgets import interact\nimport numpy as np\nimport matplotlib.cm as cm\n\n\nk = 1.38e-23  #Boltzmann constant in kg m^2 / (s^2 K)\n\ndef mb_dist(v,T,m):\n    m = 1.6e-27*m  # convert amu to kg\n    return 4*np.pi*(m/(2*np.pi*k*T))**1.5*np.exp(-m*v**2/(2*k*T))*v**2\n\n\nfig = go.FigureWidget()\n\nxs = np.arange(1, 2000)\n\nline = fig.add_trace(go.Scatter(x=xs, y=mb_dist(xs, 50,30),\n                    mode='lines',\n                    name='lines'))\n\nfig.layout = dict(yaxis=dict(range=[0,0.006]), xaxis=dict(range=[0,2000]), height=600)\n\n\n@interact(T=(0.1, 500, 0.1), m = (1, 50, 1))\ndef update(T=50, m=30):\n    with fig.batch_update():\n        fig.data[0].y=mb_dist(xs,T,m)\n        fig.data[0]['line']['color']='rgb({}, 0, 0)'.format(T)\n        \n        \n\nfig.update_layout(\n    title={\n        'text': \"Maxwell-Boltzmann Distribution\",\n        'y':0.9,\n        'x':0.5,\n        'xanchor': 'center',\n        'yanchor': 'top'})\n\nfig.update_xaxes(\n        title_text = \"velocity ($m/s$)\",\n        title_standoff = 25,\n        ticks = 'outside',\n        ticklen = 10)\n\nfig.update_yaxes(\n        title_text = \"Temperature\",\n        title_standoff = 25,\n        ticks = 'outside',\n        ticklen = 10)\n\nfig\n",
    "id": "7852846e2e0149d7951d0fb847ce4f33",
    "idx": 3,
    "time": "2021-01-26T21:34:58.424Z",
    "type": "execution"
   },
   {
    "id": "7852846e2e0149d7951d0fb847ce4f33",
    "time": "2021-01-26T21:34:58.665Z",
    "type": "completion"
   },
   {
    "code": "import plotly.graph_objects as go\nfrom ipywidgets import interact\nimport numpy as np\nimport matplotlib.cm as cm\n\n\nk = 1.38e-23  #Boltzmann constant in kg m^2 / (s^2 K)\n\ndef mb_dist(v,T,m):\n    m = 1.6e-27*m  # convert amu to kg\n    return 4*np.pi*(m/(2*np.pi*k*T))**1.5*np.exp(-m*v**2/(2*k*T))*v**2\n\n\nfig = go.FigureWidget()\n\nxs = np.arange(1, 2000)\n\nline = fig.add_trace(go.Scatter(x=xs, y=mb_dist(xs, 50,30),\n                    mode='lines',\n                    name='lines'))\n\nfig.layout = dict(yaxis=dict(range=[0,0.006]), xaxis=dict(range=[0,2000]), height=600)\n\n\n@interact(T=(0.1, 500, 0.1), m = (1, 50, 1))\ndef update(T=50, m=30):\n    with fig.batch_update():\n        fig.data[0].y=mb_dist(xs,T,m)\n        fig.data[0]['line']['color']='rgb({}, 0, 0)'.format(T)\n        \n        \n\nfig.update_layout(\n    title={\n        'text': \"Maxwell-Boltzmann Distribution\",\n        'y':0.9,\n        'x':0.5,\n        'xanchor': 'center',\n        'yanchor': 'top'})\n\nfig.update_xaxes(\n        title_text = \"$\\text{velocity } (m/s)$\",\n        title_standoff = 25,\n        ticks = 'outside',\n        ticklen = 10)\n\nfig.update_yaxes(\n        title_text = \"Temperature\",\n        title_standoff = 25,\n        ticks = 'outside',\n        ticklen = 10)\n\nfig\n",
    "id": "7852846e2e0149d7951d0fb847ce4f33",
    "idx": 3,
    "time": "2021-01-26T21:35:23.708Z",
    "type": "execution"
   },
   {
    "id": "7852846e2e0149d7951d0fb847ce4f33",
    "time": "2021-01-26T21:35:23.984Z",
    "type": "completion"
   },
   {
    "code": "import plotly.graph_objects as go\nfrom ipywidgets import interact\nimport numpy as np\nimport matplotlib.cm as cm\n\n\nk = 1.38e-23  #Boltzmann constant in kg m^2 / (s^2 K)\n\ndef mb_dist(v,T,m):\n    m = 1.6e-27*m  # convert amu to kg\n    return 4*np.pi*(m/(2*np.pi*k*T))**1.5*np.exp(-m*v**2/(2*k*T))*v**2\n\n\nfig = go.FigureWidget()\n\nxs = np.arange(1, 2000)\n\nline = fig.add_trace(go.Scatter(x=xs, y=mb_dist(xs, 50,30),\n                    mode='lines',\n                    name='lines'))\n\nfig.layout = dict(yaxis=dict(range=[0,0.006]), xaxis=dict(range=[0,2000]), height=600)\n\n\n@interact(T=(0.1, 500, 0.1), m = (1, 50, 1))\ndef update(T=50, m=30):\n    with fig.batch_update():\n        fig.data[0].y=mb_dist(xs,T,m)\n        fig.data[0]['line']['color']='rgb({}, 0, 0)'.format(T)\n        \n        \n\nfig.update_layout(\n    title={\n        'text': \"Maxwell-Boltzmann Distribution\",\n        'y':0.9,\n        'x':0.5,\n        'xanchor': 'center',\n        'yanchor': 'top'})\n\nfig.update_xaxes(\n        title_text = \"velocity ($m/s$)\",\n        title_standoff = 25,\n        ticks = 'outside',\n        ticklen = 10)\n\nfig.update_yaxes(\n        title_text = \"Temperature\",\n        title_standoff = 25,\n        ticks = 'outside',\n        ticklen = 10)\n\nfig\n",
    "id": "7852846e2e0149d7951d0fb847ce4f33",
    "idx": 3,
    "time": "2021-01-26T21:35:35.901Z",
    "type": "execution"
   },
   {
    "id": "7852846e2e0149d7951d0fb847ce4f33",
    "time": "2021-01-26T21:35:36.136Z",
    "type": "completion"
   },
   {
    "code": "import plotly.graph_objects as go\nfrom ipywidgets import interact\nimport numpy as np\nimport matplotlib.cm as cm\n\n\nk = 1.38e-23  #Boltzmann constant in kg m^2 / (s^2 K)\n\ndef mb_dist(v,T,m):\n    m = 1.6e-27*m  # convert amu to kg\n    return 4*np.pi*(m/(2*np.pi*k*T))**1.5*np.exp(-m*v**2/(2*k*T))*v**2\n\n\nfig = go.FigureWidget()\n\nxs = np.arange(1, 2000)\n\nline = fig.add_trace(go.Scatter(x=xs, y=mb_dist(xs, 50,30),\n                    mode='lines',\n                    name='lines'))\n\nfig.layout = dict(yaxis=dict(range=[0,0.006]), xaxis=dict(range=[0,2000]), height=600)\n\n\n@interact(T=(0.1, 500, 0.1), m = (1, 50, 1))\ndef update(T=50, m=30):\n    with fig.batch_update():\n        fig.data[0].y=mb_dist(xs,T,m)\n        fig.data[0]['line']['color']='rgb({}, 0, 0)'.format(T)\n        \n        \n\nfig.update_layout(\n    title={\n        'text': \"Maxwell-Boltzmann Distribution\",\n        'y':0.9,\n        'x':0.5,\n        'xanchor': 'center',\n        'yanchor': 'top'})\n\nfig.update_xaxes(\n        title_text = \"velocity ($m/s$)\",\n        title_standoff = 25,\n        ticks = 'outside',\n        ticklen = 10)\n\nfig.update_yaxes(\n        title_text = \"Probability\",\n        title_standoff = 25,\n        ticks = 'outside',\n        ticklen = 10)\n\nfig\n",
    "id": "7852846e2e0149d7951d0fb847ce4f33",
    "idx": 3,
    "time": "2021-01-26T21:35:46.713Z",
    "type": "execution"
   },
   {
    "id": "7852846e2e0149d7951d0fb847ce4f33",
    "time": "2021-01-26T21:35:46.978Z",
    "type": "completion"
   },
   {
    "code": "import plotly.graph_objects as go\nfrom ipywidgets import interact\nimport numpy as np\nimport matplotlib.cm as cm\n\n\nk = 1.38e-23  #Boltzmann constant in kg m^2 / (s^2 K)\n\ndef mb_dist(v,T,m):\n    m = 1.6e-27*m  # convert amu to kg\n    return 4*np.pi*(m/(2*np.pi*k*T))**1.5*np.exp(-m*v**2/(2*k*T))*v**2\n\n\nfig = go.FigureWidget()\n\nxs = np.arange(1, 2000)\n\nline = fig.add_trace(go.Scatter(x=xs, y=mb_dist(xs, 50,30),\n                    mode='lines',\n                    name='lines'))\n\nfig.layout = dict(yaxis=dict(range=[0,0.006]), xaxis=dict(range=[0,2000]), height=600)\n\n\n@interact(T=(0.1, 500, 0.1), m = (1, 50, 1))\ndef update(T=50, m=30):\n    with fig.batch_update():\n        fig.data[0].y=mb_dist(xs,T,m)\n        fig.data[0]['line']['color']='rgb({}, 0, 0)'.format(T)\n        \n        \n\nfig.update_layout(\n    title={\n        'text': \"Maxwell-Boltzmann Distribution\",\n        'y':0.9,\n        'x':0.5,\n        'xanchor': 'center',\n        'yanchor': 'top'})\n\nfig.update_xaxes(\n        title_text = \"velocity ($m/s$)\",\n        title_standoff = 25,\n        ticks = 'outside',\n        ticklen = 10,\n        tickcolor='white')\n\nfig.update_yaxes(\n        title_text = \"Probability\",\n        title_standoff = 25,\n        ticks = 'outside',\n        ticklen = 10,\n        tickcolor = 'white')\n\nfig\n",
    "id": "7852846e2e0149d7951d0fb847ce4f33",
    "idx": 3,
    "time": "2021-01-26T21:36:04.858Z",
    "type": "execution"
   },
   {
    "id": "7852846e2e0149d7951d0fb847ce4f33",
    "time": "2021-01-26T21:36:05.234Z",
    "type": "completion"
   },
   {
    "code": "import plotly.graph_objects as go\nfrom ipywidgets import interact\nimport numpy as np\nimport matplotlib.cm as cm\n\n\nk = 1.38e-23  #Boltzmann constant in kg m^2 / (s^2 K)\n\ndef mb_dist(v,T,m):\n    m = 1.6e-27*m  # convert amu to kg\n    return 4*np.pi*(m/(2*np.pi*k*T))**1.5*np.exp(-m*v**2/(2*k*T))*v**2\n\n\nfig = go.FigureWidget()\n\nxs = np.arange(1, 2000)\n\nline = fig.add_trace(go.Scatter(x=xs, y=mb_dist(xs, 50,30),\n                    mode='lines',\n                    name='lines'))\n\nfig.layout = dict(yaxis=dict(range=[0,0.006]), xaxis=dict(range=[0,2000]), height=600)\n\n\n@interact(T=(0.1, 500, 0.1), m = (1, 50, 1))\ndef update(T=50, m=30):\n    with fig.batch_update():\n        fig.data[0].y=mb_dist(xs,T,m)\n        fig.data[0]['line']['color']='rgb({}, 0, 0)'.format(T)\n        \n        \n\nfig.update_layout(\n    title={\n        'text': \"Maxwell-Boltzmann Distribution\",\n        'y':0.9,\n        'x':0.5,\n        'xanchor': 'center',\n        'yanchor': 'top'})\n\nfig.update_xaxes(\n        title_text = \"molecular speed ($m/s$)\",\n        title_standoff = 25,\n        ticks = 'outside',\n        ticklen = 10,\n        tickcolor='white')\n\nfig.update_yaxes(\n        title_text = \"probability density\",\n        title_standoff = 25,\n        ticks = 'outside',\n        ticklen = 10,\n        tickcolor = 'white')\n\nfig\n",
    "id": "7852846e2e0149d7951d0fb847ce4f33",
    "idx": 3,
    "time": "2021-01-26T21:36:36.571Z",
    "type": "execution"
   },
   {
    "id": "7852846e2e0149d7951d0fb847ce4f33",
    "time": "2021-01-26T21:36:36.811Z",
    "type": "completion"
   },
   {
    "code": "import plotly.graph_objects as go\nfrom ipywidgets import interact\nimport numpy as np\nimport matplotlib.cm as cm\n\n\nk = 1.38e-23  #Boltzmann constant in kg m^2 / (s^2 K)\n\ndef mb_dist(v,T,m):\n    m = 1.6e-27*m  # convert amu to kg\n    return 4*np.pi*(m/(2*np.pi*k*T))**1.5*np.exp(-m*v**2/(2*k*T))*v**2\n\n\nfig = go.FigureWidget()\n\nxs = np.arange(1, 2000)\n\nline = fig.add_trace(go.Scatter(x=xs, y=mb_dist(xs, 50,30),\n                    mode='lines',\n                    name='lines'))\n\nfig.layout = dict(yaxis=dict(range=[0,0.006]), xaxis=dict(range=[0,2000]), height=600)\n\n\n@interact(T=(0.1, 500, 0.1), m = (1, 50, 1))\ndef update(T=50, m=30):\n    with fig.batch_update():\n        fig.data[0].y=mb_dist(xs,T,m)\n        fig.data[0]['line']['color']='rgb({}, 0, 0)'.format(T)\n        \n        \n\nfig.update_layout(\n    title={\n        'text': \"Maxwell-Boltzmann Distribution\",\n        'y':0.9,\n        'x':0.5,\n        'xanchor': 'center',\n        'yanchor': 'top'})\n\nfig.update_xaxes(\n        title_text = r\"$\\text{molecular speed }(m/s)$\",\n        title_standoff = 25,\n        ticks = 'outside',\n        ticklen = 10,\n        tickcolor='white')\n\nfig.update_yaxes(\n        title_text = \"probability density\",\n        title_standoff = 25,\n        ticks = 'outside',\n        ticklen = 10,\n        tickcolor = 'white')\n\nfig\n",
    "id": "7852846e2e0149d7951d0fb847ce4f33",
    "idx": 3,
    "time": "2021-01-26T21:37:41.579Z",
    "type": "execution"
   },
   {
    "id": "7852846e2e0149d7951d0fb847ce4f33",
    "time": "2021-01-26T21:37:41.823Z",
    "type": "completion"
   },
   {
    "code": "import plotly.graph_objects as go\nfrom ipywidgets import interact\nimport numpy as np\nimport matplotlib.cm as cm\n\n\nk = 1.38e-23  #Boltzmann constant in kg m^2 / (s^2 K)\n\ndef mb_dist(v,T,m):\n    m = 1.6e-27*m  # convert amu to kg\n    return 4*np.pi*(m/(2*np.pi*k*T))**1.5*np.exp(-m*v**2/(2*k*T))*v**2\n\n\nfig = go.FigureWidget()\n\nxs = np.arange(1, 2000)\n\nline = fig.add_trace(go.Scatter(x=xs, y=mb_dist(xs, 50,30),\n                    mode='lines',\n                    name='lines'))\n\nfig.layout = dict(yaxis=dict(range=[0,0.006]), xaxis=dict(range=[0,2000]), height=600)\n\n\n@interact(T=(0.1, 500, 0.1), m = (1, 50, 1))\ndef update(T=50, m=30):\n    with fig.batch_update():\n        fig.data[0].y=mb_dist(xs,T,m)\n        fig.data[0]['line']['color']='rgb({}, 0, 0)'.format(T)\n        \n        \n\nfig.update_layout(\n    title={\n        'text': \"Maxwell-Boltzmann Distribution\",\n        'y':0.9,\n        'x':0.5,\n        'xanchor': 'center',\n        'yanchor': 'top'})\n\nfig.update_xaxes(\n        title_text = r\"$\\text{molecular speed }(\\frac{m}{s})$\",\n        title_standoff = 25,\n        ticks = 'outside',\n        ticklen = 10,\n        tickcolor='white')\n\nfig.update_yaxes(\n        title_text = \"probability density\",\n        title_standoff = 25,\n        ticks = 'outside',\n        ticklen = 10,\n        tickcolor = 'white')\n\nfig\n",
    "id": "7852846e2e0149d7951d0fb847ce4f33",
    "idx": 3,
    "time": "2021-01-26T21:38:04.235Z",
    "type": "execution"
   },
   {
    "id": "7852846e2e0149d7951d0fb847ce4f33",
    "time": "2021-01-26T21:38:04.476Z",
    "type": "completion"
   },
   {
    "code": "import plotly.graph_objects as go\nfrom ipywidgets import interact\nimport numpy as np\nimport matplotlib.cm as cm\n\n\nk = 1.38e-23  #Boltzmann constant in kg m^2 / (s^2 K)\n\ndef mb_dist(v,T,m):\n    m = 1.6e-27*m  # convert amu to kg\n    return 4*np.pi*(m/(2*np.pi*k*T))**1.5*np.exp(-m*v**2/(2*k*T))*v**2\n\n\nfig = go.FigureWidget()\n\nxs = np.arange(1, 2000)\n\nline = fig.add_trace(go.Scatter(x=xs, y=mb_dist(xs, 50,30),\n                    mode='lines',\n                    name='lines'))\n\nfig.layout = dict(yaxis=dict(range=[0,0.006]), xaxis=dict(range=[0,2000]), height=600)\n\n\n@interact(T=(0.1, 500, 0.1), m = (1, 50, 1))\ndef update(T=50, m=30):\n    with fig.batch_update():\n        fig.data[0].y=mb_dist(xs,T,m)\n        fig.data[0]['line']['color']='rgb({}, 0, 0)'.format(T)\n        \n        \n\nfig.update_layout(\n    title={\n        'text': \"Maxwell-Boltzmann Distribution\",\n        'y':0.9,\n        'x':0.5,\n        'xanchor': 'center',\n        'yanchor': 'top'})\n\nfig.update_xaxes(\n        title_text = r\"$\\text{molecular speed }[\\frac{m}{s}]$\",\n        title_standoff = 25,\n        ticks = 'outside',\n        ticklen = 10,\n        tickcolor='white')\n\nfig.update_yaxes(\n        title_text = \"probability density\",\n        title_standoff = 25,\n        ticks = 'outside',\n        ticklen = 10,\n        tickcolor = 'white')\n\nfig\n",
    "id": "7852846e2e0149d7951d0fb847ce4f33",
    "idx": 3,
    "time": "2021-01-26T21:38:11.680Z",
    "type": "execution"
   },
   {
    "id": "7852846e2e0149d7951d0fb847ce4f33",
    "time": "2021-01-26T21:38:11.912Z",
    "type": "completion"
   },
   {
    "code": "import plotly.graph_objects as go\nfrom ipywidgets import interact\nimport numpy as np\nimport matplotlib.cm as cm\n\n\nk = 1.38e-23  #Boltzmann constant in kg m^2 / (s^2 K)\n\ndef mb_dist(v,T,m):\n    m = 1.6e-27*m  # convert amu to kg\n    return 4*np.pi*(m/(2*np.pi*k*T))**1.5*np.exp(-m*v**2/(2*k*T))*v**2\n\n\nfig = go.FigureWidget()\n\nxs = np.arange(1, 2000)\n\nline = fig.add_trace(go.Scatter(x=xs, y=mb_dist(xs, 50,30),\n                    mode='lines',\n                    name='lines'))\n\nfig.layout = dict(yaxis=dict(range=[0,0.006]), xaxis=dict(range=[0,2000]), height=600)\n\n\n@interact(T=(0.1, 500, 0.1), m = (1, 50, 1))\ndef update(T=50, m=30):\n    with fig.batch_update():\n        fig.data[0].y=mb_dist(xs,T,m)\n        fig.data[0]['line']['color']='rgb({}, 0, 0)'.format(T)\n        \n        \n\nfig.update_layout(\n    title={\n        'text': \"Maxwell-Boltzmann Distribution\",\n        'y':0.9,\n        'x':0.5,\n        'xanchor': 'center',\n        'yanchor': 'top'})\n\nfig.update_xaxes(\n        title_text = r\"$\\text{molecular speed }\\Big[\\frac{m}{s}\\Big]$\",\n        title_standoff = 25,\n        ticks = 'outside',\n        ticklen = 10,\n        tickcolor='white')\n\nfig.update_yaxes(\n        title_text = \"probability density\",\n        title_standoff = 25,\n        ticks = 'outside',\n        ticklen = 10,\n        tickcolor = 'white')\n\nfig\n",
    "id": "7852846e2e0149d7951d0fb847ce4f33",
    "idx": 3,
    "time": "2021-01-26T21:38:20.654Z",
    "type": "execution"
   },
   {
    "id": "7852846e2e0149d7951d0fb847ce4f33",
    "time": "2021-01-26T21:38:20.953Z",
    "type": "completion"
   },
   {
    "code": "import plotly.graph_objects as go\nfrom ipywidgets import interact\nimport numpy as np\nimport matplotlib.cm as cm\n\n\nk = 1.38e-23  #Boltzmann constant in kg m^2 / (s^2 K)\nxs = np.arange(1, 2000)  #\n\ndef mb_dist(v,T,m):\n    m = 1.6e-27*m  # convert amu to kg\n    return 4*np.pi*(m/(2*np.pi*k*T))**1.5*np.exp(-m*v**2/(2*k*T))*v**2\n\n\nfig = go.FigureWidget()\n\n\n\nline = fig.add_trace(go.Scatter(x=xs, y=mb_dist(xs, 50,30),\n                    mode='lines',\n                    name='lines'))\n\nfig.layout = dict(yaxis=dict(range=[0,0.006]), xaxis=dict(range=[0,2000]), height=600)\n\n\n@interact(T=(0.1, 500, 0.1), m = (1, 50, 1))\ndef update(T=50, m=30):\n    with fig.batch_update():\n        fig.data[0].y=mb_dist(xs,T,m)\n        fig.data[0]['line']['color']='rgb({}, 0, 0)'.format(T)\n        \n        \n\nfig.update_layout(\n    title={\n        'text': \"Maxwell-Boltzmann Distribution\",\n        'y':0.9,\n        'x':0.5,\n        'xanchor': 'center',\n        'yanchor': 'top'},\n    paper_bgcolor=\"LightSteelBlue\")\n\nfig.update_xaxes(\n        title_text = r\"$\\text{molecular speed }\\Big[\\frac{m}{s}\\Big]$\",\n        title_standoff = 25,\n        ticks = 'outside',\n        ticklen = 10,\n        tickcolor='white')\n\nfig.update_yaxes(\n        title_text = \"probability density\",\n        title_standoff = 25,\n        ticks = 'outside',\n        ticklen = 10,\n        tickcolor = 'white')\n\nfig\n",
    "id": "7852846e2e0149d7951d0fb847ce4f33",
    "idx": 3,
    "time": "2021-01-26T21:43:43.231Z",
    "type": "execution"
   },
   {
    "id": "7852846e2e0149d7951d0fb847ce4f33",
    "time": "2021-01-26T21:43:43.502Z",
    "type": "completion"
   },
   {
    "code": "import plotly.graph_objects as go\nfrom ipywidgets import interact\nimport numpy as np\nimport matplotlib.cm as cm\n\n\nk = 1.38e-23  #Boltzmann constant in kg m^2 / (s^2 K)\nxs = np.arange(1, 2000)  #\n\ndef mb_dist(v,T,m):\n    m = 1.6e-27*m  # convert amu to kg\n    return 4*np.pi*(m/(2*np.pi*k*T))**1.5*np.exp(-m*v**2/(2*k*T))*v**2\n\n\nfig = go.FigureWidget()\n\n\n\nline = fig.add_trace(go.Scatter(x=xs, y=mb_dist(xs, 50,30),\n                    mode='lines',\n                    name='lines'))\n\nfig.layout = dict(yaxis=dict(range=[0,0.006]), xaxis=dict(range=[0,2000]), height=600)\n\n\n@interact(T=(0.1, 500, 0.1), m = (1, 50, 1))\ndef update(T=50, m=30):\n    with fig.batch_update():\n        fig.data[0].y=mb_dist(xs,T,m)\n        fig.data[0]['line']['color']='rgb({}, 0, 0)'.format(T)\n        \n        \n\nfig.update_layout(\n    title={\n        'text': \"Maxwell-Boltzmann Distribution\",\n        'y':0.9,\n        'x':0.5,\n        'xanchor': 'center',\n        'yanchor': 'top'})\n\nfig.update_xaxes(\n        title_text = r\"$\\text{molecular speed }\\Big[\\frac{m}{s}\\Big]$\",\n        title_standoff = 25,\n        ticks = 'outside',\n        ticklen = 10,\n        tickcolor='white')\n\nfig.update_yaxes(\n        title_text = \"probability density\",\n        title_standoff = 25,\n        ticks = 'outside',\n        ticklen = 10,\n        tickcolor = 'white')\n\nfig\n",
    "id": "7852846e2e0149d7951d0fb847ce4f33",
    "idx": 3,
    "time": "2021-01-26T21:44:50.988Z",
    "type": "execution"
   },
   {
    "id": "7852846e2e0149d7951d0fb847ce4f33",
    "time": "2021-01-26T21:44:51.258Z",
    "type": "completion"
   },
   {
    "code": "import plotly.graph_objects as go\nfrom ipywidgets import interact\nimport numpy as np\nimport matplotlib.cm as cm\n\n\nk = 1.38e-23  #Boltzmann constant in kg m^2 / (s^2 K)\nxs = np.arange(1, 2000)  #\n\ndef mb_dist(v,T,m):\n    m = 1.6e-27*m  # convert amu to kg\n    return 4*np.pi*(m/(2*np.pi*k*T))**1.5*np.exp(-m*v**2/(2*k*T))*v**2\n\n\nfig = go.FigureWidget()\n\n\n\nline = fig.add_trace(go.Scatter(x=xs, y=mb_dist(xs, 50,30),\n                    mode='lines',\n                    name='lines'))\n\nfig.layout = dict(yaxis=dict(range=[0,0.006]), xaxis=dict(range=[0,2000]), height=600)\n\n\n@interact(T=(0.1, 500, 0.1), m = (1, 50, 1))\ndef update(T=50, m=30):\n    with fig.batch_update():\n        fig.data[0].y=mb_dist(xs,T,m)\n        fig.data[0]['line']['color']='rgb({}, 0, 0)'.format(T)\n        \n        \n\nfig.update_layout(\n    title={\n        'text': \"Maxwell-Boltzmann Distribution\",\n        'y':0.9,\n        'x':0.5,\n        'xanchor': 'center',\n        'yanchor': 'top'})\n\nfig.update_xaxes(\n        title_text = \"molecular speed\" + r\"$\\Big[\\frac{m}{s}\\Big]$\",\n        title_standoff = 25,\n        ticks = 'outside',\n        ticklen = 10,\n        tickcolor='white')\n\nfig.update_yaxes(\n        title_text = \"probability density\",\n        title_standoff = 25,\n        ticks = 'outside',\n        ticklen = 10,\n        tickcolor = 'white')\n\nfig\n",
    "id": "7852846e2e0149d7951d0fb847ce4f33",
    "idx": 3,
    "time": "2021-01-26T21:45:15.998Z",
    "type": "execution"
   },
   {
    "id": "7852846e2e0149d7951d0fb847ce4f33",
    "time": "2021-01-26T21:45:16.313Z",
    "type": "completion"
   },
   {
    "code": "import plotly.graph_objects as go\nfrom ipywidgets import interact\nimport numpy as np\nimport matplotlib.cm as cm\n\n\nk = 1.38e-23  #Boltzmann constant in kg m^2 / (s^2 K)\nxs = np.arange(1, 2000)  #\n\ndef mb_dist(v,T,m):\n    m = 1.6e-27*m  # convert amu to kg\n    return 4*np.pi*(m/(2*np.pi*k*T))**1.5*np.exp(-m*v**2/(2*k*T))*v**2\n\n\nfig = go.FigureWidget()\n\n\n\nline = fig.add_trace(go.Scatter(x=xs, y=mb_dist(xs, 50,30),\n                    mode='lines',\n                    name='lines'))\n\nfig.layout = dict(yaxis=dict(range=[0,0.006]), xaxis=dict(range=[0,2000]), height=600)\n\n\n@interact(T=(0.1, 500, 0.1), m = (1, 50, 1))\ndef update(T=50, m=30):\n    with fig.batch_update():\n        fig.data[0].y=mb_dist(xs,T,m)\n        fig.data[0]['line']['color']='rgb({}, 0, 0)'.format(T)\n        \n        \n\nfig.update_layout(\n    title={\n        'text': \"Maxwell-Boltzmann Distribution\",\n        'y':0.9,\n        'x':0.5,\n        'xanchor': 'center',\n        'yanchor': 'top'})\n\nfig.update_xaxes(\n        title_text = r\"$\\text{molecular speed }\\Big[\\frac{m}{s}\\Big]$\",\n        title_standoff = 25,\n        ticks = 'outside',\n        ticklen = 10,\n        tickcolor='white')\n\nfig.update_yaxes(\n        title_text = \"probability density\",\n        title_standoff = 25,\n        ticks = 'outside',\n        ticklen = 10,\n        tickcolor = 'white')\n\nfig\n",
    "id": "7852846e2e0149d7951d0fb847ce4f33",
    "idx": 3,
    "time": "2021-01-26T21:45:26.832Z",
    "type": "execution"
   },
   {
    "id": "7852846e2e0149d7951d0fb847ce4f33",
    "time": "2021-01-26T21:45:27.077Z",
    "type": "completion"
   },
   {
    "code": "import plotly.graph_objects as go\nfrom ipywidgets import interact\nimport numpy as np\nimport matplotlib.cm as cm\n\n\nk = 1.38e-23  #Boltzmann constant in kg m^2 / (s^2 K)\nxs = np.arange(1, 2000)  #\n\ndef mb_dist(v,T,m):\n    m = 1.6e-27*m  # convert amu to kg\n    return 4*np.pi*(m/(2*np.pi*k*T))**1.5*np.exp(-m*v**2/(2*k*T))*v**2\n\n\nfig = go.FigureWidget()\n\n\n\nline = fig.add_trace(go.Scatter(x=xs, y=mb_dist(xs, 50,30),\n                    mode='lines',\n                    name='lines'))\n\nfig.layout = dict(yaxis=dict(range=[0,0.006]), xaxis=dict(range=[0,2000]), height=600)\n\n\n@interact(T=(0.1, 500, 0.1), m = (1, 50, 1))\ndef update(T=50, m=30):\n    with fig.batch_update():\n        fig.data[0].y=mb_dist(xs,T,m)\n        fig.data[0]['line']['color']='rgb({}, 0, 0)'.format(T)\n        \n        \n\nfig.update_layout(\n    title={\n        'text': \"Maxwell-Boltzmann Distribution\",\n        'y':0.9,\n        'x':0.5,\n        'xanchor': 'center',\n        'yanchor': 'top'})\n\nfig.update_xaxes(\n        title_text = \"molecular speed [m/s]\",\n        title_standoff = 25,\n        ticks = 'outside',\n        ticklen = 10,\n        tickcolor='white')\n\nfig.update_yaxes(\n        title_text = \"probability density\",\n        title_standoff = 25,\n        ticks = 'outside',\n        ticklen = 10,\n        tickcolor = 'white')\n\nfig\n",
    "id": "7852846e2e0149d7951d0fb847ce4f33",
    "idx": 3,
    "time": "2021-01-26T21:47:13.809Z",
    "type": "execution"
   },
   {
    "id": "7852846e2e0149d7951d0fb847ce4f33",
    "time": "2021-01-26T21:47:14.057Z",
    "type": "completion"
   },
   {
    "code": "import plotly.graph_objects as go\nfrom ipywidgets import interact\nimport numpy as np\nimport matplotlib.cm as cm\n\n\nk = 1.38e-23  #Boltzmann constant in kg m^2 / (s^2 K)\nxs = np.arange(1, 2000)  #\n\ndef mb_dist(v,T,m):\n    m = 1.6e-27*m  # convert amu to kg\n    return 4*np.pi*(m/(2*np.pi*k*T))**1.5*np.exp(-m*v**2/(2*k*T))*v**2\n\n\nfig = go.FigureWidget()\n\n\n\nline = fig.add_trace(go.Scatter(x=xs, y=mb_dist(xs, 50,30),\n                    mode='lines',\n                    name='lines'))\n\nfig.layout = dict(yaxis=dict(range=[0,0.006]), xaxis=dict(range=[0,2000]), height=600)\n\n\n@interact(T=(0.1, 500, 0.1), m = (1, 50, 1))\ndef update(T=50, m=30):\n    with fig.batch_update():\n        fig.data[0].y=mb_dist(xs,T,m)\n        fig.data[0]['line']['color']='rgb({}, 0, 0)'.format(T)\n        \n        \n\nfig.update_layout(\n    title={\n        'text': \"Maxwell-Boltzmann Distribution\",\n        'y':0.9,\n        'x':0.5,\n        'xanchor': 'center',\n        'yanchor': 'top'})\n\nfig.update_xaxes(\n        title_text = \"molecular speed [m/s]\",\n        title_standoff = 25,\n        ticks = 'outside',\n        ticklen = 10,\n        tickcolor='white')\n\nfig.update_yaxes(\n        title_text = \"probability density\",\n        title_standoff = 25,\n        ticks = 'outside',\n        ticklen = 10,\n        tickcolor = 'white')\n\nsliders = [dict(\n    active=10,\n    currentvalue={\"prefix\": \"Frequency: \"},\n    pad={\"t\": 50},\n    steps=steps\n)]\n\nfig.update_layout(\n    sliders=sliders\n)\n\nfig\n",
    "id": "7852846e2e0149d7951d0fb847ce4f33",
    "idx": 3,
    "time": "2021-01-26T21:48:59.914Z",
    "type": "execution"
   },
   {
    "id": "7852846e2e0149d7951d0fb847ce4f33",
    "time": "2021-01-26T21:49:00.180Z",
    "type": "completion"
   },
   {
    "code": "import plotly.graph_objects as go\nfrom ipywidgets import interact\nimport numpy as np\nimport matplotlib.cm as cm\n\n\nk = 1.38e-23  #Boltzmann constant in kg m^2 / (s^2 K)\nxs = np.arange(1, 2000)  #\n\ndef mb_dist(v,T,m):\n    m = 1.6e-27*m  # convert amu to kg\n    return 4*np.pi*(m/(2*np.pi*k*T))**1.5*np.exp(-m*v**2/(2*k*T))*v**2\n\n\nfig = go.FigureWidget()\n\n\n\nline = fig.add_trace(go.Scatter(x=xs, y=mb_dist(xs, 50,30),\n                    mode='lines',\n                    name='lines'))\n\nfig.layout = dict(yaxis=dict(range=[0,0.006]), xaxis=dict(range=[0,2000]), height=600)\n\n\n@interact(T=(0.1, 500, 0.1), m = (1, 50, 1))\ndef update(T=50, m=30):\n    with fig.batch_update():\n        fig.data[0].y=mb_dist(xs,T,m)\n        fig.data[0]['line']['color']='rgb({}, 0, 0)'.format(T)\n        \n        \n\nfig.update_layout(\n    title={\n        'text': \"Maxwell-Boltzmann Distribution\",\n        'y':0.9,\n        'x':0.5,\n        'xanchor': 'center',\n        'yanchor': 'top'})\n\nfig.update_xaxes(\n        title_text = \"molecular speed [m/s]\",\n        title_standoff = 25,\n        ticks = 'outside',\n        ticklen = 10,\n        tickcolor='white')\n\nfig.update_yaxes(\n        title_text = \"probability density\",\n        title_standoff = 25,\n        ticks = 'outside',\n        ticklen = 10,\n        tickcolor = 'white')\n\nsliders = [dict(\n    active=10,\n    currentvalue={\"prefix\": \"Frequency: \"},\n    pad={\"t\": 50},\n    x=x\n)]\n\nfig.update_layout(\n    sliders=sliders\n)\n\nfig\n",
    "id": "7852846e2e0149d7951d0fb847ce4f33",
    "idx": 3,
    "time": "2021-01-26T21:49:07.483Z",
    "type": "execution"
   },
   {
    "id": "7852846e2e0149d7951d0fb847ce4f33",
    "time": "2021-01-26T21:49:07.741Z",
    "type": "completion"
   },
   {
    "code": "import plotly.graph_objects as go\nfrom ipywidgets import interact\nimport numpy as np\nimport matplotlib.cm as cm\n\n\nk = 1.38e-23  #Boltzmann constant in kg m^2 / (s^2 K)\nxs = np.arange(1, 2000)  #\n\ndef mb_dist(v,T,m):\n    m = 1.6e-27*m  # convert amu to kg\n    return 4*np.pi*(m/(2*np.pi*k*T))**1.5*np.exp(-m*v**2/(2*k*T))*v**2\n\n\nfig = go.FigureWidget()\n\n\n\nline = fig.add_trace(go.Scatter(x=xs, y=mb_dist(xs, 50,30),\n                    mode='lines',\n                    name='lines'))\n\nfig.layout = dict(yaxis=dict(range=[0,0.006]), xaxis=dict(range=[0,2000]), height=600)\n\n\n@interact(T=(0.1, 500, 0.1), m = (1, 50, 1))\ndef update(T=50, m=30):\n    with fig.batch_update():\n        fig.data[0].y=mb_dist(xs,T,m)\n        fig.data[0]['line']['color']='rgb({}, 0, 0)'.format(T)\n        \n        \n\nfig.update_layout(\n    title={\n        'text': \"Maxwell-Boltzmann Distribution\",\n        'y':0.9,\n        'x':0.5,\n        'xanchor': 'center',\n        'yanchor': 'top'})\n\nfig.update_xaxes(\n        title_text = \"molecular speed [m/s]\",\n        title_standoff = 25,\n        ticks = 'outside',\n        ticklen = 10,\n        tickcolor='white')\n\nfig.update_yaxes(\n        title_text = \"probability density\",\n        title_standoff = 25,\n        ticks = 'outside',\n        ticklen = 10,\n        tickcolor = 'white')\n\nsliders = [dict(\n    active=10,\n    currentvalue={\"prefix\": \"Frequency: \"},\n    pad={\"t\": 50},\n    xs=xs\n)]\n\nfig.update_layout(\n    sliders=sliders\n)\n\nfig\n",
    "id": "7852846e2e0149d7951d0fb847ce4f33",
    "idx": 3,
    "time": "2021-01-26T21:49:11.299Z",
    "type": "execution"
   },
   {
    "id": "7852846e2e0149d7951d0fb847ce4f33",
    "time": "2021-01-26T21:49:11.586Z",
    "type": "completion"
   },
   {
    "code": "import plotly.graph_objects as go\nfrom ipywidgets import interact\nimport numpy as np\nimport matplotlib.cm as cm\n\n\nk = 1.38e-23  #Boltzmann constant in kg m^2 / (s^2 K)\nxs = np.arange(1, 2000)  #\n\ndef mb_dist(v,T,m):\n    m = 1.6e-27*m  # convert amu to kg\n    return 4*np.pi*(m/(2*np.pi*k*T))**1.5*np.exp(-m*v**2/(2*k*T))*v**2\n\n\nfig = go.FigureWidget()\n\n\n\nline = fig.add_trace(go.Scatter(x=xs, y=mb_dist(xs, 50,30),\n                    mode='lines',\n                    name='lines'))\n\nfig.layout = dict(yaxis=dict(range=[0,0.006]), xaxis=dict(range=[0,2000]), height=600)\n\n\n@interact(T=(0.1, 500, 0.1), m = (1, 50, 1))\ndef update(T=50, m=30):\n    with fig.batch_update():\n        fig.data[0].y=mb_dist(xs,T,m)\n        fig.data[0]['line']['color']='rgb({}, 0, 0)'.format(T)\n        \n        \n\nfig.update_layout(\n    title={\n        'text': \"Maxwell-Boltzmann Distribution\",\n        'y':0.9,\n        'x':0.5,\n        'xanchor': 'center',\n        'yanchor': 'top'})\n\nfig.update_xaxes(\n        title_text = \"molecular speed [m/s]\",\n        title_standoff = 25,\n        ticks = 'outside',\n        ticklen = 10,\n        tickcolor='white')\n\nfig.update_yaxes(\n        title_text = \"probability density\",\n        title_standoff = 25,\n        ticks = 'outside',\n        ticklen = 10,\n        tickcolor = 'white')\n\nsliders = [dict(\n    active=10,\n    currentvalue={\"prefix\": \"Frequency: \"},\n    pad={\"t\": 50},\n    steps=xs\n)]\n\nfig.update_layout(\n    sliders=sliders\n)\n\nfig\n",
    "id": "7852846e2e0149d7951d0fb847ce4f33",
    "idx": 3,
    "time": "2021-01-26T21:49:15.513Z",
    "type": "execution"
   },
   {
    "id": "7852846e2e0149d7951d0fb847ce4f33",
    "time": "2021-01-26T21:49:15.781Z",
    "type": "completion"
   },
   {
    "code": "import plotly.graph_objects as go\nfrom ipywidgets import interact\nimport numpy as np\nimport matplotlib.cm as cm\n\n\nk = 1.38e-23  #Boltzmann constant in kg m^2 / (s^2 K)\nxs = np.arange(1, 2000)  #\n\ndef mb_dist(v,T,m):\n    m = 1.6e-27*m  # convert amu to kg\n    return 4*np.pi*(m/(2*np.pi*k*T))**1.5*np.exp(-m*v**2/(2*k*T))*v**2\n\n\nfig = go.FigureWidget()\n\n\n\nline = fig.add_trace(go.Scatter(x=xs, y=mb_dist(xs, 50,30),\n                    mode='lines',\n                    name='lines'))\n\nfig.layout = dict(yaxis=dict(range=[0,0.006]), xaxis=dict(range=[0,2000]), height=600)\n\n\n@interact(T=(0.1, 500, 0.1), m = (1, 50, 1))\ndef update(T=50, m=30):\n    with fig.batch_update():\n        fig.data[0].y=mb_dist(xs,T,m)\n        fig.data[0]['line']['color']='rgb({}, 0, 0)'.format(T)\n        \n        \n\nfig.update_layout(\n    title={\n        'text': \"Maxwell-Boltzmann Distribution\",\n        'y':0.9,\n        'x':0.5,\n        'xanchor': 'center',\n        'yanchor': 'top'})\n\nfig.update_xaxes(\n        title_text = \"molecular speed [m/s]\",\n        title_standoff = 25,\n        ticks = 'outside',\n        ticklen = 10,\n        tickcolor='white')\n\nfig.update_yaxes(\n        title_text = \"probability density\",\n        title_standoff = 25,\n        ticks = 'outside',\n        ticklen = 10,\n        tickcolor = 'white')\n\n\nfig\n",
    "id": "7852846e2e0149d7951d0fb847ce4f33",
    "idx": 3,
    "time": "2021-01-26T21:50:43.385Z",
    "type": "execution"
   },
   {
    "id": "7852846e2e0149d7951d0fb847ce4f33",
    "time": "2021-01-26T21:50:43.631Z",
    "type": "completion"
   },
   {
    "code": "import plotly.graph_objects as go\nfrom ipywidgets import interact\nimport numpy as np\nimport matplotlib.cm as cm\n\n\nk = 1.38e-23  #Boltzmann constant in kg m^2 / (s^2 K)\nxs = np.arange(1, 2000)  #\n\ndef mb_dist(v,T,m):\n    m = 1.6e-27*m  # convert amu to kg\n    return 4*np.pi*(m/(2*np.pi*k*T))**1.5*np.exp(-m*v**2/(2*k*T))*v**2\n\n\nfig = go.FigureWidget()\n\nline = fig.add_trace(go.Scatter(x=xs, y=mb_dist(xs, 50,30),\n                    mode='lines',\n                    name='lines'))\n\nfig.layout = dict(yaxis=dict(range=[0,0.006]), xaxis=dict(range=[0,2000]), height=600)\n\n\n@interact(Temperature=(0.1, 500, 0.1), mass = (1, 50, 1))\ndef update(T=50, m=30):\n    with fig.batch_update():\n        fig.data[0].y=mb_dist(xs,T,m)\n        fig.data[0]['line']['color']='rgb({}, 0, 0)'.format(T)  \n        \n\nfig.update_layout(\n    title={\n        'text': \"Maxwell-Boltzmann Distribution\",\n        'y':0.9,\n        'x':0.5,\n        'xanchor': 'center',\n        'yanchor': 'top'})\n\nfig.update_xaxes(\n        title_text = \"molecular speed [m/s]\",\n        title_standoff = 25,\n        ticks = 'outside',\n        ticklen = 10,\n        tickcolor='white')\n\nfig.update_yaxes(\n        title_text = \"probability density\",\n        title_standoff = 25,\n        ticks = 'outside',\n        ticklen = 10,\n        tickcolor = 'white')\n\n\nfig\n",
    "id": "7852846e2e0149d7951d0fb847ce4f33",
    "idx": 3,
    "time": "2021-01-26T21:59:35.166Z",
    "type": "execution"
   },
   {
    "id": "7852846e2e0149d7951d0fb847ce4f33",
    "time": "2021-01-26T21:59:35.483Z",
    "type": "completion"
   },
   {
    "code": "import plotly.graph_objects as go\nfrom ipywidgets import interact\nimport numpy as np\nimport matplotlib.cm as cm\n\n\nk = 1.38e-23  #Boltzmann constant in kg m^2 / (s^2 K)\nxs = np.arange(1, 2000)  #\n\ndef mb_dist(v,T,m):\n    m = 1.6e-27*m  # convert amu to kg\n    return 4*np.pi*(m/(2*np.pi*k*T))**1.5*np.exp(-m*v**2/(2*k*T))*v**2\n\n\nfig = go.FigureWidget()\n\nline = fig.add_trace(go.Scatter(x=xs, y=mb_dist(xs, 50,30),\n                    mode='lines',\n                    name='lines'))\n\nfig.layout = dict(yaxis=dict(range=[0,0.006]), xaxis=dict(range=[0,2000]), height=600)\n\n\n@interact(Temperature=(0.1, 500, 0.1), mass = (1, 50, 1))\ndef update(Temperature=50, mass=30):\n    with fig.batch_update():\n        fig.data[0].y=mb_dist(xs,Temperature,mass)\n        fig.data[0]['line']['color']='rgb({}, 0, 0)'.format(T)  \n        \n\nfig.update_layout(\n    title={\n        'text': \"Maxwell-Boltzmann Distribution\",\n        'y':0.9,\n        'x':0.5,\n        'xanchor': 'center',\n        'yanchor': 'top'})\n\nfig.update_xaxes(\n        title_text = \"molecular speed [m/s]\",\n        title_standoff = 25,\n        ticks = 'outside',\n        ticklen = 10,\n        tickcolor='white')\n\nfig.update_yaxes(\n        title_text = \"probability density\",\n        title_standoff = 25,\n        ticks = 'outside',\n        ticklen = 10,\n        tickcolor = 'white')\n\n\nfig\n",
    "id": "7852846e2e0149d7951d0fb847ce4f33",
    "idx": 3,
    "time": "2021-01-26T22:00:00.540Z",
    "type": "execution"
   },
   {
    "id": "7852846e2e0149d7951d0fb847ce4f33",
    "time": "2021-01-26T22:00:00.790Z",
    "type": "completion"
   },
   {
    "code": "import plotly.graph_objects as go\nfrom ipywidgets import interact\nimport numpy as np\nimport matplotlib.cm as cm\n\n\nk = 1.38e-23  #Boltzmann constant in kg m^2 / (s^2 K)\nxs = np.arange(1, 2000)  #\n\ndef mb_dist(v,T,m):\n    m = 1.6e-27*m  # convert amu to kg\n    return 4*np.pi*(m/(2*np.pi*k*T))**1.5*np.exp(-m*v**2/(2*k*T))*v**2\n\n\nfig = go.FigureWidget()\n\nline = fig.add_trace(go.Scatter(x=xs, y=mb_dist(xs, 50,30),\n                    mode='lines',\n                    name='lines'))\n\nfig.layout = dict(yaxis=dict(range=[0,0.006]), xaxis=dict(range=[0,2000]), height=600)\n\n\n@interact(Temperature=(0.1, 500, 0.1), mass = (1, 50, 1))\ndef update(Temperature=50, mass=30):\n    with fig.batch_update():\n        fig.data[0].y=mb_dist(xs,Temperature,mass)\n        fig.data[0]['line']['color']='rgb({}, 0, 0)'.format(Temperature)  \n        \n\nfig.update_layout(\n    title={\n        'text': \"Maxwell-Boltzmann Distribution\",\n        'y':0.9,\n        'x':0.5,\n        'xanchor': 'center',\n        'yanchor': 'top'})\n\nfig.update_xaxes(\n        title_text = \"molecular speed [m/s]\",\n        title_standoff = 25,\n        ticks = 'outside',\n        ticklen = 10,\n        tickcolor='white')\n\nfig.update_yaxes(\n        title_text = \"probability density\",\n        title_standoff = 25,\n        ticks = 'outside',\n        ticklen = 10,\n        tickcolor = 'white')\n\n\nfig\n",
    "id": "7852846e2e0149d7951d0fb847ce4f33",
    "idx": 3,
    "time": "2021-01-26T22:00:06.891Z",
    "type": "execution"
   },
   {
    "id": "7852846e2e0149d7951d0fb847ce4f33",
    "time": "2021-01-26T22:00:07.116Z",
    "type": "completion"
   },
   {
    "code": "import plotly.graph_objects as go\nfrom ipywidgets import interact\nimport numpy as np\nimport matplotlib.cm as cm\n\n\nk = 1.38e-23  #Boltzmann constant in kg m^2 / (s^2 K)\nxs = np.arange(1, 2000)  #\n\ndef mb_dist(v,T,m):\n    m = 1.6e-27*m  # convert amu to kg\n    return 4*np.pi*(m/(2*np.pi*k*T))**1.5*np.exp(-m*v**2/(2*k*T))*v**2\n\n\nfig = go.FigureWidget()\n\nline = fig.add_trace(go.Scatter(x=xs, y=mb_dist(xs, 50,30),\n                    mode='lines',\n                    name='lines'))\n\nfig.layout = dict(yaxis=dict(range=[0,0.006]), xaxis=dict(range=[0,2000]), height=600)\n\n\n@interact(Temperature=(0.1, 500, 0.1), mass = (1, 50, 1))\ndef update(Temperature=50, mass=30):\n    with fig.batch_update():\n        fig.data[0].y=mb_dist(xs,Temperature,mass)\n        fig.data[0]['line']['color']='rgb({}, 0, 0)'.format(Temperature)  \n        \n\nfig.update_layout(\n    title={\n        'text': \"Maxwell-Boltzmann Distribution\",\n        'y':0.9,\n        'x':0.5,\n        'xanchor': 'center',\n        'yanchor': 'top'})\n\nfig.update_xaxes(\n        title_text = \"molecular speed [m/s]\",\n        title_standoff = 25,\n        ticks = 'outside',\n        ticklen = 10,\n        tickcolor='white')\n\nfig.update_yaxes(\n        title_text = \"probability density\",\n        title_standoff = 25,\n        ticks = 'outside',\n        ticklen = 10,\n        tickcolor = 'white')\n\n\nfig\n",
    "id": "7852846e2e0149d7951d0fb847ce4f33",
    "idx": 3,
    "time": "2021-01-26T22:02:06.686Z",
    "type": "execution"
   },
   {
    "id": "7852846e2e0149d7951d0fb847ce4f33",
    "time": "2021-01-26T22:02:06.993Z",
    "type": "completion"
   },
   {
    "code": "import plotly.graph_objects as go\nfrom ipywidgets import interact\nimport numpy as np\n\n\nk = 1.38e-23  #Boltzmann constant in kg m^2 / (s^2 K)\nxs = np.arange(1, 2000)  #\n\ndef mb_dist(v,T,m):\n    m = 1.6e-27*m  # convert amu to kg\n    return 4*np.pi*(m/(2*np.pi*k*T))**1.5*np.exp(-m*v**2/(2*k*T))*v**2\n\n\nfig = go.FigureWidget()\n\nline = fig.add_trace(go.Scatter(x=xs, y=mb_dist(xs, 50,30),\n                    mode='lines',\n                    name='lines'))\n\nfig.layout = dict(yaxis=dict(range=[0,0.006]), xaxis=dict(range=[0,2000]), height=600)\n\n\n@interact(Temperature=(0.1, 500, 0.1), mass = (1, 50, 1))\ndef update(Temperature=50, mass=30):\n    with fig.batch_update():\n        fig.data[0].y=mb_dist(xs,Temperature,mass)\n        fig.data[0]['line']['color']='rgb({}, 0, 0)'.format(Temperature)  \n        \n\nfig.update_layout(\n    title={\n        'text': \"Maxwell-Boltzmann Distribution\",\n        'y':0.9,\n        'x':0.5,\n        'xanchor': 'center',\n        'yanchor': 'top'})\n\nfig.update_xaxes(\n        title_text = \"molecular speed [m/s]\",\n        title_standoff = 25,\n        ticks = 'outside',\n        ticklen = 10,\n        tickcolor='white')\n\nfig.update_yaxes(\n        title_text = \"probability density\",\n        title_standoff = 25,\n        ticks = 'outside',\n        ticklen = 10,\n        tickcolor = 'white')\n\n\nfig\n",
    "id": "7852846e2e0149d7951d0fb847ce4f33",
    "idx": 3,
    "time": "2021-01-26T22:02:10.623Z",
    "type": "execution"
   },
   {
    "id": "7852846e2e0149d7951d0fb847ce4f33",
    "time": "2021-01-26T22:02:10.894Z",
    "type": "completion"
   },
   {
    "code": "import plotly.graph_objects as go\nfrom ipywidgets import interact\nimport numpy as np\n\nk = 1.38e-23  #Boltzmann constant in kg m^2 / (s^2 K)\nxs = np.arange(1, 2000)  #\n\ndef mb_dist(v,T,m):\n    m = 1.6e-27*m  # convert amu to kg\n    return 4*np.pi*(m/(2*np.pi*k*T))**1.5*np.exp(-m*v**2/(2*k*T))*v**2\n\n\nfig = go.FigureWidget()\n\nline = fig.add_trace(go.Scatter(x=xs, y=mb_dist(xs, 50,30),\n                    mode='lines',\n                    name='lines'))\n\nfig.layout = dict(yaxis=dict(range=[0,0.006]), xaxis=dict(range=[0,2000]), height=600)\n\n\n@interact(Temperature=(0.1, 500, 0.1), mass = (1, 50, 1))\ndef update(Temperature=50, mass=30):\n    with fig.batch_update():\n        fig.data[0].y=mb_dist(xs,Temperature,mass)\n        fig.data[0]['line']['color']='rgb({}, 0, 0)'.format(Temperature)  \n        \n\nfig.update_layout(\n    title={\n        'text': \"Maxwell-Boltzmann Distribution\",\n        'y':0.9,\n        'x':0.5,\n        'xanchor': 'center',\n        'yanchor': 'top'})\n\nfig.update_xaxes(\n        title_text = \"molecular speed [m/s]\",\n        title_standoff = 25,\n        ticks = 'outside',\n        ticklen = 10,\n        tickcolor='white')\n\nfig.update_yaxes(\n        title_text = \"probability density\",\n        title_standoff = 25,\n        ticks = 'outside',\n        ticklen = 10,\n        tickcolor = 'white')\n\n\nfig\n",
    "id": "7852846e2e0149d7951d0fb847ce4f33",
    "idx": 2,
    "time": "2021-01-26T22:02:35.684Z",
    "type": "execution"
   },
   {
    "id": "7852846e2e0149d7951d0fb847ce4f33",
    "time": "2021-01-26T22:02:35.923Z",
    "type": "completion"
   },
   {
    "code": "import plotly.graph_objects as go\nfrom ipywidgets import interact\nimport numpy as np\n\nk = 1.38e-23  #Boltzmann constant in kg m^2 / (s^2 K)\nxs = np.arange(1, 2000)  #\n\ndef mb_dist(v,T,m):\n    m = 1.6e-27*m  # convert amu to kg\n    return 4*np.pi*(m/(2*np.pi*k*T))**1.5*np.exp(-m*v**2/(2*k*T))*v**2\n\n\nfig = go.FigureWidget()\n\nline = fig.add_trace(go.Scatter(x=xs, y=mb_dist(xs, 50,30),\n                    mode='lines',\n                    name='lines'))\n\nfig.layout = dict(yaxis=dict(range=[0,0.006]), xaxis=dict(range=[0,2000]), height=600)\n\n\n@interact(Temperature=(0.1, 500, 0.1), mass = (1, 50, 1))\ndef update(Temperature=50, mass=30):\n    with fig.batch_update():\n        fig.data[0].y=mb_dist(xs,Temperature,mass)\n        fig.data[0]['line']['color']='rgb({}, 0, 0)'.format(Temperature)  \n        \n\nfig.update_layout(\n    title={\n        'text': \"Maxwell-Boltzmann Distribution\",\n        'y':0.9,\n        'x':0.5,\n        'xanchor': 'center',\n        'yanchor': 'top'})\n\nfig.update_xaxes(\n        title_text = \"molecular speed [m/s]\",\n        title_standoff = 25,\n        ticks = 'outside',\n        ticklen = 10,\n        tickcolor='white')\n\nfig.update_yaxes(\n        title_text = \"probability density\",\n        title_standoff = 25,\n        ticks = 'outside',\n        ticklen = 10,\n        tickcolor = 'white')\n\n\nfig",
    "id": "7852846e2e0149d7951d0fb847ce4f33",
    "idx": 2,
    "time": "2021-01-26T22:02:38.577Z",
    "type": "execution"
   },
   {
    "id": "7852846e2e0149d7951d0fb847ce4f33",
    "time": "2021-01-26T22:02:38.849Z",
    "type": "completion"
   },
   {
    "code": "import plotly.graph_objects as go\nfrom ipywidgets import interact\nimport numpy as np\n\nk = 1.38e-23  #Boltzmann constant in kg m^2 / (s^2 K)\nxs = np.arange(1, 2000)  #\n\ndef mb_dist(v,T,m):\n    m = 1.6e-27*m  # convert amu to kg\n    return 4*np.pi*(m/(2*np.pi*k*T))**1.5*np.exp(-m*v**2/(2*k*T))*v**2\n\n# Plotting\n\nfig = go.FigureWidget()\n\nline = fig.add_trace(go.Scatter(x=xs, y=mb_dist(xs, 50,30),\n                    mode='lines',\n                    name='lines'))\n\nfig.layout = dict(yaxis=dict(range=[0,0.006]), xaxis=dict(range=[0,2000]), height=600)\n\n\n@interact(Temperature=(0.1, 500, 0.1), mass = (1, 50, 1))\ndef update(Temperature=50, mass=30):\n    with fig.batch_update():\n        fig.data[0].y=mb_dist(xs,Temperature,mass)\n        fig.data[0]['line']['color']='rgb({}, 0, 0)'.format(Temperature)  \n \n#Formatting\n\nfig.update_layout(\n    title={\n        'text': \"Maxwell-Boltzmann Distribution\",\n        'y':0.9,\n        'x':0.5,\n        'xanchor': 'center',\n        'yanchor': 'top'})\n\nfig.update_xaxes(\n        title_text = \"molecular speed [m/s]\",\n        title_standoff = 25,\n        ticks = 'outside',\n        ticklen = 10,\n        tickcolor='white')\n\nfig.update_yaxes(\n        title_text = \"probability density\",\n        title_standoff = 25,\n        ticks = 'outside',\n        ticklen = 10,\n        tickcolor = 'white')\n\n\nfig",
    "id": "7852846e2e0149d7951d0fb847ce4f33",
    "idx": 2,
    "time": "2021-01-26T22:03:08.524Z",
    "type": "execution"
   },
   {
    "id": "7852846e2e0149d7951d0fb847ce4f33",
    "time": "2021-01-26T22:03:08.812Z",
    "type": "completion"
   },
   {
    "code": "import plotly.graph_objects as go\nfrom ipywidgets import interact\nimport numpy as np\n\nk = 1.38e-23  #Boltzmann constant in kg m^2 / (s^2 K)\nxs = np.arange(1, 2000)  #\n\ndef mb_dist(v,T,m):\n    m = 1.6e-27*m  # convert amu to kg\n    return 4*np.pi*(m/(2*np.pi*k*T))**1.5*np.exp(-m*v**2/(2*k*T))*v**2\n\n# Plotting\n\nfig = go.FigureWidget()\n\nline = fig.add_trace(go.Scatter(x=xs, y=mb_dist(xs, 50,30),\n                    mode='lines',\n                    name='lines'))\n\nfig.layout = dict(yaxis=dict(range=[0,0.006]), xaxis=dict(range=[0,2000]), height=600)\n\n\n@interact(Temperature=(0.1, 500, 0.1), mass = (1, 50, 1))\ndef update(Temperature=50, mass=30):\n    with fig.batch_update():\n        fig.data[0].y=mb_dist(xs,Temperature,mass)\n        fig.data[0]['line']['color']='rgb({}, 0, 0)'.format(Temperature)\n\n# Formatting\n\nfig.update_layout(\n    title={\n        'text': \"Maxwell-Boltzmann Distribution\",\n        'y':1.0,\n        'x':0.5,\n        'xanchor': 'center',\n        'yanchor': 'top'})\n\nfig.update_xaxes(\n        title_text = \"molecular speed [m/s]\",\n        title_standoff = 25,\n        ticks = 'outside',\n        ticklen = 10,\n        tickcolor='white')\n\nfig.update_yaxes(\n        title_text = \"probability density\",\n        title_standoff = 25,\n        ticks = 'outside',\n        ticklen = 10,\n        tickcolor = 'white')\n\n# Display figure\nfig",
    "id": "7852846e2e0149d7951d0fb847ce4f33",
    "idx": 2,
    "time": "2021-01-26T22:03:46.895Z",
    "type": "execution"
   },
   {
    "id": "7852846e2e0149d7951d0fb847ce4f33",
    "time": "2021-01-26T22:03:47.123Z",
    "type": "completion"
   },
   {
    "code": "import plotly.graph_objects as go\nfrom ipywidgets import interact\nimport numpy as np\n\nk = 1.38e-23  #Boltzmann constant in kg m^2 / (s^2 K)\nxs = np.arange(1, 2000)  #\n\ndef mb_dist(v,T,m):\n    m = 1.6e-27*m  # convert amu to kg\n    return 4*np.pi*(m/(2*np.pi*k*T))**1.5*np.exp(-m*v**2/(2*k*T))*v**2\n\n# Plotting\n\nfig = go.FigureWidget()\n\nline = fig.add_trace(go.Scatter(x=xs, y=mb_dist(xs, 50,30),\n                    mode='lines',\n                    name='lines'))\n\nfig.layout = dict(yaxis=dict(range=[0,0.006]), xaxis=dict(range=[0,2000]), height=600)\n\n\n@interact(Temperature=(0.1, 500, 0.1), mass = (1, 50, 1))\ndef update(Temperature=50, mass=30):\n    with fig.batch_update():\n        fig.data[0].y=mb_dist(xs,Temperature,mass)\n        fig.data[0]['line']['color']='rgb({}, 0, 0)'.format(Temperature)\n\n# Formatting\n\nfig.update_layout(\n    title={\n        'text': \"Maxwell-Boltzmann Distribution\",\n        'y':0.9,\n        'x':0.5,\n        'xanchor': 'center',\n        'yanchor': 'top'})\n\nfig.update_xaxes(\n        title_text = \"molecular speed [m/s]\",\n        title_standoff = 25,\n        ticks = 'outside',\n        ticklen = 10,\n        tickcolor='white')\n\nfig.update_yaxes(\n        title_text = \"probability density\",\n        title_standoff = 25,\n        ticks = 'outside',\n        ticklen = 10,\n        tickcolor = 'white')\n\n# Display figure\nfig",
    "id": "7852846e2e0149d7951d0fb847ce4f33",
    "idx": 2,
    "time": "2021-01-26T22:03:52.863Z",
    "type": "execution"
   },
   {
    "id": "7852846e2e0149d7951d0fb847ce4f33",
    "time": "2021-01-26T22:03:53.147Z",
    "type": "completion"
   },
   {
    "code": "import plotly.graph_objects as go\nfrom ipywidgets import interact\nimport numpy as np\n\nk = 1.38e-23  #Boltzmann constant in kg m^2 / (s^2 K)\nxs = np.arange(1, 2000)  #\n\ndef mb_dist(v,T,m):\n    m = 1.6e-27*m  # convert amu to kg\n    return 4*np.pi*(m/(2*np.pi*k*T))**1.5*np.exp(-m*v**2/(2*k*T))*v**2\n\n# Plotting\n\nfig = go.FigureWidget()\n\nline = fig.add_trace(go.Scatter(x=xs, y=mb_dist(xs, 50,30),\n                    mode='lines',\n                    name='lines'))\n\n@interact(Temperature=(0.1, 500, 0.1), mass = (1, 50, 1))\ndef update(Temperature=50, mass=30):\n    with fig.batch_update():\n        fig.data[0].y=mb_dist(xs,Temperature,mass)\n        fig.data[0]['line']['color']='rgb({}, 0, 0)'.format(Temperature)\n\n# Formatting\n\nfig.layout = dict(yaxis=dict(range=[0,0.006]), xaxis=dict(range=[0,2000]), height=600)\n\nfig.update_layout(\n    title={\n        'text': \"Maxwell-Boltzmann Distribution\",\n        'y':0.9,\n        'x':0.5,\n        'xanchor': 'center',\n        'yanchor': 'top'})\n\nfig.update_xaxes(\n        title_text = \"molecular speed [m/s]\",\n        title_standoff = 25,\n        ticks = 'outside',\n        ticklen = 10,\n        tickcolor='white')\n\nfig.update_yaxes(\n        title_text = \"probability density\",\n        title_standoff = 25,\n        ticks = 'outside',\n        ticklen = 10,\n        tickcolor = 'white')\n\n# Display figure\nfig",
    "id": "7852846e2e0149d7951d0fb847ce4f33",
    "idx": 2,
    "time": "2021-01-26T22:04:34.902Z",
    "type": "execution"
   },
   {
    "id": "7852846e2e0149d7951d0fb847ce4f33",
    "time": "2021-01-26T22:04:35.178Z",
    "type": "completion"
   },
   {
    "code": "import plotly.graph_objects as go\nfrom ipywidgets import interact\nimport numpy as np\n\nk = 1.38e-23  #Boltzmann constant in kg m^2 / (s^2 K)\nxs = np.arange(1, 2000)  #\n\ndef mb_dist(v,T,m):\n    m = 1.6e-27*m  # convert amu to kg\n    return 4*np.pi*(m/(2*np.pi*k*T))**1.5*np.exp(-m*v**2/(2*k*T))*v**2\n\n# Plotting\n\nfig = go.FigureWidget()\n\nline = fig.add_trace(go.Scatter(x=xs, y=mb_dist(xs, 50,30),\n                    mode='lines',\n                    name='lines'))\n\n@interact(Temperature=(0.1, 1000, 0.1), mass = (1, 50, 1))\ndef update(Temperature=50, mass=30):\n    with fig.batch_update():\n        fig.data[0].y=mb_dist(xs,Temperature,mass)\n        fig.data[0]['line']['color']='rgb({}, 0, 0)'.format(Temperature/2)\n\n# Formatting\n\nfig.layout = dict(yaxis=dict(range=[0,0.006]), xaxis=dict(range=[0,2000]), height=600)\n\nfig.update_layout(\n    title={\n        'text': \"Maxwell-Boltzmann Distribution\",\n        'y':0.9,\n        'x':0.5,\n        'xanchor': 'center',\n        'yanchor': 'top'})\n\nfig.update_xaxes(\n        title_text = \"molecular speed [m/s]\",\n        title_standoff = 25,\n        ticks = 'outside',\n        ticklen = 10,\n        tickcolor='white')\n\nfig.update_yaxes(\n        title_text = \"probability density\",\n        title_standoff = 25,\n        ticks = 'outside',\n        ticklen = 10,\n        tickcolor = 'white')\n\n# Display figure\nfig",
    "id": "7852846e2e0149d7951d0fb847ce4f33",
    "idx": 2,
    "time": "2021-01-26T22:12:16.738Z",
    "type": "execution"
   },
   {
    "id": "7852846e2e0149d7951d0fb847ce4f33",
    "time": "2021-01-26T22:12:16.985Z",
    "type": "completion"
   },
   {
    "code": "import plotly.graph_objects as go\nfrom ipywidgets import interact\nimport numpy as np\n\nk = 1.38e-23  #Boltzmann constant in kg m^2 / (s^2 K)\nxs = np.arange(1, 2000)  #\n\ndef mb_dist(v,T,m):\n    m = 1.6e-27*m  # convert amu to kg\n    return 4*np.pi*(m/(2*np.pi*k*T))**1.5*np.exp(-m*v**2/(2*k*T))*v**2\n\n# Plotting\n\nfig = go.FigureWidget()\n\nline = fig.add_trace(go.Scatter(x=xs, y=mb_dist(xs, 50,30),\n                    mode='lines',\n                    name='lines'))\n\n@interact(Temperature=(0.1, 1000, 1), mass = (1, 50, 1))\ndef update(Temperature=50, mass=30):\n    with fig.batch_update():\n        fig.data[0].y=mb_dist(xs,Temperature,mass)\n        fig.data[0]['line']['color']='rgb({}, 0, 0)'.format(Temperature/2)\n\n# Formatting\n\nfig.layout = dict(yaxis=dict(range=[0,0.006]), xaxis=dict(range=[0,2000]), height=600)\n\nfig.update_layout(\n    title={\n        'text': \"Maxwell-Boltzmann Distribution\",\n        'y':0.9,\n        'x':0.5,\n        'xanchor': 'center',\n        'yanchor': 'top'})\n\nfig.update_xaxes(\n        title_text = \"molecular speed [m/s]\",\n        title_standoff = 25,\n        ticks = 'outside',\n        ticklen = 10,\n        tickcolor='white')\n\nfig.update_yaxes(\n        title_text = \"probability density\",\n        title_standoff = 25,\n        ticks = 'outside',\n        ticklen = 10,\n        tickcolor = 'white')\n\n# Display figure\nfig",
    "id": "7852846e2e0149d7951d0fb847ce4f33",
    "idx": 2,
    "time": "2021-01-26T22:12:36.134Z",
    "type": "execution"
   },
   {
    "id": "7852846e2e0149d7951d0fb847ce4f33",
    "time": "2021-01-26T22:12:36.390Z",
    "type": "completion"
   },
   {
    "code": "import plotly.graph_objects as go\nfrom ipywidgets import interact\nimport numpy as np\n\nk = 1.38e-23  #Boltzmann constant in kg m^2 / (s^2 K)\nxs = np.arange(1, 2000)  #\n\ndef mb_dist(v,T,m):\n    m = 1.6e-27*m  # convert amu to kg\n    return 4*np.pi*(m/(2*np.pi*k*T))**1.5*np.exp(-m*v**2/(2*k*T))*v**2\n\n# Plotting\n\nfig = go.FigureWidget()\n\nline = fig.add_trace(go.Scatter(x=xs, y=mb_dist(xs, 50,30),\n                    mode='lines',\n                    name='lines'))\n\n@interact(Temperature=(1, 1000, 1), mass = (1, 50, 1))\ndef update(Temperature=50, mass=30):\n    with fig.batch_update():\n        fig.data[0].y=mb_dist(xs,Temperature,mass)\n        fig.data[0]['line']['color']='rgb({}, 0, 0)'.format(Temperature/2)\n\n# Formatting\n\nfig.layout = dict(yaxis=dict(range=[0,0.006]), xaxis=dict(range=[0,2000]), height=600)\n\nfig.update_layout(\n    title={\n        'text': \"Maxwell-Boltzmann Distribution\",\n        'y':0.9,\n        'x':0.5,\n        'xanchor': 'center',\n        'yanchor': 'top'})\n\nfig.update_xaxes(\n        title_text = \"molecular speed [m/s]\",\n        title_standoff = 25,\n        ticks = 'outside',\n        ticklen = 10,\n        tickcolor='white')\n\nfig.update_yaxes(\n        title_text = \"probability density\",\n        title_standoff = 25,\n        ticks = 'outside',\n        ticklen = 10,\n        tickcolor = 'white')\n\n# Display figure\nfig",
    "id": "7852846e2e0149d7951d0fb847ce4f33",
    "idx": 2,
    "time": "2021-01-26T22:12:41.316Z",
    "type": "execution"
   },
   {
    "id": "7852846e2e0149d7951d0fb847ce4f33",
    "time": "2021-01-26T22:12:41.544Z",
    "type": "completion"
   },
   {
    "code": "import plotly.graph_objects as go\nfrom ipywidgets import interact\nimport numpy as np\n\nk = 1.38e-23  #Boltzmann constant in kg m^2 / (s^2 K)\nxs = np.arange(1, 2000)  #\n\ndef mb_dist(v,T,m):\n    m = 1.6e-27*m  # convert amu to kg\n    return 4*np.pi*(m/(2*np.pi*k*T))**1.5*np.exp(-m*v**2/(2*k*T))*v**2\n\n# Plotting\n\nfig = go.FigureWidget()\n\nline = fig.add_trace(go.Scatter(x=xs, y=mb_dist(xs, 50,30),\n                    mode='lines',\n                    name='lines'))\n\n@interact(Temperature=(1, 1000, 1), mass = (1, 50, 1))\ndef update(Temperature=50, mass=30):\n    with fig.batch_update():\n        fig.data[0].y=mb_dist(xs,Temperature,mass)\n        fig.data[0]['line']['color']='rgb({}, 0, 0)'.format(Temperature/4)\n\n# Formatting\n\nfig.layout = dict(yaxis=dict(range=[0,0.006]), xaxis=dict(range=[0,2000]), height=600)\n\nfig.update_layout(\n    title={\n        'text': \"Maxwell-Boltzmann Distribution\",\n        'y':0.9,\n        'x':0.5,\n        'xanchor': 'center',\n        'yanchor': 'top'})\n\nfig.update_xaxes(\n        title_text = \"molecular speed [m/s]\",\n        title_standoff = 25,\n        ticks = 'outside',\n        ticklen = 10,\n        tickcolor='white')\n\nfig.update_yaxes(\n        title_text = \"probability density\",\n        title_standoff = 25,\n        ticks = 'outside',\n        ticklen = 10,\n        tickcolor = 'white')\n\n# Display figure\nfig",
    "id": "7852846e2e0149d7951d0fb847ce4f33",
    "idx": 2,
    "time": "2021-01-26T22:12:57.219Z",
    "type": "execution"
   },
   {
    "id": "7852846e2e0149d7951d0fb847ce4f33",
    "time": "2021-01-26T22:12:57.466Z",
    "type": "completion"
   },
   {
    "code": "import plotly.graph_objects as go\nfrom ipywidgets import interact\nimport numpy as np\n\nk = 1.38e-23  #Boltzmann constant in kg m^2 / (s^2 K)\nxs = np.arange(1, 2000)  #\n\ndef mb_dist(v,T,m):\n    m = 1.6e-27*m  # convert amu to kg\n    return 4*np.pi*(m/(2*np.pi*k*T))**1.5*np.exp(-m*v**2/(2*k*T))*v**2\n\n# Plotting\n\nfig = go.FigureWidget()\n\nline = fig.add_trace(go.Scatter(x=xs, y=mb_dist(xs, 50,30),\n                    mode='lines',\n                    name='lines'))\n\n@interact(Temperature=(1, 1000, 1), mass = (1, 50, 1))\ndef update(Temperature=50, mass=30):\n    with fig.batch_update():\n        fig.data[0].y=mb_dist(xs,Temperature,mass)\n        fig.data[0]['line']['color']='rgb({}, 0, 0)'.format(Temperature/3)\n\n# Formatting\n\nfig.layout = dict(yaxis=dict(range=[0,0.006]), xaxis=dict(range=[0,2000]), height=600)\n\nfig.update_layout(\n    title={\n        'text': \"Maxwell-Boltzmann Distribution\",\n        'y':0.9,\n        'x':0.5,\n        'xanchor': 'center',\n        'yanchor': 'top'})\n\nfig.update_xaxes(\n        title_text = \"molecular speed [m/s]\",\n        title_standoff = 25,\n        ticks = 'outside',\n        ticklen = 10,\n        tickcolor='white')\n\nfig.update_yaxes(\n        title_text = \"probability density\",\n        title_standoff = 25,\n        ticks = 'outside',\n        ticklen = 10,\n        tickcolor = 'white')\n\n# Display figure\nfig",
    "id": "7852846e2e0149d7951d0fb847ce4f33",
    "idx": 2,
    "time": "2021-01-26T22:13:18.049Z",
    "type": "execution"
   },
   {
    "id": "7852846e2e0149d7951d0fb847ce4f33",
    "time": "2021-01-26T22:13:18.304Z",
    "type": "completion"
   },
   {
    "code": "import plotly.graph_objects as go\nfrom ipywidgets import interact\nimport numpy as np\n\nk = 1.38e-23  #Boltzmann constant in kg m^2 / (s^2 K)\nxs = np.arange(1, 2000)  #\n\ndef mb_dist(v,T,m):\n    m = 1.6e-27*m  # convert amu to kg\n    return 4*np.pi*(m/(2*np.pi*k*T))**1.5*np.exp(-m*v**2/(2*k*T))*v**2\n\n# Plotting\n\nfig = go.FigureWidget()\n\nline = fig.add_trace(go.Scatter(x=xs, y=mb_dist(xs, 50,30),\n                    mode='lines',\n                    name='lines'))\n\n@interact(Temperature=(1, 1000, 1), mass = (1, 50, 1))\ndef update(Temperature=50, mass=30):\n    with fig.batch_update():\n        fig.data[0].y=mb_dist(xs,Temperature,mass)\n        fig.data[0]['line']['color']='rgb({}, 0, 0)'.format(Temperature/3)\n\n# Formatting\n\nfig.layout = dict(yaxis=dict(range=[0,0.006]), xaxis=dict(range=[0,2000]), height=600)\n\nfig.update_layout(\n    title={\n        'text': \"Maxwell-Boltzmann Distribution\",\n        'y':0.9,\n        'x':0.5,\n        'xanchor': 'center',\n        'yanchor': 'top'})\n\nfig.update_xaxes(\n        title_text = \"molecular speed [m/s]\",\n        title_standoff = 25,\n        ticks = 'outside',\n        ticklen = 10,\n        tickcolor='white')\n\nfig.update_yaxes(\n        title_text = \"probability density\",\n        title_standoff = 25,\n        ticks = 'outside',\n        ticklen = 10,\n        tickcolor = 'white')\n\n# Display figure\nfig",
    "id": "7852846e2e0149d7951d0fb847ce4f33",
    "idx": 2,
    "time": "2021-01-26T22:17:29.933Z",
    "type": "execution"
   },
   {
    "id": "7852846e2e0149d7951d0fb847ce4f33",
    "time": "2021-01-26T22:17:30.176Z",
    "type": "completion"
   },
   {
    "code": "from IPython.display import HTML\n\nHTML('''<script>\ncode_show=true; \nfunction code_toggle() {\n if (code_show){\n $('div.input').hide();\n } else {\n $('div.input').show();\n }\n code_show = !code_show\n} \n$( document ).ready(code_toggle);\n</script>\n<form action=\"javascript:code_toggle()\"><input type=\"submit\" value=\"Click here to toggle on/off the raw code.\"></form>''')",
    "id": "faca72e609ba4c1196c86121b8cb8534",
    "idx": 2,
    "time": "2021-01-26T22:18:06.744Z",
    "type": "execution"
   },
   {
    "id": "faca72e609ba4c1196c86121b8cb8534",
    "time": "2021-01-26T22:18:06.812Z",
    "type": "completion"
   },
   {
    "code": "from IPython.display import HTML\n\nHTML('''<script>\ncode_show=true; \nfunction code_toggle() {\n if (code_show){\n $('div.input').hide();\n } else {\n $('div.input').show();\n }\n code_show = !code_show\n} \n$( document ).ready(code_toggle);\n</script>\n<form action=\"javascript:code_toggle()\"><input type=\"submit\" value=\"Click here to toggle on/off the raw code.\"></form>''')",
    "id": "faca72e609ba4c1196c86121b8cb8534",
    "idx": 2,
    "time": "2021-01-26T22:18:25.334Z",
    "type": "execution"
   },
   {
    "code": "import plotly.graph_objects as go\nfrom ipywidgets import interact\nimport numpy as np\n\nk = 1.38e-23  #Boltzmann constant in kg m^2 / (s^2 K)\nxs = np.arange(1, 2000)  #\n\ndef mb_dist(v,T,m):\n    m = 1.6e-27*m  # convert amu to kg\n    return 4*np.pi*(m/(2*np.pi*k*T))**1.5*np.exp(-m*v**2/(2*k*T))*v**2\n\n# Plotting\n\nfig = go.FigureWidget()\n\nline = fig.add_trace(go.Scatter(x=xs, y=mb_dist(xs, 50,30),\n                    mode='lines',\n                    name='lines'))\n\n@interact(Temperature=(1, 1000, 1), mass = (1, 50, 1))\ndef update(Temperature=50, mass=30):\n    with fig.batch_update():\n        fig.data[0].y=mb_dist(xs,Temperature,mass)\n        fig.data[0]['line']['color']='rgb({}, 0, 0)'.format(Temperature/3)\n\n# Formatting\n\nfig.layout = dict(yaxis=dict(range=[0,0.006]), xaxis=dict(range=[0,2000]), height=600)\n\nfig.update_layout(\n    title={\n        'text': \"Maxwell-Boltzmann Distribution\",\n        'y':0.9,\n        'x':0.5,\n        'xanchor': 'center',\n        'yanchor': 'top'})\n\nfig.update_xaxes(\n        title_text = \"molecular speed [m/s]\",\n        title_standoff = 25,\n        ticks = 'outside',\n        ticklen = 10,\n        tickcolor='white')\n\nfig.update_yaxes(\n        title_text = \"probability density\",\n        title_standoff = 25,\n        ticks = 'outside',\n        ticklen = 10,\n        tickcolor = 'white')\n\n# Display figure\nfig",
    "id": "7852846e2e0149d7951d0fb847ce4f33",
    "idx": 3,
    "time": "2021-01-26T22:18:25.336Z",
    "type": "execution"
   },
   {
    "id": "faca72e609ba4c1196c86121b8cb8534",
    "time": "2021-01-26T22:18:25.410Z",
    "type": "completion"
   },
   {
    "id": "7852846e2e0149d7951d0fb847ce4f33",
    "time": "2021-01-26T22:18:26.219Z",
    "type": "completion"
   },
   {
    "code": "from IPython.display import HTML\n\nHTML('''<script>\ncode_show=true; \nfunction code_toggle() {\n if (code_show){\n $('div.input').hide();\n } else {\n $('div.input').show();\n }\n code_show = !code_show\n} \n$( document ).ready(code_toggle);\n</script>\n<form action=\"javascript:code_toggle()\"><input type=\"submit\" value=\"Click here to toggle on/off the raw code.\"></form>''')",
    "id": "34189a4bd5a8431ea03bbc04712664bc",
    "idx": 2,
    "time": "2021-01-27T00:48:12.327Z",
    "type": "execution"
   },
   {
    "code": "import plotly.graph_objects as go\nfrom ipywidgets import interact\nimport numpy as np\n\nk = 1.38e-23  #Boltzmann constant in kg m^2 / (s^2 K)\nxs = np.arange(1, 2000)  #\n\ndef mb_dist(v,T,m):\n    m = 1.6e-27*m  # convert amu to kg\n    return 4*np.pi*(m/(2*np.pi*k*T))**1.5*np.exp(-m*v**2/(2*k*T))*v**2\n\n# Plotting\n\nfig = go.FigureWidget()\n\nline = fig.add_trace(go.Scatter(x=xs, y=mb_dist(xs, 50,30),\n                    mode='lines',\n                    name='lines'))\n\n@interact(Temperature=(1, 1000, 1), mass = (1, 50, 1))\ndef update(Temperature=50, mass=30):\n    with fig.batch_update():\n        fig.data[0].y=mb_dist(xs,Temperature,mass)\n        fig.data[0]['line']['color']='rgb({}, 0, 0)'.format(Temperature/3)\n\n# Formatting\n\nfig.layout = dict(yaxis=dict(range=[0,0.006]), xaxis=dict(range=[0,2000]), height=600)\n\nfig.update_layout(\n    title={\n        'text': \"Maxwell-Boltzmann Distribution\",\n        'y':0.9,\n        'x':0.5,\n        'xanchor': 'center',\n        'yanchor': 'top'})\n\nfig.update_xaxes(\n        title_text = \"molecular speed [m/s]\",\n        title_standoff = 25,\n        ticks = 'outside',\n        ticklen = 10,\n        tickcolor='white')\n\nfig.update_yaxes(\n        title_text = \"probability density\",\n        title_standoff = 25,\n        ticks = 'outside',\n        ticklen = 10,\n        tickcolor = 'white')\n\n# Display figure\nfig",
    "id": "03cd02f90f414fb3accf71091ef0915d",
    "idx": 3,
    "time": "2021-01-27T00:48:12.330Z",
    "type": "execution"
   },
   {
    "id": "34189a4bd5a8431ea03bbc04712664bc",
    "time": "2021-01-27T00:48:12.400Z",
    "type": "completion"
   },
   {
    "id": "03cd02f90f414fb3accf71091ef0915d",
    "time": "2021-01-27T00:48:13.167Z",
    "type": "completion"
   },
   {
    "code": "from IPython.display import HTML\n\nHTML('''<script>\ncode_show=true; \nfunction code_toggle() {\n if (code_show){\n $('div.input').hide();\n } else {\n $('div.input').show();\n }\n code_show = !code_show\n} \n$( document ).ready(code_toggle);\n</script>\n<form action=\"javascript:code_toggle()\"><input type=\"submit\" value=\"Click here to toggle on/off the raw code.\"></form>''')",
    "id": "694acd428a684dd080034b3994f19248",
    "idx": 2,
    "time": "2021-01-27T02:07:25.501Z",
    "type": "execution"
   },
   {
    "code": "import plotly.graph_objects as go\nfrom ipywidgets import interact\nimport numpy as np\n\nk = 1.38e-23  #Boltzmann constant in kg m^2 / (s^2 K)\nxs = np.arange(1, 2000)  #\n\ndef mb_dist(v,T,m):\n    m = 1.6e-27*m  # convert amu to kg\n    return 4*np.pi*(m/(2*np.pi*k*T))**1.5*np.exp(-m*v**2/(2*k*T))*v**2\n\n# Plotting\n\nfig = go.FigureWidget()\n\nline = fig.add_trace(go.Scatter(x=xs, y=mb_dist(xs, 50,30),\n                    mode='lines',\n                    name='lines'))\n\n@interact(Temperature=(1, 1000, 1), mass = (1, 50, 1))\ndef update(Temperature=50, mass=30):\n    with fig.batch_update():\n        fig.data[0].y=mb_dist(xs,Temperature,mass)\n        fig.data[0]['line']['color']='rgb({}, 0, 0)'.format(Temperature/3)\n\n# Formatting\n\nfig.layout = dict(yaxis=dict(range=[0,0.006]), xaxis=dict(range=[0,2000]), height=600)\n\nfig.update_layout(\n    title={\n        'text': \"Maxwell-Boltzmann Distribution\",\n        'y':0.9,\n        'x':0.5,\n        'xanchor': 'center',\n        'yanchor': 'top'})\n\nfig.update_xaxes(\n        title_text = \"molecular speed [m/s]\",\n        title_standoff = 25,\n        ticks = 'outside',\n        ticklen = 10,\n        tickcolor='white')\n\nfig.update_yaxes(\n        title_text = \"probability density\",\n        title_standoff = 25,\n        ticks = 'outside',\n        ticklen = 10,\n        tickcolor = 'white')\n\n# Display figure\nfig",
    "id": "8b8f92f803ae4d00870f1a92d7d48572",
    "idx": 3,
    "time": "2021-01-27T02:07:25.520Z",
    "type": "execution"
   },
   {
    "id": "694acd428a684dd080034b3994f19248",
    "time": "2021-01-27T02:07:25.583Z",
    "type": "completion"
   },
   {
    "id": "8b8f92f803ae4d00870f1a92d7d48572",
    "time": "2021-01-27T02:07:26.306Z",
    "type": "completion"
   }
  ],
  "kernelspec": {
   "display_name": "Python 3",
   "language": "python",
   "name": "python3"
  },
  "language_info": {
   "codemirror_mode": {
    "name": "ipython",
    "version": 3
   },
   "file_extension": ".py",
   "mimetype": "text/x-python",
   "name": "python",
   "nbconvert_exporter": "python",
   "pygments_lexer": "ipython3",
   "version": "3.7.4"
  }
 },
 "nbformat": 4,
 "nbformat_minor": 4
}
