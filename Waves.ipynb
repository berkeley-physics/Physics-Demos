{
 "cells": [
  {
   "cell_type": "markdown",
   "metadata": {},
   "source": [
    "## Instructions\n",
    "\n",
    "To use this notebook, click the \"Cell->Run All\" button in the menu above. Wait ~1 min while the demos load and then play around with the toggles!\n",
    "\n",
    "If you are on mobile\n",
    "- You will need to click the menu button to see the Cell dropdown\n",
    "- Sliders have a hard time dragging. Try clicking on where you want to end up instead"
   ]
  },
  {
   "cell_type": "code",
   "execution_count": null,
   "metadata": {},
   "outputs": [],
   "source": [
    "%matplotlib inline\n",
    "import ipywidgets as widgets\n",
    "import numpy as np\n",
    "import matplotlib.pyplot as plt\n",
    "import seaborn as sns\n",
    "from IPython.display import HTML\n",
    "from ipywidgets import interact, interactive, fixed, interact_manual\n",
    "from matplotlib import animation, rc\n",
    "sns.set_context('poster')"
   ]
  },
  {
   "cell_type": "markdown",
   "metadata": {},
   "source": [
    "# Visualize parameters of a sine wave"
   ]
  },
  {
   "cell_type": "code",
   "execution_count": null,
   "metadata": {},
   "outputs": [],
   "source": [
    "@interact(A=2, frequency=(1, 10, .5), phase=widgets.FloatSlider(0, min=0, max=2* np.pi, step=.3), continuous_update=False)\n",
    "def wave(A, frequency, phase):\n",
    "    plt.figure(figsize=(8,8))\n",
    "    plt.title(r\"$f(x) = A\\sin(\\omega(x - \\phi))$\")\n",
    "    x = np.linspace(-5, 5, 1001)\n",
    "    y = A * np.sin(frequency*(x - phase))\n",
    "    plt.axvline(phase, ls='--', label='phase (offset)')\n",
    "    plt.axvline(0, color='red')\n",
    "    plt.legend(loc='lower left')\n",
    "    plt.xlabel('x')\n",
    "    plt.ylabel('f(x)')\n",
    "    plt.plot(x, y)\n",
    "    plt.ylim(-10, 10)"
   ]
  },
  {
   "cell_type": "markdown",
   "metadata": {},
   "source": [
    "# Animated Sine Wave"
   ]
  },
  {
   "cell_type": "code",
   "execution_count": null,
   "metadata": {},
   "outputs": [],
   "source": [
    "%%capture\n",
    "fig, ax = plt.subplots()\n",
    "\n",
    "ax.set_xlim(( 0, 2))\n",
    "ax.set_ylim((-2, 2))\n",
    "\n",
    "ax.set_title(r\"$f(x, t) = \\sin(\\omega t - kx)$\")\n",
    "ax.set_xlabel('$x$')\n",
    "ax.set_ylabel('$f(x, t)$')\n",
    "line, = ax.plot([], [], lw=2);\n",
    "\n",
    "def init():\n",
    "    line.set_data([], [])\n",
    "    \n",
    "    return (line,)\n",
    "\n",
    "def animate(i):\n",
    "    x = np.linspace(0, 2, 1000)\n",
    "    y = np.sin(2 * np.pi * (x - 0.01 * i))\n",
    "    line.set_data(x, y)\n",
    "    return (line,)\n",
    "\n",
    "anim = animation.FuncAnimation(fig, animate, init_func=init,\n",
    "                               frames=100, interval=20, \n",
    "                               blit=True)"
   ]
  },
  {
   "cell_type": "code",
   "execution_count": null,
   "metadata": {},
   "outputs": [],
   "source": [
    "HTML(anim.to_jshtml())"
   ]
  },
  {
   "cell_type": "code",
   "execution_count": null,
   "metadata": {},
   "outputs": [],
   "source": []
  }
 ],
 "metadata": {
  "kernelspec": {
   "display_name": "Python 3",
   "language": "python",
   "name": "python3"
  },
  "language_info": {
   "codemirror_mode": {
    "name": "ipython",
    "version": 3
   },
   "file_extension": ".py",
   "mimetype": "text/x-python",
   "name": "python",
   "nbconvert_exporter": "python",
   "pygments_lexer": "ipython3",
   "version": "3.7.6"
  }
 },
 "nbformat": 4,
 "nbformat_minor": 4
}
