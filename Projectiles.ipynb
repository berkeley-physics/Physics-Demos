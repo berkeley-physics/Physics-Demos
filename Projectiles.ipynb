{
 "cells": [
  {
   "cell_type": "markdown",
   "metadata": {},
   "source": [
    "## Instructions\n",
    "\n",
    "To use this notebook, click the \"Cell->Run All\" button in the menu above. Wait ~1 min while the demos load and then play around with the toggles!\n",
    "\n",
    "If you are on mobile\n",
    "- You will need to click the menu button to see the Cell dropdown\n",
    "- Sliders have a hard time dragging. Try clicking on where you want to end up instead"
   ]
  },
  {
   "cell_type": "code",
   "execution_count": null,
   "metadata": {},
   "outputs": [],
   "source": [
    "%matplotlib inline\n",
    "import ipywidgets as widgets\n",
    "import numpy as np\n",
    "import matplotlib.pyplot as plt\n",
    "import seaborn as sns\n",
    "from IPython.display import HTML\n",
    "from ipywidgets import interact, interactive, fixed, interact_manual\n",
    "from matplotlib import animation, rc\n",
    "sns.set_context('poster')"
   ]
  },
  {
   "cell_type": "markdown",
   "metadata": {},
   "source": [
    "# Projectile Motion Animation"
   ]
  },
  {
   "cell_type": "code",
   "execution_count": null,
   "metadata": {},
   "outputs": [],
   "source": [
    "%%capture\n",
    "\n",
    "########### Physics\n",
    "v = 8 # magnitude in m/s \n",
    "theta = np.pi/2.5 # angle relative to the x_axis\n",
    "vx_0 = v * np.cos(theta)\n",
    "vy_0 = v * np.sin(theta)\n",
    "g = 9.8\n",
    "\n",
    "########### \n",
    "\n",
    "# Plotting code you can ignore\n",
    "fig_proj, ax = plt.subplots()\n",
    "\n",
    "\n",
    "line, = ax.plot([], [], lw=2);\n",
    "y_positions = []\n",
    "x_positions = []\n",
    "ax.set_xlim(( 0, 5))\n",
    "ax.set_ylim((-.5,  3.5))\n",
    "\n",
    "ax.set_title(\"Projectile Motion\")\n",
    "ax.set_xlabel('$x$')\n",
    "ax.set_ylabel('$y$')\n",
    "\n",
    "def init_proj():   \n",
    "    y_positions = []\n",
    "    x_positions = []\n",
    "    line.set_data([], [])\n",
    "\n",
    "    return (line, )\n",
    "\n",
    "def animate_proj(t):\n",
    "    dt = t/100\n",
    "    y_pos = vy_0 * dt - .5 * g * dt**2\n",
    "    x_pos = vx_0 * dt\n",
    "    y_positions.append(y_pos)\n",
    "    x_positions.append(x_pos)\n",
    "    line.set_data(x_positions, y_positions)\n",
    "    return (line, )\n",
    "\n",
    "proj = animation.FuncAnimation(fig_proj, animate_proj, init_func=init_proj,\n",
    "                               frames=160, interval=100, \n",
    "                               blit=True)"
   ]
  },
  {
   "cell_type": "code",
   "execution_count": null,
   "metadata": {},
   "outputs": [],
   "source": [
    "HTML(proj.to_jshtml())"
   ]
  },
  {
   "cell_type": "markdown",
   "metadata": {},
   "source": [
    "Notice how it looks like it \"hangs\". Calculate the fraction of time it spends in the top 15% of the height. was it more or less than what you expected based on real life experience and the simulation?"
   ]
  },
  {
   "cell_type": "markdown",
   "metadata": {},
   "source": [
    "# Hit the target!"
   ]
  },
  {
   "cell_type": "code",
   "execution_count": null,
   "metadata": {},
   "outputs": [],
   "source": [
    "@interact(angle=widgets.FloatSlider(45, min=0, max=90, description='angle (deg)'), continuous_update=False)\n",
    "def target_practice_a(angle):\n",
    "    plt.figure(figsize=(6,6))\n",
    "    v0 = 8 #m/s\n",
    "    plt.scatter(3, 1, marker='x')\n",
    "    t = np.linspace(0, 2, 41)\n",
    "    angle_rad = angle * np.pi/180\n",
    "    vx, vy = v0*np.cos(angle_rad), v0 * np.sin(angle_rad)\n",
    "    x = vx * t\n",
    "    y = vy * t - 9.8/2 * t**2\n",
    "    plt.scatter(x, y, marker='o', alpha=0.2)\n",
    "    plt.ylim(0, 7)\n",
    "    plt.xlim(0, 7)\n",
    "    plt.gca().set_aspect('equal')"
   ]
  },
  {
   "cell_type": "markdown",
   "metadata": {},
   "source": [
    "Questions: \n",
    "\n",
    "- How many angles can you find? \n",
    "- which one hits the target faster?\n",
    "- which one ultimately goes farther?\n",
    "- which one has longer hang time?\n",
    "- compare to $sin(2\\theta)$"
   ]
  },
  {
   "cell_type": "markdown",
   "metadata": {},
   "source": [
    "## Second target"
   ]
  },
  {
   "cell_type": "code",
   "execution_count": null,
   "metadata": {},
   "outputs": [],
   "source": [
    "@interact(angle=widgets.FloatText(45, description='angle (deg)'))\n",
    "def target_practice_b(angle):\n",
    "    plt.figure(figsize=(6,6))\n",
    "    v0 = 8 #m/s\n",
    "    plt.scatter(3, 2, marker='x')\n",
    "    t = np.linspace(0, 2, 41)\n",
    "    angle_rad = angle * np.pi/180\n",
    "    vx, vy = v0*np.cos(angle_rad), v0 * np.sin(angle_rad)\n",
    "    x = vx * t\n",
    "    y = vy * t - 9.8/2 * t**2\n",
    "    plt.scatter(x, y, marker='o', alpha=0.2)\n",
    "    plt.ylim(0, 7)\n",
    "    plt.xlim(0, 7)\n",
    "    plt.gca().set_aspect('equal')"
   ]
  },
  {
   "cell_type": "markdown",
   "metadata": {},
   "source": [
    "- How many angles can you find now?\n"
   ]
  },
  {
   "cell_type": "markdown",
   "metadata": {},
   "source": [
    "## Rolling a ball off the table"
   ]
  },
  {
   "cell_type": "markdown",
   "metadata": {},
   "source": [
    "Here we consider the \"experiment\" of shooting a ball off a table with horizontal velocity.\n",
    "We want to compare the motion of that ball with a ball that has just been dropped off the side.\n",
    "You can adjust the velocity of the ball being shot.\n",
    "The table will have a height of 1.2 m\n",
    "\n",
    "In this simulation, you should \n",
    "- identify the horizontal and vertical components of velocity throughout the experiment.\n",
    "- Compare the y position of the two balls\n",
    "\n"
   ]
  },
  {
   "cell_type": "code",
   "execution_count": null,
   "metadata": {},
   "outputs": [],
   "source": [
    "@interact(vx=(0, 10, 1), y_slices=False, x_slices=False, continuous_update=False)\n",
    "def table_shoot(vx, y_slices, x_slices):\n",
    "    plt.figure(figsize=(8,6))\n",
    "    h = 1.2 # meters\n",
    "    g = 9.8 # m/s^2\n",
    "    x_0 = .5\n",
    "    t = np.linspace(0, np.sqrt(2 * h/g), 11) # max t is given by sqrt(2h/g)\n",
    "    ball_drop_x = x_0 * np.ones_like(t)\n",
    "    ball_drop_y = 1.2 - .5 * g * t**2\n",
    "    \n",
    "    ball_shot_x = x_0 + vx * t\n",
    "    ball_shot_y = 1.2 - .5 * g * t**2\n",
    "    \n",
    "    plt.scatter(ball_drop_x, ball_drop_y, marker='o', alpha=0.2)\n",
    "    plt.scatter(ball_shot_x, ball_shot_y, marker='o', alpha=0.2)\n",
    "    if y_slices:\n",
    "        for y in ball_shot_y:\n",
    "            plt.axhline(y, ls='--', color='g', alpha=.3)\n",
    "    if x_slices:\n",
    "        for x in ball_shot_x:\n",
    "            plt.axvline(x, ls='--', color='r', alpha=.3)\n",
    "    plt.ylim(0, 1.5)\n",
    "    plt.xlim(0, 6)"
   ]
  },
  {
   "cell_type": "markdown",
   "metadata": {},
   "source": [
    "## Notes"
   ]
  },
  {
   "cell_type": "markdown",
   "metadata": {},
   "source": [
    "All dotted lines are ticked at equal time intervals. \n",
    "- What do you notice about the spacing between the x intervals and the y intervals?\n",
    "- what happens to both of these as the launch speed is increased?\n",
    "- How does the y motion of the dropped ball compare to the one that is launched to the right?\n",
    "- Explain how components of vectors ties in here."
   ]
  }
 ],
 "metadata": {
  "kernelspec": {
   "display_name": "Python 3",
   "language": "python",
   "name": "python3"
  },
  "language_info": {
   "codemirror_mode": {
    "name": "ipython",
    "version": 3
   },
   "file_extension": ".py",
   "mimetype": "text/x-python",
   "name": "python",
   "nbconvert_exporter": "python",
   "pygments_lexer": "ipython3",
   "version": "3.7.6"
  }
 },
 "nbformat": 4,
 "nbformat_minor": 4
}
